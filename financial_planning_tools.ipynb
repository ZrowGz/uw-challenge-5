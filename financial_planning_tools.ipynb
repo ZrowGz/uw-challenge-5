{
 "cells": [
  {
   "cell_type": "markdown",
   "metadata": {},
   "source": [
    "# Financial Planning with APIs and Simulations\n",
    "\n",
    "In this Challenge, you’ll create two financial analysis tools by using a single Jupyter notebook:\n",
    "\n",
    "Part 1: A financial planner for emergencies. The members will be able to use this tool to visualize their current savings. The members can then determine if they have enough reserves for an emergency fund.\n",
    "\n",
    "Part 2: A financial planner for retirement. This tool will forecast the performance of their retirement portfolio in 30 years. To do this, the tool will make an Alpaca API call via the Alpaca SDK to get historical price data for use in Monte Carlo simulations.\n",
    "\n",
    "You’ll use the information from the Monte Carlo simulation to answer questions about the portfolio in your Jupyter notebook.\n",
    "\n"
   ]
  },
  {
   "cell_type": "code",
   "execution_count": 32,
   "metadata": {},
   "outputs": [],
   "source": [
    "# Import the required libraries and dependencies\n",
    "import os\n",
    "import requests\n",
    "import json\n",
    "import pandas as pd\n",
    "from dotenv import load_dotenv\n",
    "import alpaca_trade_api as tradeapi\n",
    "from MCForecastTools import MCSimulation\n",
    "\n",
    "%matplotlib inline"
   ]
  },
  {
   "cell_type": "code",
   "execution_count": 33,
   "metadata": {},
   "outputs": [
    {
     "data": {
      "text/plain": [
       "True"
      ]
     },
     "execution_count": 33,
     "metadata": {},
     "output_type": "execute_result"
    }
   ],
   "source": [
    "# Load the environment variables from the .env file\n",
    "#by calling the load_dotenv function\n",
    "load_dotenv()"
   ]
  },
  {
   "cell_type": "markdown",
   "metadata": {},
   "source": [
    "## Part 1: Create a Financial Planner for Emergencies"
   ]
  },
  {
   "cell_type": "markdown",
   "metadata": {},
   "source": [
    "### Evaluate the Cryptocurrency Wallet by Using the Requests Library\n",
    "\n",
    "In this section, you’ll determine the current value of a member’s cryptocurrency wallet. You’ll collect the current prices for the Bitcoin and Ethereum cryptocurrencies by using the Python Requests library. For the prototype, you’ll assume that the member holds the 1.2 Bitcoins (BTC) and 5.3 Ethereum coins (ETH). To do all this, complete the following steps:\n",
    "\n",
    "1. Create a variable named `monthly_income`, and set its value to `12000`.\n",
    "\n",
    "2. Use the Requests library to get the current price (in US dollars) of Bitcoin (BTC) and Ethereum (ETH) by using the API endpoints that the starter code supplies.\n",
    "\n",
    "3. Navigate the JSON response object to access the current price of each coin, and store each in a variable.\n",
    "\n",
    "    > **Hint** Note the specific identifier for each cryptocurrency in the API JSON response. The Bitcoin identifier is `1`, and the Ethereum identifier is `1027`.\n",
    "\n",
    "4. Calculate the value, in US dollars, of the current amount of each cryptocurrency and of the entire cryptocurrency wallet.\n",
    "\n"
   ]
  },
  {
   "cell_type": "code",
   "execution_count": 34,
   "metadata": {},
   "outputs": [],
   "source": [
    "# The current number of coins for each cryptocurrency asset held in the portfolio.\n",
    "btc_coins = 1.2\n",
    "eth_coins = 5.3"
   ]
  },
  {
   "cell_type": "markdown",
   "metadata": {},
   "source": [
    "#### Step 1: Create a variable named `monthly_income`, and set its value to `12000`."
   ]
  },
  {
   "cell_type": "code",
   "execution_count": 35,
   "metadata": {},
   "outputs": [],
   "source": [
    "# The monthly amount for the member's household income\n",
    "monthly_income = 12000"
   ]
  },
  {
   "cell_type": "markdown",
   "metadata": {},
   "source": [
    "#### Review the endpoint URLs for the API calls to Free Crypto API in order to get the current pricing information for both BTC and ETH."
   ]
  },
  {
   "cell_type": "code",
   "execution_count": 36,
   "metadata": {},
   "outputs": [],
   "source": [
    "# The Free Crypto API Call endpoint URLs for the held cryptocurrency assets\n",
    "btc_url = \"https://api.alternative.me/v2/ticker/Bitcoin/?convert=USD\"\n",
    "eth_url = \"https://api.alternative.me/v2/ticker/Ethereum/?convert=USD\""
   ]
  },
  {
   "cell_type": "markdown",
   "metadata": {},
   "source": [
    "#### Step 2. Use the Requests library to get the current price (in US dollars) of Bitcoin (BTC) and Ethereum (ETH) by using the API endpoints that the starter code supplied."
   ]
  },
  {
   "cell_type": "code",
   "execution_count": 37,
   "metadata": {},
   "outputs": [
    {
     "name": "stdout",
     "output_type": "stream",
     "text": [
      "{\n",
      "    \"data\": {\n",
      "        \"1\": {\n",
      "            \"circulating_supply\": 18818656,\n",
      "            \"id\": 1,\n",
      "            \"last_updated\": 1631909656,\n",
      "            \"max_supply\": 21000000,\n",
      "            \"name\": \"Bitcoin\",\n",
      "            \"quotes\": {\n",
      "                \"USD\": {\n",
      "                    \"market_cap\": 895209743178,\n",
      "                    \"percent_change_1h\": 0.70013232575948,\n",
      "                    \"percent_change_24h\": 0.197406632897888,\n",
      "                    \"percent_change_7d\": 2.34541629959179,\n",
      "                    \"percentage_change_1h\": 0.70013232575948,\n",
      "                    \"percentage_change_24h\": 0.197406632897888,\n",
      "                    \"percentage_change_7d\": 2.34541629959179,\n",
      "                    \"price\": 47610.0,\n",
      "                    \"volume_24h\": 28258384059\n",
      "                }\n",
      "            },\n",
      "            \"rank\": 1,\n",
      "            \"symbol\": \"BTC\",\n",
      "            \"total_supply\": 18818656,\n",
      "            \"website_slug\": \"bitcoin\"\n",
      "        }\n",
      "    },\n",
      "    \"metadata\": {\n",
      "        \"error\": null,\n",
      "        \"num_cryptocurrencies\": 3105,\n",
      "        \"timestamp\": 1631909656\n",
      "    }\n",
      "}\n"
     ]
    }
   ],
   "source": [
    "# Using the Python requests library, make an API call to access the current price of BTC\n",
    "btc_response = requests.get(btc_url).json()\n",
    "\n",
    "# Use the json.dumps function to review the response data from the API call\n",
    "# Use the indent and sort_keys parameters to make the response object readable\n",
    "print(json.dumps(btc_response, indent=4, sort_keys=True))"
   ]
  },
  {
   "cell_type": "code",
   "execution_count": 38,
   "metadata": {},
   "outputs": [
    {
     "name": "stdout",
     "output_type": "stream",
     "text": [
      "{\n",
      "    \"data\": {\n",
      "        \"1027\": {\n",
      "            \"circulating_supply\": 117564926,\n",
      "            \"id\": 1027,\n",
      "            \"last_updated\": 1631909632,\n",
      "            \"max_supply\": 0,\n",
      "            \"name\": \"Ethereum\",\n",
      "            \"quotes\": {\n",
      "                \"USD\": {\n",
      "                    \"market_cap\": 402856258903,\n",
      "                    \"percent_change_1h\": 0.647035380942388,\n",
      "                    \"percent_change_24h\": -4.13010428264806,\n",
      "                    \"percent_change_7d\": -0.315345349372588,\n",
      "                    \"percentage_change_1h\": 0.647035380942388,\n",
      "                    \"percentage_change_24h\": -4.13010428264806,\n",
      "                    \"percentage_change_7d\": -0.315345349372588,\n",
      "                    \"price\": 3425.14,\n",
      "                    \"volume_24h\": 19391132940\n",
      "                }\n",
      "            },\n",
      "            \"rank\": 2,\n",
      "            \"symbol\": \"ETH\",\n",
      "            \"total_supply\": 117564926,\n",
      "            \"website_slug\": \"ethereum\"\n",
      "        }\n",
      "    },\n",
      "    \"metadata\": {\n",
      "        \"error\": null,\n",
      "        \"num_cryptocurrencies\": 3105,\n",
      "        \"timestamp\": 1631909632\n",
      "    }\n",
      "}\n"
     ]
    }
   ],
   "source": [
    "# Using the Python requests library, make an API call to access the current price ETH\n",
    "eth_response = requests.get(eth_url).json()\n",
    "\n",
    "# Use the json.dumps function to review the response data from the API call\n",
    "# Use the indent and sort_keys parameters to make the response object readable\n",
    "print(json.dumps(eth_response, indent=4, sort_keys=True))"
   ]
  },
  {
   "cell_type": "markdown",
   "metadata": {},
   "source": [
    "#### Step 3: Navigate the JSON response object to access the current price of each coin, and store each in a variable."
   ]
  },
  {
   "cell_type": "code",
   "execution_count": 39,
   "metadata": {},
   "outputs": [
    {
     "name": "stdout",
     "output_type": "stream",
     "text": [
      "The current USD price of Bitcoin is $47610.00.\n"
     ]
    }
   ],
   "source": [
    "# Navigate the BTC response object to access the current price of BTC\n",
    "btc_price = btc_response[\"data\"][\"1\"][\"quotes\"][\"USD\"][\"price\"]\n",
    "\n",
    "# Print the current price of BTC\n",
    "print(f\"The current USD price of Bitcoin is ${btc_price:.2f}.\")\n"
   ]
  },
  {
   "cell_type": "code",
   "execution_count": 40,
   "metadata": {},
   "outputs": [
    {
     "name": "stdout",
     "output_type": "stream",
     "text": [
      "The current USD price of Ethereum is $47610.00.\n"
     ]
    }
   ],
   "source": [
    "# Navigate the BTC response object to access the current price of ETH\n",
    "eth_price = eth_response[\"data\"][\"1027\"][\"quotes\"][\"USD\"][\"price\"]\n",
    "\n",
    "# Print the current price of ETH\n",
    "print(f\"The current USD price of Ethereum is ${btc_price:.2f}.\")\n"
   ]
  },
  {
   "cell_type": "markdown",
   "metadata": {},
   "source": [
    "### Step 4: Calculate the value, in US dollars, of the current amount of each cryptocurrency and of the entire cryptocurrency wallet."
   ]
  },
  {
   "cell_type": "code",
   "execution_count": 41,
   "metadata": {},
   "outputs": [
    {
     "name": "stdout",
     "output_type": "stream",
     "text": [
      "The current USD value of held BTC is $57132.00.\n"
     ]
    }
   ],
   "source": [
    "# Compute the current value of the BTC holding \n",
    "btc_value = btc_coins * btc_price\n",
    "\n",
    "# Print current value of your holding in BTC\n",
    "print(f\"The current USD value of held BTC is ${btc_value:.2f}.\")\n"
   ]
  },
  {
   "cell_type": "code",
   "execution_count": 42,
   "metadata": {},
   "outputs": [
    {
     "name": "stdout",
     "output_type": "stream",
     "text": [
      "The current USD value of held ETH is $18153.24.\n"
     ]
    }
   ],
   "source": [
    "# Compute the current value of the ETH holding \n",
    "eth_value = eth_coins * eth_price\n",
    "\n",
    "# Print current value of your holding in ETH\n",
    "print(f\"The current USD value of held ETH is ${eth_value:.2f}.\")\n"
   ]
  },
  {
   "cell_type": "code",
   "execution_count": 43,
   "metadata": {},
   "outputs": [
    {
     "name": "stdout",
     "output_type": "stream",
     "text": [
      "The current USD value of the portfolio is $75285.24.\n"
     ]
    }
   ],
   "source": [
    "# Compute the total value of the cryptocurrency wallet\n",
    "# Add the value of the BTC holding to the value of the ETH holding\n",
    "total_crypto_wallet = eth_value + btc_value\n",
    "\n",
    "# Print current cryptocurrency wallet balance\n",
    "print(f\"The current USD value of the portfolio is ${total_crypto_wallet:.2f}.\")\n"
   ]
  },
  {
   "cell_type": "markdown",
   "metadata": {
    "tags": []
   },
   "source": [
    "### Evaluate the Stock and Bond Holdings by Using the Alpaca SDK\n",
    "\n",
    "In this section, you’ll determine the current value of a member’s stock and bond holdings. You’ll make an API call to Alpaca via the Alpaca SDK to get the current closing prices of the SPDR S&P 500 ETF Trust (ticker: SPY) and of the iShares Core US Aggregate Bond ETF (ticker: AGG). For the prototype, assume that the member holds 110 shares of SPY, which represents the stock portion of their portfolio, and 200 shares of AGG, which represents the bond portion. To do all this, complete the following steps:\n",
    "\n",
    "1. In the `Starter_Code` folder, create an environment file (`.env`) to store the values of your Alpaca API key and Alpaca secret key.\n",
    "\n",
    "2. Set the variables for the Alpaca API and secret keys. Using the Alpaca SDK, create the Alpaca `tradeapi.REST` object. In this object, include the parameters for the Alpaca API key, the secret key, and the version number.\n",
    "\n",
    "3. Set the following parameters for the Alpaca API call:\n",
    "\n",
    "    - `tickers`: Use the tickers for the member’s stock and bond holdings.\n",
    "\n",
    "    - `timeframe`: Use a time frame of one day.\n",
    "\n",
    "    - `start_date` and `end_date`: Use the same date for these parameters, and format them with the date of the previous weekday (or `2020-08-07`). This is because you want the one closing price for the most-recent trading day.\n",
    "\n",
    "4. Get the current closing prices for `SPY` and `AGG` by using the Alpaca `get_barset` function. Format the response as a Pandas DataFrame by including the `df` property at the end of the `get_barset` function.\n",
    "\n",
    "5. Navigating the Alpaca response DataFrame, select the `SPY` and `AGG` closing prices, and store them as variables.\n",
    "\n",
    "6. Calculate the value, in US dollars, of the current amount of shares in each of the stock and bond portions of the portfolio, and print the results.\n"
   ]
  },
  {
   "cell_type": "markdown",
   "metadata": {},
   "source": [
    "#### Review the total number of shares held in both (SPY) and (AGG)."
   ]
  },
  {
   "cell_type": "code",
   "execution_count": 44,
   "metadata": {},
   "outputs": [],
   "source": [
    "# Current amount of shares held in both the stock (SPY) and bond (AGG) portion of the portfolio.\n",
    "spy_shares = 110\n",
    "agg_shares = 200\n"
   ]
  },
  {
   "cell_type": "markdown",
   "metadata": {},
   "source": [
    "#### Step 1: In the `Starter_Code` folder, create an environment file (`.env`) to store the values of your Alpaca API key and Alpaca secret key."
   ]
  },
  {
   "cell_type": "markdown",
   "metadata": {},
   "source": [
    "#### Step 2: Set the variables for the Alpaca API and secret keys. Using the Alpaca SDK, create the Alpaca `tradeapi.REST` object. In this object, include the parameters for the Alpaca API key, the secret key, and the version number."
   ]
  },
  {
   "cell_type": "code",
   "execution_count": 45,
   "metadata": {},
   "outputs": [],
   "source": [
    "# Set the variables for the Alpaca API and secret keys\n",
    "alpaca_api_key = os.getenv(\"ALPACA_API_KEY\")\n",
    "alpaca_secret_key = os.getenv(\"ALPACA_SECRET_KEY\")\n",
    "\n",
    "# Create the Alpaca tradeapi.REST object\n",
    "alpaca = tradeapi.REST(\n",
    "  alpaca_api_key,\n",
    "  alpaca_secret_key,\n",
    "  api_version = \"v2\"\n",
    ")"
   ]
  },
  {
   "cell_type": "markdown",
   "metadata": {},
   "source": [
    "#### Step 3: Set the following parameters for the Alpaca API call:\n",
    "\n",
    "- `tickers`: Use the tickers for the member’s stock and bond holdings.\n",
    "\n",
    "- `timeframe`: Use a time frame of one day.\n",
    "\n",
    "- `start_date` and `end_date`: Use the same date for these parameters, and format them with the date of the previous weekday (or `2020-08-07`). This is because you want the one closing price for the most-recent trading day.\n"
   ]
  },
  {
   "cell_type": "code",
   "execution_count": 46,
   "metadata": {},
   "outputs": [],
   "source": [
    "# Set the tickers for both the bond and stock portion of the portfolio\n",
    "tickers = ['SPY', 'AGG']\n",
    "\n",
    "# Set timeframe to 1D \n",
    "timeframe = \"1D\"\n",
    "\n",
    "# Format current date as ISO format\n",
    "# Set both the start and end date at the date of your prior weekday \n",
    "# This will give you the closing price of the previous trading day\n",
    "# Alternatively you can use a start and end date of 2020-08-07\n",
    "start_date = pd.Timestamp(\"2021-09-16\", tz=\"America/New_York\").isoformat()\n",
    "end_date = pd.Timestamp(\"2021-09-16\", tz=\"America/New_York\").isoformat()"
   ]
  },
  {
   "cell_type": "markdown",
   "metadata": {},
   "source": [
    "#### Step 4: Get the current closing prices for `SPY` and `AGG` by using the Alpaca `get_barset` function. Format the response as a Pandas DataFrame by including the `df` property at the end of the `get_barset` function."
   ]
  },
  {
   "cell_type": "code",
   "execution_count": 47,
   "metadata": {},
   "outputs": [
    {
     "data": {
      "text/html": [
       "<div>\n",
       "<style scoped>\n",
       "    .dataframe tbody tr th:only-of-type {\n",
       "        vertical-align: middle;\n",
       "    }\n",
       "\n",
       "    .dataframe tbody tr th {\n",
       "        vertical-align: top;\n",
       "    }\n",
       "\n",
       "    .dataframe thead tr th {\n",
       "        text-align: left;\n",
       "    }\n",
       "\n",
       "    .dataframe thead tr:last-of-type th {\n",
       "        text-align: right;\n",
       "    }\n",
       "</style>\n",
       "<table border=\"1\" class=\"dataframe\">\n",
       "  <thead>\n",
       "    <tr>\n",
       "      <th></th>\n",
       "      <th colspan=\"5\" halign=\"left\">AGG</th>\n",
       "      <th colspan=\"5\" halign=\"left\">SPY</th>\n",
       "    </tr>\n",
       "    <tr>\n",
       "      <th></th>\n",
       "      <th>open</th>\n",
       "      <th>high</th>\n",
       "      <th>low</th>\n",
       "      <th>close</th>\n",
       "      <th>volume</th>\n",
       "      <th>open</th>\n",
       "      <th>high</th>\n",
       "      <th>low</th>\n",
       "      <th>close</th>\n",
       "      <th>volume</th>\n",
       "    </tr>\n",
       "    <tr>\n",
       "      <th>time</th>\n",
       "      <th></th>\n",
       "      <th></th>\n",
       "      <th></th>\n",
       "      <th></th>\n",
       "      <th></th>\n",
       "      <th></th>\n",
       "      <th></th>\n",
       "      <th></th>\n",
       "      <th></th>\n",
       "      <th></th>\n",
       "    </tr>\n",
       "  </thead>\n",
       "  <tbody>\n",
       "    <tr>\n",
       "      <th>2021-09-16 00:00:00-04:00</th>\n",
       "      <td>115.95</td>\n",
       "      <td>116.11</td>\n",
       "      <td>115.905</td>\n",
       "      <td>115.99</td>\n",
       "      <td>3673608</td>\n",
       "      <td>447.32</td>\n",
       "      <td>448.36</td>\n",
       "      <td>444.02</td>\n",
       "      <td>447.14</td>\n",
       "      <td>69354318</td>\n",
       "    </tr>\n",
       "  </tbody>\n",
       "</table>\n",
       "</div>"
      ],
      "text/plain": [
       "                              AGG                                       SPY  \\\n",
       "                             open    high      low   close   volume    open   \n",
       "time                                                                          \n",
       "2021-09-16 00:00:00-04:00  115.95  116.11  115.905  115.99  3673608  447.32   \n",
       "\n",
       "                                                             \n",
       "                             high     low   close    volume  \n",
       "time                                                         \n",
       "2021-09-16 00:00:00-04:00  448.36  444.02  447.14  69354318  "
      ]
     },
     "execution_count": 47,
     "metadata": {},
     "output_type": "execute_result"
    }
   ],
   "source": [
    "# Use the Alpaca get_barset function to get current closing prices the portfolio\n",
    "# Be sure to set the `df` property after the function to format the response object as a DataFrame\n",
    "prices_df = alpaca.get_barset(\n",
    "  tickers,\n",
    "  timeframe,\n",
    "  start=start_date,\n",
    "  end=end_date,\n",
    ").df\n",
    "\n",
    "# Review the first 5 rows of the Alpaca DataFrame\n",
    "prices_df.head()"
   ]
  },
  {
   "cell_type": "markdown",
   "metadata": {},
   "source": [
    "#### Step 5: Navigating the Alpaca response DataFrame, select the `SPY` and `AGG` closing prices, and store them as variables."
   ]
  },
  {
   "cell_type": "code",
   "execution_count": null,
   "metadata": {},
   "outputs": [],
   "source": [
    "#"
   ]
  },
  {
   "cell_type": "code",
   "execution_count": 104,
   "metadata": {},
   "outputs": [
    {
     "name": "stdout",
     "output_type": "stream",
     "text": [
      "The close price of AGG is $115.99.\n"
     ]
    }
   ],
   "source": [
    "# Access the closing price for AGG from the Alpaca DataFrame\n",
    "# Converting the value to a floating point number \n",
    "agg_close_price = float(prices_df['AGG']['close'])\n",
    "\n",
    "# Print the AGG closing price\n",
    "print(f\"The close price of AGG is ${agg_close_price}.\")"
   ]
  },
  {
   "cell_type": "code",
   "execution_count": 103,
   "metadata": {},
   "outputs": [
    {
     "name": "stdout",
     "output_type": "stream",
     "text": [
      "The close price of SPY is $447.14.\n"
     ]
    }
   ],
   "source": [
    "# Access the closing price for SPY from the Alpaca DataFrame\n",
    "# Converting the value to a floating point number\n",
    "spy_close_price = float(prices_df['SPY']['close'])\n",
    "\n",
    "# Print the SPY closing price\n",
    "print(f\"The close price of SPY is ${spy_close_price}.\")"
   ]
  },
  {
   "cell_type": "markdown",
   "metadata": {},
   "source": [
    "#### Step 6: Calculate the value, in US dollars, of the current amount of shares in each of the stock and bond portions of the portfolio, and print the results."
   ]
  },
  {
   "cell_type": "code",
   "execution_count": 106,
   "metadata": {},
   "outputs": [
    {
     "name": "stdout",
     "output_type": "stream",
     "text": [
      "The total value of held AGG shares is $23198.0.\n"
     ]
    }
   ],
   "source": [
    "# Calculate the current value of the bond portion of the portfolio\n",
    "agg_value = agg_close_price * agg_shares\n",
    "\n",
    "# Print the current value of the bond portfolio\n",
    "print(f\"The total value of held AGG shares is ${agg_value}.\")"
   ]
  },
  {
   "cell_type": "code",
   "execution_count": 107,
   "metadata": {},
   "outputs": [
    {
     "name": "stdout",
     "output_type": "stream",
     "text": [
      "The total value of held AGG shares is $49185.4.\n"
     ]
    }
   ],
   "source": [
    "# Calculate the current value of the stock portion of the portfolio\n",
    "spy_value = spy_close_price * spy_shares\n",
    "\n",
    "# Print the current value of the stock portfolio\n",
    "print(f\"The total value of held AGG shares is ${spy_value}.\")"
   ]
  },
  {
   "cell_type": "code",
   "execution_count": 108,
   "metadata": {},
   "outputs": [
    {
     "name": "stdout",
     "output_type": "stream",
     "text": [
      "The total value of the portfolio is $72383.4.\n"
     ]
    }
   ],
   "source": [
    "# Calculate the total value of the stock and bond portion of the portfolio\n",
    "total_stocks_bonds = spy_value + agg_value\n",
    "\n",
    "# Print the current balance of the stock and bond portion of the portfolio\n",
    "print(f\"The total value of the stocks & bonds is ${total_stocks_bonds}.\")"
   ]
  },
  {
   "cell_type": "code",
   "execution_count": 109,
   "metadata": {},
   "outputs": [
    {
     "name": "stdout",
     "output_type": "stream",
     "text": [
      "The total value of the portfolio is $147668.642.\n"
     ]
    }
   ],
   "source": [
    "# Calculate the total value of the member's entire savings portfolio\n",
    "# Add the value of the cryptocurrency walled to the value of the total stocks and bonds\n",
    "total_portfolio = total_crypto_wallet + total_stocks_bonds\n",
    "\n",
    "# Print current cryptocurrency wallet balance\n",
    "print(f\"The total value of the portfolio is ${total_portfolio}.\")"
   ]
  },
  {
   "cell_type": "markdown",
   "metadata": {},
   "source": [
    "### Evaluate the Emergency Fund\n",
    "\n",
    "In this section, you’ll use the valuations for the cryptocurrency wallet and for the stock and bond portions of the portfolio to determine if the credit union member has enough savings to build an emergency fund into their financial plan. To do this, complete the following steps:\n",
    "\n",
    "1. Create a Python list named `savings_data` that has two elements. The first element contains the total value of the cryptocurrency wallet. The second element contains the total value of the stock and bond portions of the portfolio.\n",
    "\n",
    "2. Use the `savings_data` list to create a Pandas DataFrame named `savings_df`, and then display this DataFrame. The function to create the DataFrame should take the following three parameters:\n",
    "\n",
    "    - `savings_data`: Use the list that you just created.\n",
    "\n",
    "    - `columns`: Set this parameter equal to a Python list with a single value called `amount`.\n",
    "\n",
    "    - `index`: Set this parameter equal to a Python list with the values of `crypto` and `stock/bond`.\n",
    "\n",
    "3. Use the `savings_df` DataFrame to plot a pie chart that visualizes the composition of the member’s portfolio. The y-axis of the pie chart uses `amount`. Be sure to add a title.\n",
    "\n",
    "4. Using Python, determine if the current portfolio has enough to create an emergency fund as part of the member’s financial plan. Ideally, an emergency fund should equal to three times the member’s monthly income. To do this, implement the following steps:\n",
    "\n",
    "    1. Create a variable named `emergency_fund_value`, and set it equal to three times the value of the member’s `monthly_income` of $12000. (You set this earlier in Part 1).\n",
    "\n",
    "    2. Create a series of three if statements to determine if the member’s total portfolio is large enough to fund the emergency portfolio:\n",
    "\n",
    "        1. If the total portfolio value is greater than the emergency fund value, display a message congratulating the member for having enough money in this fund.\n",
    "\n",
    "        2. Else if the total portfolio value is equal to the emergency fund value, display a message congratulating the member on reaching this important financial goal.\n",
    "\n",
    "        3. Else the total portfolio is less than the emergency fund value, so display a message showing how many dollars away the member is from reaching the goal. (Subtract the total portfolio value from the emergency fund value.)\n"
   ]
  },
  {
   "cell_type": "markdown",
   "metadata": {},
   "source": [
    "#### Step 1: Create a Python list named `savings_data` that has two elements. The first element contains the total value of the cryptocurrency wallet. The second element contains the total value of the stock and bond portions of the portfolio."
   ]
  },
  {
   "cell_type": "code",
   "execution_count": 110,
   "metadata": {},
   "outputs": [
    {
     "data": {
      "text/plain": [
       "[75285.242, 72383.4]"
      ]
     },
     "execution_count": 110,
     "metadata": {},
     "output_type": "execute_result"
    }
   ],
   "source": [
    "# Consolidate financial assets data into a Python list\n",
    "savings_data = [total_crypto_wallet, total_stocks_bonds]\n",
    "\n",
    "# Review the Python list savings_data\n",
    "savings_data"
   ]
  },
  {
   "cell_type": "markdown",
   "metadata": {},
   "source": [
    "#### Step 2: Use the `savings_data` list to create a Pandas DataFrame named `savings_df`, and then display this DataFrame. The function to create the DataFrame should take the following three parameters:\n",
    "\n",
    "- `savings_data`: Use the list that you just created.\n",
    "\n",
    "- `columns`: Set this parameter equal to a Python list with a single value called `amount`.\n",
    "\n",
    "- `index`: Set this parameter equal to a Python list with the values of `crypto` and `stock/bond`.\n"
   ]
  },
  {
   "cell_type": "code",
   "execution_count": 118,
   "metadata": {},
   "outputs": [
    {
     "data": {
      "text/html": [
       "<div>\n",
       "<style scoped>\n",
       "    .dataframe tbody tr th:only-of-type {\n",
       "        vertical-align: middle;\n",
       "    }\n",
       "\n",
       "    .dataframe tbody tr th {\n",
       "        vertical-align: top;\n",
       "    }\n",
       "\n",
       "    .dataframe thead th {\n",
       "        text-align: right;\n",
       "    }\n",
       "</style>\n",
       "<table border=\"1\" class=\"dataframe\">\n",
       "  <thead>\n",
       "    <tr style=\"text-align: right;\">\n",
       "      <th></th>\n",
       "      <th>amount</th>\n",
       "    </tr>\n",
       "  </thead>\n",
       "  <tbody>\n",
       "    <tr>\n",
       "      <th>crypto</th>\n",
       "      <td>75285.242</td>\n",
       "    </tr>\n",
       "    <tr>\n",
       "      <th>stock/bond</th>\n",
       "      <td>72383.400</td>\n",
       "    </tr>\n",
       "  </tbody>\n",
       "</table>\n",
       "</div>"
      ],
      "text/plain": [
       "               amount\n",
       "crypto      75285.242\n",
       "stock/bond  72383.400"
      ]
     },
     "execution_count": 118,
     "metadata": {},
     "output_type": "execute_result"
    }
   ],
   "source": [
    "# setting the column as a list is not recommended: \n",
    "# https://stackoverflow.com/questions/52552198/how-to-set-the-value-of-a-pandas-column-as-list\n",
    "\n",
    "# Create a Pandas DataFrame called savings_df \n",
    "savings_df = pd.DataFrame(\n",
    "    savings_data,\n",
    "    columns=([\"amount\"]),\n",
    "    index=([\"crypto\", \"stock/bond\"])\n",
    ")\n",
    "\n",
    "# Display the savings_df DataFrame\n",
    "savings_df"
   ]
  },
  {
   "cell_type": "markdown",
   "metadata": {},
   "source": [
    "#### Step 3: Use the `savings_df` DataFrame to plot a pie chart that visualizes the composition of the member’s portfolio. The y-axis of the pie chart uses `amount`. Be sure to add a title."
   ]
  },
  {
   "cell_type": "code",
   "execution_count": 119,
   "metadata": {},
   "outputs": [
    {
     "data": {
      "text/plain": [
       "<matplotlib.axes._subplots.AxesSubplot at 0x7f9201848310>"
      ]
     },
     "execution_count": 119,
     "metadata": {},
     "output_type": "execute_result"
    },
    {
     "data": {
      "image/png": "[encoded data removed]",
      "text/plain": [
       "<Figure size 432x288 with 1 Axes>"
      ]
     },
     "metadata": {},
     "output_type": "display_data"
    }
   ],
   "source": [
    "# Plot the total value of the member's portfolio (crypto and stock/bond) in a pie chart\n",
    "savings_df.plot.pie(y='amount', title='Portfolio Composition')"
   ]
  },
  {
   "cell_type": "markdown",
   "metadata": {},
   "source": [
    "#### Step 4: Using Python, determine if the current portfolio has enough to create an emergency fund as part of the member’s financial plan. Ideally, an emergency fund should equal to three times the member’s monthly income. To do this, implement the following steps:\n",
    "\n",
    "Step 1. Create a variable named `emergency_fund_value`, and set it equal to three times the value of the member’s `monthly_income` of 12000. (You set this earlier in Part 1).\n",
    "\n",
    "Step 2. Create a series of three if statements to determine if the member’s total portfolio is large enough to fund the emergency portfolio:\n",
    "\n",
    "* If the total portfolio value is greater than the emergency fund value, display a message congratulating the member for having enough money in this fund.\n",
    "\n",
    "* Else if the total portfolio value is equal to the emergency fund value, display a message congratulating the member on reaching this important financial goal.\n",
    "\n",
    "* Else the total portfolio is less than the emergency fund value, so display a message showing how many dollars away the member is from reaching the goal. (Subtract the total portfolio value from the emergency fund value.)\n"
   ]
  },
  {
   "cell_type": "markdown",
   "metadata": {},
   "source": [
    "##### Step 4-1: Create a variable named `emergency_fund_value`, and set it equal to three times the value of the member’s `monthly_income` of 12000. (You set this earlier in Part 1)."
   ]
  },
  {
   "cell_type": "code",
   "execution_count": 128,
   "metadata": {},
   "outputs": [
    {
     "name": "stdout",
     "output_type": "stream",
     "text": [
      "The amount needed as an emergency fund is $36000.\n"
     ]
    }
   ],
   "source": [
    "# Create a variable named emergency_fund_value\n",
    "emergency_fund_value = 3 * monthly_income\n",
    "print(f\"The amount needed as an emergency fund is ${emergency_fund_value}.\")"
   ]
  },
  {
   "cell_type": "markdown",
   "metadata": {},
   "source": [
    "##### Step 4-2: Create a series of three if statements to determine if the member’s total portfolio is large enough to fund the emergency portfolio:\n",
    "\n",
    "* If the total portfolio value is greater than the emergency fund value, display a message congratulating the member for having enough money in this fund.\n",
    "\n",
    "* Else if the total portfolio value is equal to the emergency fund value, display a message congratulating the member on reaching this important financial goal.\n",
    "\n",
    "* Else the total portfolio is less than the emergency fund value, so display a message showing how many dollars away the member is from reaching the goal. (Subtract the total portfolio value from the emergency fund value.)"
   ]
  },
  {
   "cell_type": "code",
   "execution_count": 129,
   "metadata": {},
   "outputs": [
    {
     "name": "stdout",
     "output_type": "stream",
     "text": [
      "Congrats! You've saved more than enough to have a good emergency fund reserve!\n"
     ]
    }
   ],
   "source": [
    "# Evaluate the possibility of creating an emergency fund with 3 conditions:\n",
    "if total_portfolio > emergency_fund_value:\n",
    "    print(\"Congrats! You've saved more than enough to have a good emergency fund reserve!\")\n",
    "elif total_portfolio == emergency_fund_value:\n",
    "    print(\"Good job! You've met your financial goal of having a 3 month emergency fund. Keep going!\")\n",
    "else: \n",
    "    print(f\"Keep saving! Although you don't yet have enough saved for an emergency fund, you only need ${(emergency_fund_value - total_portfolio):.2f} more to reach your goal!\")"
   ]
  },
  {
   "cell_type": "markdown",
   "metadata": {},
   "source": [
    "## Part 2: Create a Financial Planner for Retirement"
   ]
  },
  {
   "cell_type": "markdown",
   "metadata": {},
   "source": [
    "### Create the Monte Carlo Simulation\n",
    "\n",
    "In this section, you’ll use the MCForecastTools library to create a Monte Carlo simulation for the member’s savings portfolio. To do this, complete the following steps:\n",
    "\n",
    "1. Make an API call via the Alpaca SDK to get 3 years of historical closing prices for a traditional 60/40 portfolio split: 60% stocks (SPY) and 40% bonds (AGG).\n",
    "\n",
    "2. Run a Monte Carlo simulation of 500 samples and 30 years for the 60/40 portfolio, and then plot the results.The following image shows the overlay line plot resulting from a simulation with these characteristics. However, because a random number generator is used to run each live Monte Carlo simulation, your image will differ slightly from this exact image:\n",
    "\n",
    "![A screenshot depicts the resulting plot.](Images/5-4-monte-carlo-line-plot.png)\n",
    "\n",
    "3. Plot the probability distribution of the Monte Carlo simulation. Plot the probability distribution of the Monte Carlo simulation. The following image shows the histogram plot resulting from a simulation with these characteristics. However, because a random number generator is used to run each live Monte Carlo simulation, your image will differ slightly from this exact image:\n",
    "\n",
    "![A screenshot depicts the histogram plot.](Images/5-4-monte-carlo-histogram.png)\n",
    "\n",
    "4. Generate the summary statistics for the Monte Carlo simulation.\n",
    "\n"
   ]
  },
  {
   "cell_type": "markdown",
   "metadata": {},
   "source": [
    "#### Step 1: Make an API call via the Alpaca SDK to get 3 years of historical closing prices for a traditional 60/40 portfolio split: 60% stocks (SPY) and 40% bonds (AGG)."
   ]
  },
  {
   "cell_type": "code",
   "execution_count": 130,
   "metadata": {},
   "outputs": [],
   "source": [
    "# Set start and end dates of 3 years back from your current date\n",
    "# Alternatively, you can use an end date of 2020-08-07 and work 3 years back from that date \n",
    "start_date = pd.Timestamp(\"2018-09-16\", tz=\"America/New_York\").isoformat()\n",
    "end_date = pd.Timestamp(\"2021-09-16\", tz=\"America/New_York\").isoformat()\n",
    "\n",
    "# Set number of rows to 1000 to retrieve the maximum amount of rows\n",
    "limit_rows = 1000"
   ]
  },
  {
   "cell_type": "code",
   "execution_count": 218,
   "metadata": {},
   "outputs": [
    {
     "data": {
      "text/plain": [
       "['SPY', 'AGG']"
      ]
     },
     "execution_count": 218,
     "metadata": {},
     "output_type": "execute_result"
    }
   ],
   "source": [
    "tickers"
   ]
  },
  {
   "cell_type": "code",
   "execution_count": 132,
   "metadata": {},
   "outputs": [
    {
     "data": {
      "text/html": [
       "<div>\n",
       "<style scoped>\n",
       "    .dataframe tbody tr th:only-of-type {\n",
       "        vertical-align: middle;\n",
       "    }\n",
       "\n",
       "    .dataframe tbody tr th {\n",
       "        vertical-align: top;\n",
       "    }\n",
       "\n",
       "    .dataframe thead tr th {\n",
       "        text-align: left;\n",
       "    }\n",
       "\n",
       "    .dataframe thead tr:last-of-type th {\n",
       "        text-align: right;\n",
       "    }\n",
       "</style>\n",
       "<table border=\"1\" class=\"dataframe\">\n",
       "  <thead>\n",
       "    <tr>\n",
       "      <th></th>\n",
       "      <th colspan=\"5\" halign=\"left\">AGG</th>\n",
       "      <th colspan=\"5\" halign=\"left\">SPY</th>\n",
       "    </tr>\n",
       "    <tr>\n",
       "      <th></th>\n",
       "      <th>open</th>\n",
       "      <th>high</th>\n",
       "      <th>low</th>\n",
       "      <th>close</th>\n",
       "      <th>volume</th>\n",
       "      <th>open</th>\n",
       "      <th>high</th>\n",
       "      <th>low</th>\n",
       "      <th>close</th>\n",
       "      <th>volume</th>\n",
       "    </tr>\n",
       "    <tr>\n",
       "      <th>time</th>\n",
       "      <th></th>\n",
       "      <th></th>\n",
       "      <th></th>\n",
       "      <th></th>\n",
       "      <th></th>\n",
       "      <th></th>\n",
       "      <th></th>\n",
       "      <th></th>\n",
       "      <th></th>\n",
       "      <th></th>\n",
       "    </tr>\n",
       "  </thead>\n",
       "  <tbody>\n",
       "    <tr>\n",
       "      <th>2018-09-17 00:00:00-04:00</th>\n",
       "      <td>105.65</td>\n",
       "      <td>105.78</td>\n",
       "      <td>105.6000</td>\n",
       "      <td>105.660</td>\n",
       "      <td>5198364.0</td>\n",
       "      <td>290.82</td>\n",
       "      <td>290.86</td>\n",
       "      <td>289.030</td>\n",
       "      <td>289.34</td>\n",
       "      <td>43382137</td>\n",
       "    </tr>\n",
       "    <tr>\n",
       "      <th>2018-09-18 00:00:00-04:00</th>\n",
       "      <td>105.59</td>\n",
       "      <td>105.60</td>\n",
       "      <td>105.3900</td>\n",
       "      <td>105.430</td>\n",
       "      <td>2194556.0</td>\n",
       "      <td>289.57</td>\n",
       "      <td>291.58</td>\n",
       "      <td>289.550</td>\n",
       "      <td>290.90</td>\n",
       "      <td>38573521</td>\n",
       "    </tr>\n",
       "    <tr>\n",
       "      <th>2018-09-19 00:00:00-04:00</th>\n",
       "      <td>105.42</td>\n",
       "      <td>105.43</td>\n",
       "      <td>105.2200</td>\n",
       "      <td>105.270</td>\n",
       "      <td>2605609.0</td>\n",
       "      <td>290.97</td>\n",
       "      <td>291.69</td>\n",
       "      <td>290.825</td>\n",
       "      <td>291.25</td>\n",
       "      <td>34596543</td>\n",
       "    </tr>\n",
       "    <tr>\n",
       "      <th>2018-09-20 00:00:00-04:00</th>\n",
       "      <td>105.23</td>\n",
       "      <td>105.45</td>\n",
       "      <td>105.2300</td>\n",
       "      <td>105.370</td>\n",
       "      <td>2627111.0</td>\n",
       "      <td>292.64</td>\n",
       "      <td>293.94</td>\n",
       "      <td>292.510</td>\n",
       "      <td>293.55</td>\n",
       "      <td>54097569</td>\n",
       "    </tr>\n",
       "    <tr>\n",
       "      <th>2018-09-21 00:00:00-04:00</th>\n",
       "      <td>105.34</td>\n",
       "      <td>105.47</td>\n",
       "      <td>105.3232</td>\n",
       "      <td>105.465</td>\n",
       "      <td>2420806.0</td>\n",
       "      <td>293.09</td>\n",
       "      <td>293.22</td>\n",
       "      <td>291.810</td>\n",
       "      <td>292.01</td>\n",
       "      <td>45805544</td>\n",
       "    </tr>\n",
       "  </tbody>\n",
       "</table>\n",
       "</div>"
      ],
      "text/plain": [
       "                              AGG                                        \\\n",
       "                             open    high       low    close     volume   \n",
       "time                                                                      \n",
       "2018-09-17 00:00:00-04:00  105.65  105.78  105.6000  105.660  5198364.0   \n",
       "2018-09-18 00:00:00-04:00  105.59  105.60  105.3900  105.430  2194556.0   \n",
       "2018-09-19 00:00:00-04:00  105.42  105.43  105.2200  105.270  2605609.0   \n",
       "2018-09-20 00:00:00-04:00  105.23  105.45  105.2300  105.370  2627111.0   \n",
       "2018-09-21 00:00:00-04:00  105.34  105.47  105.3232  105.465  2420806.0   \n",
       "\n",
       "                              SPY                                     \n",
       "                             open    high      low   close    volume  \n",
       "time                                                                  \n",
       "2018-09-17 00:00:00-04:00  290.82  290.86  289.030  289.34  43382137  \n",
       "2018-09-18 00:00:00-04:00  289.57  291.58  289.550  290.90  38573521  \n",
       "2018-09-19 00:00:00-04:00  290.97  291.69  290.825  291.25  34596543  \n",
       "2018-09-20 00:00:00-04:00  292.64  293.94  292.510  293.55  54097569  \n",
       "2018-09-21 00:00:00-04:00  293.09  293.22  291.810  292.01  45805544  "
      ]
     },
     "metadata": {},
     "output_type": "display_data"
    },
    {
     "data": {
      "text/html": [
       "<div>\n",
       "<style scoped>\n",
       "    .dataframe tbody tr th:only-of-type {\n",
       "        vertical-align: middle;\n",
       "    }\n",
       "\n",
       "    .dataframe tbody tr th {\n",
       "        vertical-align: top;\n",
       "    }\n",
       "\n",
       "    .dataframe thead tr th {\n",
       "        text-align: left;\n",
       "    }\n",
       "\n",
       "    .dataframe thead tr:last-of-type th {\n",
       "        text-align: right;\n",
       "    }\n",
       "</style>\n",
       "<table border=\"1\" class=\"dataframe\">\n",
       "  <thead>\n",
       "    <tr>\n",
       "      <th></th>\n",
       "      <th colspan=\"5\" halign=\"left\">AGG</th>\n",
       "      <th colspan=\"5\" halign=\"left\">SPY</th>\n",
       "    </tr>\n",
       "    <tr>\n",
       "      <th></th>\n",
       "      <th>open</th>\n",
       "      <th>high</th>\n",
       "      <th>low</th>\n",
       "      <th>close</th>\n",
       "      <th>volume</th>\n",
       "      <th>open</th>\n",
       "      <th>high</th>\n",
       "      <th>low</th>\n",
       "      <th>close</th>\n",
       "      <th>volume</th>\n",
       "    </tr>\n",
       "    <tr>\n",
       "      <th>time</th>\n",
       "      <th></th>\n",
       "      <th></th>\n",
       "      <th></th>\n",
       "      <th></th>\n",
       "      <th></th>\n",
       "      <th></th>\n",
       "      <th></th>\n",
       "      <th></th>\n",
       "      <th></th>\n",
       "      <th></th>\n",
       "    </tr>\n",
       "  </thead>\n",
       "  <tbody>\n",
       "    <tr>\n",
       "      <th>2021-09-10 00:00:00-04:00</th>\n",
       "      <td>115.99</td>\n",
       "      <td>116.0100</td>\n",
       "      <td>115.7801</td>\n",
       "      <td>115.87</td>\n",
       "      <td>2767552.0</td>\n",
       "      <td>451.04</td>\n",
       "      <td>451.49</td>\n",
       "      <td>445.31</td>\n",
       "      <td>445.50</td>\n",
       "      <td>75763259</td>\n",
       "    </tr>\n",
       "    <tr>\n",
       "      <th>2021-09-13 00:00:00-04:00</th>\n",
       "      <td>116.00</td>\n",
       "      <td>116.0750</td>\n",
       "      <td>115.9600</td>\n",
       "      <td>116.03</td>\n",
       "      <td>3289881.0</td>\n",
       "      <td>448.65</td>\n",
       "      <td>448.92</td>\n",
       "      <td>444.11</td>\n",
       "      <td>446.56</td>\n",
       "      <td>75103627</td>\n",
       "    </tr>\n",
       "    <tr>\n",
       "      <th>2021-09-14 00:00:00-04:00</th>\n",
       "      <td>116.07</td>\n",
       "      <td>116.3800</td>\n",
       "      <td>116.0700</td>\n",
       "      <td>116.28</td>\n",
       "      <td>4036304.0</td>\n",
       "      <td>448.12</td>\n",
       "      <td>448.34</td>\n",
       "      <td>443.22</td>\n",
       "      <td>444.18</td>\n",
       "      <td>67959711</td>\n",
       "    </tr>\n",
       "    <tr>\n",
       "      <th>2021-09-15 00:00:00-04:00</th>\n",
       "      <td>116.29</td>\n",
       "      <td>116.2929</td>\n",
       "      <td>116.0900</td>\n",
       "      <td>116.19</td>\n",
       "      <td>3348036.0</td>\n",
       "      <td>444.62</td>\n",
       "      <td>448.41</td>\n",
       "      <td>443.44</td>\n",
       "      <td>447.87</td>\n",
       "      <td>69265024</td>\n",
       "    </tr>\n",
       "    <tr>\n",
       "      <th>2021-09-16 00:00:00-04:00</th>\n",
       "      <td>115.95</td>\n",
       "      <td>116.1100</td>\n",
       "      <td>115.9050</td>\n",
       "      <td>115.99</td>\n",
       "      <td>3673608.0</td>\n",
       "      <td>447.32</td>\n",
       "      <td>448.36</td>\n",
       "      <td>444.02</td>\n",
       "      <td>447.14</td>\n",
       "      <td>69354318</td>\n",
       "    </tr>\n",
       "  </tbody>\n",
       "</table>\n",
       "</div>"
      ],
      "text/plain": [
       "                              AGG                                         \\\n",
       "                             open      high       low   close     volume   \n",
       "time                                                                       \n",
       "2021-09-10 00:00:00-04:00  115.99  116.0100  115.7801  115.87  2767552.0   \n",
       "2021-09-13 00:00:00-04:00  116.00  116.0750  115.9600  116.03  3289881.0   \n",
       "2021-09-14 00:00:00-04:00  116.07  116.3800  116.0700  116.28  4036304.0   \n",
       "2021-09-15 00:00:00-04:00  116.29  116.2929  116.0900  116.19  3348036.0   \n",
       "2021-09-16 00:00:00-04:00  115.95  116.1100  115.9050  115.99  3673608.0   \n",
       "\n",
       "                              SPY                                    \n",
       "                             open    high     low   close    volume  \n",
       "time                                                                 \n",
       "2021-09-10 00:00:00-04:00  451.04  451.49  445.31  445.50  75763259  \n",
       "2021-09-13 00:00:00-04:00  448.65  448.92  444.11  446.56  75103627  \n",
       "2021-09-14 00:00:00-04:00  448.12  448.34  443.22  444.18  67959711  \n",
       "2021-09-15 00:00:00-04:00  444.62  448.41  443.44  447.87  69265024  \n",
       "2021-09-16 00:00:00-04:00  447.32  448.36  444.02  447.14  69354318  "
      ]
     },
     "metadata": {},
     "output_type": "display_data"
    }
   ],
   "source": [
    "# Use the Alpaca get_barset function to make the API call to get the 3 years worth of pricing data\n",
    "# The tickers and timeframe parameters should have been set in Part 1 of this activity \n",
    "# The start and end dates should be updated with the information set above\n",
    "# Remember to add the df property to the end of the call so the response is returned as a DataFrame\n",
    "portfolio_df = alpaca.get_barset(\n",
    "  tickers,\n",
    "  timeframe,\n",
    "  start=start_date,\n",
    "  end=end_date,\n",
    "  limit=limit_rows\n",
    ").df\n",
    "\n",
    "# Display both the first and last five rows of the DataFrame\n",
    "display(portfolio_df.head())\n",
    "display(portfolio_df.tail())"
   ]
  },
  {
   "cell_type": "markdown",
   "metadata": {},
   "source": [
    "#### Step 2: Run a Monte Carlo simulation of 500 samples and 30 years for the 60/40 portfolio, and then plot the results."
   ]
  },
  {
   "cell_type": "code",
   "execution_count": 223,
   "metadata": {
    "tags": []
   },
   "outputs": [
    {
     "data": {
      "text/html": [
       "<div>\n",
       "<style scoped>\n",
       "    .dataframe tbody tr th:only-of-type {\n",
       "        vertical-align: middle;\n",
       "    }\n",
       "\n",
       "    .dataframe tbody tr th {\n",
       "        vertical-align: top;\n",
       "    }\n",
       "\n",
       "    .dataframe thead tr th {\n",
       "        text-align: left;\n",
       "    }\n",
       "\n",
       "    .dataframe thead tr:last-of-type th {\n",
       "        text-align: right;\n",
       "    }\n",
       "</style>\n",
       "<table border=\"1\" class=\"dataframe\">\n",
       "  <thead>\n",
       "    <tr>\n",
       "      <th></th>\n",
       "      <th colspan=\"6\" halign=\"left\">AGG</th>\n",
       "      <th colspan=\"6\" halign=\"left\">SPY</th>\n",
       "    </tr>\n",
       "    <tr>\n",
       "      <th></th>\n",
       "      <th>open</th>\n",
       "      <th>high</th>\n",
       "      <th>low</th>\n",
       "      <th>close</th>\n",
       "      <th>volume</th>\n",
       "      <th>daily_return</th>\n",
       "      <th>open</th>\n",
       "      <th>high</th>\n",
       "      <th>low</th>\n",
       "      <th>close</th>\n",
       "      <th>volume</th>\n",
       "      <th>daily_return</th>\n",
       "    </tr>\n",
       "    <tr>\n",
       "      <th>time</th>\n",
       "      <th></th>\n",
       "      <th></th>\n",
       "      <th></th>\n",
       "      <th></th>\n",
       "      <th></th>\n",
       "      <th></th>\n",
       "      <th></th>\n",
       "      <th></th>\n",
       "      <th></th>\n",
       "      <th></th>\n",
       "      <th></th>\n",
       "      <th></th>\n",
       "    </tr>\n",
       "  </thead>\n",
       "  <tbody>\n",
       "    <tr>\n",
       "      <th>2018-09-17 00:00:00-04:00</th>\n",
       "      <td>105.65</td>\n",
       "      <td>105.78</td>\n",
       "      <td>105.6000</td>\n",
       "      <td>105.660</td>\n",
       "      <td>5198364.0</td>\n",
       "      <td>NaN</td>\n",
       "      <td>290.82</td>\n",
       "      <td>290.86</td>\n",
       "      <td>289.030</td>\n",
       "      <td>289.34</td>\n",
       "      <td>43382137</td>\n",
       "      <td>NaN</td>\n",
       "    </tr>\n",
       "    <tr>\n",
       "      <th>2018-09-18 00:00:00-04:00</th>\n",
       "      <td>105.59</td>\n",
       "      <td>105.60</td>\n",
       "      <td>105.3900</td>\n",
       "      <td>105.430</td>\n",
       "      <td>2194556.0</td>\n",
       "      <td>-0.002177</td>\n",
       "      <td>289.57</td>\n",
       "      <td>291.58</td>\n",
       "      <td>289.550</td>\n",
       "      <td>290.90</td>\n",
       "      <td>38573521</td>\n",
       "      <td>0.005392</td>\n",
       "    </tr>\n",
       "    <tr>\n",
       "      <th>2018-09-19 00:00:00-04:00</th>\n",
       "      <td>105.42</td>\n",
       "      <td>105.43</td>\n",
       "      <td>105.2200</td>\n",
       "      <td>105.270</td>\n",
       "      <td>2605609.0</td>\n",
       "      <td>-0.001518</td>\n",
       "      <td>290.97</td>\n",
       "      <td>291.69</td>\n",
       "      <td>290.825</td>\n",
       "      <td>291.25</td>\n",
       "      <td>34596543</td>\n",
       "      <td>0.001203</td>\n",
       "    </tr>\n",
       "    <tr>\n",
       "      <th>2018-09-20 00:00:00-04:00</th>\n",
       "      <td>105.23</td>\n",
       "      <td>105.45</td>\n",
       "      <td>105.2300</td>\n",
       "      <td>105.370</td>\n",
       "      <td>2627111.0</td>\n",
       "      <td>0.000950</td>\n",
       "      <td>292.64</td>\n",
       "      <td>293.94</td>\n",
       "      <td>292.510</td>\n",
       "      <td>293.55</td>\n",
       "      <td>54097569</td>\n",
       "      <td>0.007897</td>\n",
       "    </tr>\n",
       "    <tr>\n",
       "      <th>2018-09-21 00:00:00-04:00</th>\n",
       "      <td>105.34</td>\n",
       "      <td>105.47</td>\n",
       "      <td>105.3232</td>\n",
       "      <td>105.465</td>\n",
       "      <td>2420806.0</td>\n",
       "      <td>0.000902</td>\n",
       "      <td>293.09</td>\n",
       "      <td>293.22</td>\n",
       "      <td>291.810</td>\n",
       "      <td>292.01</td>\n",
       "      <td>45805544</td>\n",
       "      <td>-0.005246</td>\n",
       "    </tr>\n",
       "  </tbody>\n",
       "</table>\n",
       "</div>"
      ],
      "text/plain": [
       "                              AGG                                        \\\n",
       "                             open    high       low    close     volume   \n",
       "time                                                                      \n",
       "2018-09-17 00:00:00-04:00  105.65  105.78  105.6000  105.660  5198364.0   \n",
       "2018-09-18 00:00:00-04:00  105.59  105.60  105.3900  105.430  2194556.0   \n",
       "2018-09-19 00:00:00-04:00  105.42  105.43  105.2200  105.270  2605609.0   \n",
       "2018-09-20 00:00:00-04:00  105.23  105.45  105.2300  105.370  2627111.0   \n",
       "2018-09-21 00:00:00-04:00  105.34  105.47  105.3232  105.465  2420806.0   \n",
       "\n",
       "                                           SPY                           \\\n",
       "                          daily_return    open    high      low   close   \n",
       "time                                                                      \n",
       "2018-09-17 00:00:00-04:00          NaN  290.82  290.86  289.030  289.34   \n",
       "2018-09-18 00:00:00-04:00    -0.002177  289.57  291.58  289.550  290.90   \n",
       "2018-09-19 00:00:00-04:00    -0.001518  290.97  291.69  290.825  291.25   \n",
       "2018-09-20 00:00:00-04:00     0.000950  292.64  293.94  292.510  293.55   \n",
       "2018-09-21 00:00:00-04:00     0.000902  293.09  293.22  291.810  292.01   \n",
       "\n",
       "                                                  \n",
       "                             volume daily_return  \n",
       "time                                              \n",
       "2018-09-17 00:00:00-04:00  43382137          NaN  \n",
       "2018-09-18 00:00:00-04:00  38573521     0.005392  \n",
       "2018-09-19 00:00:00-04:00  34596543     0.001203  \n",
       "2018-09-20 00:00:00-04:00  54097569     0.007897  \n",
       "2018-09-21 00:00:00-04:00  45805544    -0.005246  "
      ]
     },
     "execution_count": 223,
     "metadata": {},
     "output_type": "execute_result"
    }
   ],
   "source": [
    "# Configure the Monte Carlo simulation to forecast 30 years cumulative returns\n",
    "# The weights should be split 40% to AGG and 60% to SPY.\n",
    "# Run 500 samples.\n",
    "MC_30yr_6040 = MCSimulation(\n",
    "  portfolio_data = portfolio_df,\n",
    "  weights = [.40,.60],\n",
    "  num_simulation = 500,\n",
    "  num_trading_days = 252*30\n",
    ")\n",
    "\n",
    "# Review the simulation input data\n",
    "MC_30yr_6040.portfolio_data.head()"
   ]
  },
  {
   "cell_type": "code",
   "execution_count": 225,
   "metadata": {},
   "outputs": [
    {
     "name": "stdout",
     "output_type": "stream",
     "text": [
      "Running Monte Carlo simulation number 0.\n",
      "Running Monte Carlo simulation number 10.\n",
      "Running Monte Carlo simulation number 20.\n",
      "Running Monte Carlo simulation number 30.\n",
      "Running Monte Carlo simulation number 40.\n",
      "Running Monte Carlo simulation number 50.\n",
      "Running Monte Carlo simulation number 60.\n",
      "Running Monte Carlo simulation number 70.\n",
      "Running Monte Carlo simulation number 80.\n",
      "Running Monte Carlo simulation number 90.\n",
      "Running Monte Carlo simulation number 100.\n"
     ]
    },
    {
     "name": "stderr",
     "output_type": "stream",
     "text": [
      "/Users/zrowgz/Desktop/fintech-workspace/w5/uw-challenge-5/MCForecastTools.py:117: PerformanceWarning: DataFrame is highly fragmented.  This is usually the result of calling `frame.insert` many times, which has poor performance.  Consider joining all columns at once using pd.concat(axis=1) instead.  To get a de-fragmented frame, use `newframe = frame.copy()`\n",
      "  portfolio_cumulative_returns[n] = (1 + sim_df.fillna(0)).cumprod()\n"
     ]
    },
    {
     "name": "stdout",
     "output_type": "stream",
     "text": [
      "Running Monte Carlo simulation number 110.\n",
      "Running Monte Carlo simulation number 120.\n",
      "Running Monte Carlo simulation number 130.\n",
      "Running Monte Carlo simulation number 140.\n",
      "Running Monte Carlo simulation number 150.\n",
      "Running Monte Carlo simulation number 160.\n",
      "Running Monte Carlo simulation number 170.\n",
      "Running Monte Carlo simulation number 180.\n",
      "Running Monte Carlo simulation number 190.\n",
      "Running Monte Carlo simulation number 200.\n",
      "Running Monte Carlo simulation number 210.\n",
      "Running Monte Carlo simulation number 220.\n",
      "Running Monte Carlo simulation number 230.\n",
      "Running Monte Carlo simulation number 240.\n",
      "Running Monte Carlo simulation number 250.\n",
      "Running Monte Carlo simulation number 260.\n",
      "Running Monte Carlo simulation number 270.\n",
      "Running Monte Carlo simulation number 280.\n",
      "Running Monte Carlo simulation number 290.\n",
      "Running Monte Carlo simulation number 300.\n",
      "Running Monte Carlo simulation number 310.\n",
      "Running Monte Carlo simulation number 320.\n",
      "Running Monte Carlo simulation number 330.\n",
      "Running Monte Carlo simulation number 340.\n",
      "Running Monte Carlo simulation number 350.\n",
      "Running Monte Carlo simulation number 360.\n",
      "Running Monte Carlo simulation number 370.\n",
      "Running Monte Carlo simulation number 380.\n",
      "Running Monte Carlo simulation number 390.\n",
      "Running Monte Carlo simulation number 400.\n",
      "Running Monte Carlo simulation number 410.\n",
      "Running Monte Carlo simulation number 420.\n",
      "Running Monte Carlo simulation number 430.\n",
      "Running Monte Carlo simulation number 440.\n",
      "Running Monte Carlo simulation number 450.\n",
      "Running Monte Carlo simulation number 460.\n",
      "Running Monte Carlo simulation number 470.\n",
      "Running Monte Carlo simulation number 480.\n",
      "Running Monte Carlo simulation number 490.\n"
     ]
    },
    {
     "data": {
      "text/html": [
       "<div>\n",
       "<style scoped>\n",
       "    .dataframe tbody tr th:only-of-type {\n",
       "        vertical-align: middle;\n",
       "    }\n",
       "\n",
       "    .dataframe tbody tr th {\n",
       "        vertical-align: top;\n",
       "    }\n",
       "\n",
       "    .dataframe thead th {\n",
       "        text-align: right;\n",
       "    }\n",
       "</style>\n",
       "<table border=\"1\" class=\"dataframe\">\n",
       "  <thead>\n",
       "    <tr style=\"text-align: right;\">\n",
       "      <th></th>\n",
       "      <th>0</th>\n",
       "      <th>1</th>\n",
       "      <th>2</th>\n",
       "      <th>3</th>\n",
       "      <th>4</th>\n",
       "      <th>5</th>\n",
       "      <th>6</th>\n",
       "      <th>7</th>\n",
       "      <th>8</th>\n",
       "      <th>9</th>\n",
       "      <th>...</th>\n",
       "      <th>490</th>\n",
       "      <th>491</th>\n",
       "      <th>492</th>\n",
       "      <th>493</th>\n",
       "      <th>494</th>\n",
       "      <th>495</th>\n",
       "      <th>496</th>\n",
       "      <th>497</th>\n",
       "      <th>498</th>\n",
       "      <th>499</th>\n",
       "    </tr>\n",
       "  </thead>\n",
       "  <tbody>\n",
       "    <tr>\n",
       "      <th>0</th>\n",
       "      <td>1.000000</td>\n",
       "      <td>1.000000</td>\n",
       "      <td>1.000000</td>\n",
       "      <td>1.000000</td>\n",
       "      <td>1.000000</td>\n",
       "      <td>1.000000</td>\n",
       "      <td>1.000000</td>\n",
       "      <td>1.000000</td>\n",
       "      <td>1.000000</td>\n",
       "      <td>1.000000</td>\n",
       "      <td>...</td>\n",
       "      <td>1.000000</td>\n",
       "      <td>1.000000</td>\n",
       "      <td>1.000000</td>\n",
       "      <td>1.000000</td>\n",
       "      <td>1.000000</td>\n",
       "      <td>1.000000</td>\n",
       "      <td>1.000000</td>\n",
       "      <td>1.000000</td>\n",
       "      <td>1.000000</td>\n",
       "      <td>1.000000</td>\n",
       "    </tr>\n",
       "    <tr>\n",
       "      <th>1</th>\n",
       "      <td>0.992248</td>\n",
       "      <td>1.009583</td>\n",
       "      <td>0.989298</td>\n",
       "      <td>1.005563</td>\n",
       "      <td>0.993166</td>\n",
       "      <td>1.013896</td>\n",
       "      <td>1.005759</td>\n",
       "      <td>0.996691</td>\n",
       "      <td>1.003627</td>\n",
       "      <td>1.002730</td>\n",
       "      <td>...</td>\n",
       "      <td>0.991445</td>\n",
       "      <td>1.006018</td>\n",
       "      <td>1.011519</td>\n",
       "      <td>0.998403</td>\n",
       "      <td>1.008508</td>\n",
       "      <td>1.005581</td>\n",
       "      <td>1.007325</td>\n",
       "      <td>0.984275</td>\n",
       "      <td>1.004899</td>\n",
       "      <td>0.996285</td>\n",
       "    </tr>\n",
       "    <tr>\n",
       "      <th>2</th>\n",
       "      <td>0.986439</td>\n",
       "      <td>1.019421</td>\n",
       "      <td>0.982533</td>\n",
       "      <td>1.007420</td>\n",
       "      <td>0.997521</td>\n",
       "      <td>1.013198</td>\n",
       "      <td>1.009441</td>\n",
       "      <td>1.015365</td>\n",
       "      <td>1.005659</td>\n",
       "      <td>0.991068</td>\n",
       "      <td>...</td>\n",
       "      <td>0.992488</td>\n",
       "      <td>1.006036</td>\n",
       "      <td>1.014095</td>\n",
       "      <td>1.004725</td>\n",
       "      <td>1.012106</td>\n",
       "      <td>0.996437</td>\n",
       "      <td>1.001026</td>\n",
       "      <td>0.988587</td>\n",
       "      <td>1.006446</td>\n",
       "      <td>0.996337</td>\n",
       "    </tr>\n",
       "    <tr>\n",
       "      <th>3</th>\n",
       "      <td>0.990236</td>\n",
       "      <td>1.018027</td>\n",
       "      <td>0.979571</td>\n",
       "      <td>1.019013</td>\n",
       "      <td>0.997772</td>\n",
       "      <td>1.008100</td>\n",
       "      <td>1.006512</td>\n",
       "      <td>1.018158</td>\n",
       "      <td>0.996715</td>\n",
       "      <td>0.971239</td>\n",
       "      <td>...</td>\n",
       "      <td>0.990014</td>\n",
       "      <td>1.006743</td>\n",
       "      <td>1.016465</td>\n",
       "      <td>0.997432</td>\n",
       "      <td>1.000793</td>\n",
       "      <td>0.991933</td>\n",
       "      <td>0.995812</td>\n",
       "      <td>0.975022</td>\n",
       "      <td>1.012690</td>\n",
       "      <td>1.008546</td>\n",
       "    </tr>\n",
       "    <tr>\n",
       "      <th>4</th>\n",
       "      <td>0.989141</td>\n",
       "      <td>1.007344</td>\n",
       "      <td>0.979481</td>\n",
       "      <td>1.037432</td>\n",
       "      <td>0.998009</td>\n",
       "      <td>0.996032</td>\n",
       "      <td>0.998379</td>\n",
       "      <td>0.996524</td>\n",
       "      <td>0.986939</td>\n",
       "      <td>0.968201</td>\n",
       "      <td>...</td>\n",
       "      <td>0.985652</td>\n",
       "      <td>1.014113</td>\n",
       "      <td>1.017466</td>\n",
       "      <td>0.981755</td>\n",
       "      <td>0.999513</td>\n",
       "      <td>0.977917</td>\n",
       "      <td>1.000824</td>\n",
       "      <td>0.977069</td>\n",
       "      <td>1.015533</td>\n",
       "      <td>1.006323</td>\n",
       "    </tr>\n",
       "    <tr>\n",
       "      <th>...</th>\n",
       "      <td>...</td>\n",
       "      <td>...</td>\n",
       "      <td>...</td>\n",
       "      <td>...</td>\n",
       "      <td>...</td>\n",
       "      <td>...</td>\n",
       "      <td>...</td>\n",
       "      <td>...</td>\n",
       "      <td>...</td>\n",
       "      <td>...</td>\n",
       "      <td>...</td>\n",
       "      <td>...</td>\n",
       "      <td>...</td>\n",
       "      <td>...</td>\n",
       "      <td>...</td>\n",
       "      <td>...</td>\n",
       "      <td>...</td>\n",
       "      <td>...</td>\n",
       "      <td>...</td>\n",
       "      <td>...</td>\n",
       "      <td>...</td>\n",
       "    </tr>\n",
       "    <tr>\n",
       "      <th>7556</th>\n",
       "      <td>16.367403</td>\n",
       "      <td>18.656822</td>\n",
       "      <td>31.198999</td>\n",
       "      <td>21.280779</td>\n",
       "      <td>44.629327</td>\n",
       "      <td>18.582353</td>\n",
       "      <td>28.655612</td>\n",
       "      <td>78.807557</td>\n",
       "      <td>52.149873</td>\n",
       "      <td>13.146869</td>\n",
       "      <td>...</td>\n",
       "      <td>19.354599</td>\n",
       "      <td>130.011870</td>\n",
       "      <td>45.769492</td>\n",
       "      <td>30.309927</td>\n",
       "      <td>2.933890</td>\n",
       "      <td>22.859527</td>\n",
       "      <td>48.493907</td>\n",
       "      <td>13.697288</td>\n",
       "      <td>14.563880</td>\n",
       "      <td>29.489811</td>\n",
       "    </tr>\n",
       "    <tr>\n",
       "      <th>7557</th>\n",
       "      <td>16.203981</td>\n",
       "      <td>18.671786</td>\n",
       "      <td>30.824783</td>\n",
       "      <td>21.521317</td>\n",
       "      <td>44.262815</td>\n",
       "      <td>18.964608</td>\n",
       "      <td>28.800676</td>\n",
       "      <td>79.038746</td>\n",
       "      <td>51.906299</td>\n",
       "      <td>13.052311</td>\n",
       "      <td>...</td>\n",
       "      <td>19.680890</td>\n",
       "      <td>129.935142</td>\n",
       "      <td>46.096933</td>\n",
       "      <td>30.141732</td>\n",
       "      <td>2.958241</td>\n",
       "      <td>22.918572</td>\n",
       "      <td>49.128573</td>\n",
       "      <td>13.800541</td>\n",
       "      <td>14.551014</td>\n",
       "      <td>29.399701</td>\n",
       "    </tr>\n",
       "    <tr>\n",
       "      <th>7558</th>\n",
       "      <td>16.181150</td>\n",
       "      <td>18.527037</td>\n",
       "      <td>30.599610</td>\n",
       "      <td>21.022368</td>\n",
       "      <td>44.414813</td>\n",
       "      <td>18.851368</td>\n",
       "      <td>28.603896</td>\n",
       "      <td>78.652150</td>\n",
       "      <td>52.039709</td>\n",
       "      <td>12.914559</td>\n",
       "      <td>...</td>\n",
       "      <td>19.700963</td>\n",
       "      <td>131.860744</td>\n",
       "      <td>46.632496</td>\n",
       "      <td>30.165412</td>\n",
       "      <td>2.904810</td>\n",
       "      <td>23.160113</td>\n",
       "      <td>49.213989</td>\n",
       "      <td>13.896642</td>\n",
       "      <td>14.548991</td>\n",
       "      <td>29.739573</td>\n",
       "    </tr>\n",
       "    <tr>\n",
       "      <th>7559</th>\n",
       "      <td>16.192021</td>\n",
       "      <td>18.669369</td>\n",
       "      <td>30.434155</td>\n",
       "      <td>20.838986</td>\n",
       "      <td>44.424878</td>\n",
       "      <td>19.146833</td>\n",
       "      <td>28.805569</td>\n",
       "      <td>79.244514</td>\n",
       "      <td>52.491225</td>\n",
       "      <td>12.957766</td>\n",
       "      <td>...</td>\n",
       "      <td>19.488492</td>\n",
       "      <td>132.077904</td>\n",
       "      <td>47.444122</td>\n",
       "      <td>30.102767</td>\n",
       "      <td>2.931457</td>\n",
       "      <td>23.189814</td>\n",
       "      <td>49.188594</td>\n",
       "      <td>13.764232</td>\n",
       "      <td>14.536981</td>\n",
       "      <td>29.525549</td>\n",
       "    </tr>\n",
       "    <tr>\n",
       "      <th>7560</th>\n",
       "      <td>16.213427</td>\n",
       "      <td>18.772736</td>\n",
       "      <td>30.858438</td>\n",
       "      <td>21.043515</td>\n",
       "      <td>44.073137</td>\n",
       "      <td>18.702625</td>\n",
       "      <td>28.854284</td>\n",
       "      <td>78.650055</td>\n",
       "      <td>52.819404</td>\n",
       "      <td>12.779861</td>\n",
       "      <td>...</td>\n",
       "      <td>19.406232</td>\n",
       "      <td>131.002126</td>\n",
       "      <td>47.665201</td>\n",
       "      <td>30.019087</td>\n",
       "      <td>2.912361</td>\n",
       "      <td>23.457437</td>\n",
       "      <td>48.659129</td>\n",
       "      <td>13.811885</td>\n",
       "      <td>14.668315</td>\n",
       "      <td>29.189866</td>\n",
       "    </tr>\n",
       "  </tbody>\n",
       "</table>\n",
       "<p>7561 rows × 500 columns</p>\n",
       "</div>"
      ],
      "text/plain": [
       "            0          1          2          3          4          5    \\\n",
       "0      1.000000   1.000000   1.000000   1.000000   1.000000   1.000000   \n",
       "1      0.992248   1.009583   0.989298   1.005563   0.993166   1.013896   \n",
       "2      0.986439   1.019421   0.982533   1.007420   0.997521   1.013198   \n",
       "3      0.990236   1.018027   0.979571   1.019013   0.997772   1.008100   \n",
       "4      0.989141   1.007344   0.979481   1.037432   0.998009   0.996032   \n",
       "...         ...        ...        ...        ...        ...        ...   \n",
       "7556  16.367403  18.656822  31.198999  21.280779  44.629327  18.582353   \n",
       "7557  16.203981  18.671786  30.824783  21.521317  44.262815  18.964608   \n",
       "7558  16.181150  18.527037  30.599610  21.022368  44.414813  18.851368   \n",
       "7559  16.192021  18.669369  30.434155  20.838986  44.424878  19.146833   \n",
       "7560  16.213427  18.772736  30.858438  21.043515  44.073137  18.702625   \n",
       "\n",
       "            6          7          8          9    ...        490         491  \\\n",
       "0      1.000000   1.000000   1.000000   1.000000  ...   1.000000    1.000000   \n",
       "1      1.005759   0.996691   1.003627   1.002730  ...   0.991445    1.006018   \n",
       "2      1.009441   1.015365   1.005659   0.991068  ...   0.992488    1.006036   \n",
       "3      1.006512   1.018158   0.996715   0.971239  ...   0.990014    1.006743   \n",
       "4      0.998379   0.996524   0.986939   0.968201  ...   0.985652    1.014113   \n",
       "...         ...        ...        ...        ...  ...        ...         ...   \n",
       "7556  28.655612  78.807557  52.149873  13.146869  ...  19.354599  130.011870   \n",
       "7557  28.800676  79.038746  51.906299  13.052311  ...  19.680890  129.935142   \n",
       "7558  28.603896  78.652150  52.039709  12.914559  ...  19.700963  131.860744   \n",
       "7559  28.805569  79.244514  52.491225  12.957766  ...  19.488492  132.077904   \n",
       "7560  28.854284  78.650055  52.819404  12.779861  ...  19.406232  131.002126   \n",
       "\n",
       "            492        493       494        495        496        497  \\\n",
       "0      1.000000   1.000000  1.000000   1.000000   1.000000   1.000000   \n",
       "1      1.011519   0.998403  1.008508   1.005581   1.007325   0.984275   \n",
       "2      1.014095   1.004725  1.012106   0.996437   1.001026   0.988587   \n",
       "3      1.016465   0.997432  1.000793   0.991933   0.995812   0.975022   \n",
       "4      1.017466   0.981755  0.999513   0.977917   1.000824   0.977069   \n",
       "...         ...        ...       ...        ...        ...        ...   \n",
       "7556  45.769492  30.309927  2.933890  22.859527  48.493907  13.697288   \n",
       "7557  46.096933  30.141732  2.958241  22.918572  49.128573  13.800541   \n",
       "7558  46.632496  30.165412  2.904810  23.160113  49.213989  13.896642   \n",
       "7559  47.444122  30.102767  2.931457  23.189814  49.188594  13.764232   \n",
       "7560  47.665201  30.019087  2.912361  23.457437  48.659129  13.811885   \n",
       "\n",
       "            498        499  \n",
       "0      1.000000   1.000000  \n",
       "1      1.004899   0.996285  \n",
       "2      1.006446   0.996337  \n",
       "3      1.012690   1.008546  \n",
       "4      1.015533   1.006323  \n",
       "...         ...        ...  \n",
       "7556  14.563880  29.489811  \n",
       "7557  14.551014  29.399701  \n",
       "7558  14.548991  29.739573  \n",
       "7559  14.536981  29.525549  \n",
       "7560  14.668315  29.189866  \n",
       "\n",
       "[7561 rows x 500 columns]"
      ]
     },
     "execution_count": 225,
     "metadata": {},
     "output_type": "execute_result"
    }
   ],
   "source": [
    "# Run the Monte Carlo simulation to forecast 30 years cumulative returns\n",
    "MC_30yr_6040.calc_cumulative_return()"
   ]
  },
  {
   "cell_type": "code",
   "execution_count": 227,
   "metadata": {
    "tags": []
   },
   "outputs": [
    {
     "data": {
      "text/plain": [
       "<matplotlib.axes._subplots.AxesSubplot at 0x7f916eb1fd90>"
      ]
     },
     "execution_count": 227,
     "metadata": {},
     "output_type": "execute_result"
    },
    {
     "data": {
      "image/png": "[encoded data removed]",
      "text/plain": [
       "<Figure size 432x288 with 1 Axes>"
      ]
     },
     "metadata": {
      "needs_background": "light"
     },
     "output_type": "display_data"
    }
   ],
   "source": [
    "# Visualize the 30-year Monte Carlo simulation by creating an\n",
    "# overlay line plot\n",
    "MC_30yr_6040.plot_simulation()"
   ]
  },
  {
   "cell_type": "markdown",
   "metadata": {
    "tags": []
   },
   "source": [
    "#### Step 3: Plot the probability distribution of the Monte Carlo simulation."
   ]
  },
  {
   "cell_type": "code",
   "execution_count": 228,
   "metadata": {},
   "outputs": [
    {
     "data": {
      "text/plain": [
       "<matplotlib.axes._subplots.AxesSubplot at 0x7f917f1fcb10>"
      ]
     },
     "execution_count": 228,
     "metadata": {},
     "output_type": "execute_result"
    },
    {
     "data": {
      "image/png": "[encoded data removed]",
      "text/plain": [
       "<Figure size 432x288 with 1 Axes>"
      ]
     },
     "metadata": {
      "needs_background": "light"
     },
     "output_type": "display_data"
    }
   ],
   "source": [
    "# Visualize the probability distribution of the 30-year Monte Carlo simulation \n",
    "# by plotting a histogram\n",
    "MC_30yr_6040.plot_distribution()"
   ]
  },
  {
   "cell_type": "markdown",
   "metadata": {},
   "source": [
    "#### Step 4: Generate the summary statistics for the Monte Carlo simulation."
   ]
  },
  {
   "cell_type": "code",
   "execution_count": 229,
   "metadata": {},
   "outputs": [
    {
     "data": {
      "text/plain": [
       "count           500.000000\n",
       "mean             32.177679\n",
       "std              29.426902\n",
       "min               2.187803\n",
       "25%              13.578352\n",
       "50%              23.805584\n",
       "75%              40.224477\n",
       "max             212.129066\n",
       "95% CI Lower      5.426226\n",
       "95% CI Upper    112.865299\n",
       "Name: 7560, dtype: float64"
      ]
     },
     "execution_count": 229,
     "metadata": {},
     "output_type": "execute_result"
    }
   ],
   "source": [
    "# Generate summary statistics from the 30-year Monte Carlo simulation results\n",
    "# Save the results as a variable\n",
    "MC_summary_stats = MC_30yr_6040.summarize_cumulative_return()\n",
    "\n",
    "# Review the 30-year Monte Carlo summary statistics\n",
    "MC_summary_stats"
   ]
  },
  {
   "cell_type": "markdown",
   "metadata": {},
   "source": [
    "### Analyze the Retirement Portfolio Forecasts\n",
    "\n",
    "Using the current value of only the stock and bond portion of the member's portfolio and the summary statistics that you generated from the Monte Carlo simulation, answer the following question in your Jupyter notebook:\n",
    "\n",
    "-  What are the lower and upper bounds for the expected value of the portfolio with a 95% confidence interval?\n"
   ]
  },
  {
   "cell_type": "code",
   "execution_count": 240,
   "metadata": {},
   "outputs": [
    {
     "name": "stdout",
     "output_type": "stream",
     "text": [
      "Today's stock/bond portfolio is worth $72383.40.\n"
     ]
    }
   ],
   "source": [
    "# Print the current balance of the stock and bond portion of the members portfolio\n",
    "# Use the previously calculated stock/bond portfolio valuations\n",
    "print(f\"Today's stock/bond portfolio is worth ${total_stocks_bonds:.2f}.\")"
   ]
  },
  {
   "cell_type": "code",
   "execution_count": 241,
   "metadata": {},
   "outputs": [
    {
     "name": "stdout",
     "output_type": "stream",
     "text": [
      "There is a 95% chance that an initial investment of $72383.4 in the portfolio over the next 5 years will end within in the range of $ 392768.71 and $ 8169574.10.\n"
     ]
    }
   ],
   "source": [
    "# Use the lower and upper `95%` confidence intervals to calculate the range of \n",
    "# the possible outcomes for the current stock/bond portfolio\n",
    "ci_lower_thirty_cumulative_return = MC_summary_stats[8] * total_stocks_bonds\n",
    "ci_upper_thirty_cumulative_return = MC_summary_stats[9] * total_stocks_bonds\n",
    "\n",
    "# Print the result of your calculations\n",
    "print(f\"There is a 95% chance that an initial investment of ${total_stocks_bonds} in the portfolio\"\n",
    "  f\" over the next 5 years will end within in the range of\"\n",
    "  f\" ${ci_lower_thirty_cumulative_return: .2f} and ${ci_upper_thirty_cumulative_return: .2f}.\")"
   ]
  },
  {
   "cell_type": "markdown",
   "metadata": {
    "tags": []
   },
   "source": [
    "### Forecast Cumulative Returns in 10 Years\n",
    "\n",
    "The CTO of the credit union is impressed with your work on these planning tools but wonders if 30 years is a long time to wait until retirement. So, your next task is to adjust the retirement portfolio and run a new Monte Carlo simulation to find out if the changes will allow members to retire earlier.\n",
    "\n",
    "For this new Monte Carlo simulation, do the following: \n",
    "\n",
    "- Forecast the cumulative returns for 10 years from now. Because of the shortened investment horizon (30 years to 10 years), the portfolio needs to invest more heavily in the riskier asset&mdash;that is, stock&mdash;to help accumulate wealth for retirement. \n",
    "\n",
    "- Adjust the weights of the retirement portfolio so that the composition for the Monte Carlo simulation consists of 20% bonds and 80% stocks. \n",
    "\n",
    "- Run the simulation over 500 samples, and use the same data that the API call to Alpaca generated.\n",
    "\n",
    "- Based on the new Monte Carlo simulation, answer the following questions in your Jupyter notebook:\n",
    "\n",
    "    - Using the current value of only the stock and bond portion of the member's portfolio and the summary statistics that you generated from the new Monte Carlo simulation, what are the lower and upper bounds for the expected value of the portfolio (with the new weights) with a 95% confidence interval?\n",
    "\n",
    "    - Will weighting the portfolio more heavily toward stocks allow the credit union members to retire after only 10 years?\n"
   ]
  },
  {
   "cell_type": "code",
   "execution_count": 233,
   "metadata": {},
   "outputs": [
    {
     "data": {
      "text/html": [
       "<div>\n",
       "<style scoped>\n",
       "    .dataframe tbody tr th:only-of-type {\n",
       "        vertical-align: middle;\n",
       "    }\n",
       "\n",
       "    .dataframe tbody tr th {\n",
       "        vertical-align: top;\n",
       "    }\n",
       "\n",
       "    .dataframe thead tr th {\n",
       "        text-align: left;\n",
       "    }\n",
       "\n",
       "    .dataframe thead tr:last-of-type th {\n",
       "        text-align: right;\n",
       "    }\n",
       "</style>\n",
       "<table border=\"1\" class=\"dataframe\">\n",
       "  <thead>\n",
       "    <tr>\n",
       "      <th></th>\n",
       "      <th colspan=\"6\" halign=\"left\">AGG</th>\n",
       "      <th colspan=\"6\" halign=\"left\">SPY</th>\n",
       "    </tr>\n",
       "    <tr>\n",
       "      <th></th>\n",
       "      <th>open</th>\n",
       "      <th>high</th>\n",
       "      <th>low</th>\n",
       "      <th>close</th>\n",
       "      <th>volume</th>\n",
       "      <th>daily_return</th>\n",
       "      <th>open</th>\n",
       "      <th>high</th>\n",
       "      <th>low</th>\n",
       "      <th>close</th>\n",
       "      <th>volume</th>\n",
       "      <th>daily_return</th>\n",
       "    </tr>\n",
       "    <tr>\n",
       "      <th>time</th>\n",
       "      <th></th>\n",
       "      <th></th>\n",
       "      <th></th>\n",
       "      <th></th>\n",
       "      <th></th>\n",
       "      <th></th>\n",
       "      <th></th>\n",
       "      <th></th>\n",
       "      <th></th>\n",
       "      <th></th>\n",
       "      <th></th>\n",
       "      <th></th>\n",
       "    </tr>\n",
       "  </thead>\n",
       "  <tbody>\n",
       "    <tr>\n",
       "      <th>2018-09-17 00:00:00-04:00</th>\n",
       "      <td>105.65</td>\n",
       "      <td>105.78</td>\n",
       "      <td>105.6000</td>\n",
       "      <td>105.660</td>\n",
       "      <td>5198364.0</td>\n",
       "      <td>NaN</td>\n",
       "      <td>290.82</td>\n",
       "      <td>290.86</td>\n",
       "      <td>289.030</td>\n",
       "      <td>289.34</td>\n",
       "      <td>43382137</td>\n",
       "      <td>NaN</td>\n",
       "    </tr>\n",
       "    <tr>\n",
       "      <th>2018-09-18 00:00:00-04:00</th>\n",
       "      <td>105.59</td>\n",
       "      <td>105.60</td>\n",
       "      <td>105.3900</td>\n",
       "      <td>105.430</td>\n",
       "      <td>2194556.0</td>\n",
       "      <td>-0.002177</td>\n",
       "      <td>289.57</td>\n",
       "      <td>291.58</td>\n",
       "      <td>289.550</td>\n",
       "      <td>290.90</td>\n",
       "      <td>38573521</td>\n",
       "      <td>0.005392</td>\n",
       "    </tr>\n",
       "    <tr>\n",
       "      <th>2018-09-19 00:00:00-04:00</th>\n",
       "      <td>105.42</td>\n",
       "      <td>105.43</td>\n",
       "      <td>105.2200</td>\n",
       "      <td>105.270</td>\n",
       "      <td>2605609.0</td>\n",
       "      <td>-0.001518</td>\n",
       "      <td>290.97</td>\n",
       "      <td>291.69</td>\n",
       "      <td>290.825</td>\n",
       "      <td>291.25</td>\n",
       "      <td>34596543</td>\n",
       "      <td>0.001203</td>\n",
       "    </tr>\n",
       "    <tr>\n",
       "      <th>2018-09-20 00:00:00-04:00</th>\n",
       "      <td>105.23</td>\n",
       "      <td>105.45</td>\n",
       "      <td>105.2300</td>\n",
       "      <td>105.370</td>\n",
       "      <td>2627111.0</td>\n",
       "      <td>0.000950</td>\n",
       "      <td>292.64</td>\n",
       "      <td>293.94</td>\n",
       "      <td>292.510</td>\n",
       "      <td>293.55</td>\n",
       "      <td>54097569</td>\n",
       "      <td>0.007897</td>\n",
       "    </tr>\n",
       "    <tr>\n",
       "      <th>2018-09-21 00:00:00-04:00</th>\n",
       "      <td>105.34</td>\n",
       "      <td>105.47</td>\n",
       "      <td>105.3232</td>\n",
       "      <td>105.465</td>\n",
       "      <td>2420806.0</td>\n",
       "      <td>0.000902</td>\n",
       "      <td>293.09</td>\n",
       "      <td>293.22</td>\n",
       "      <td>291.810</td>\n",
       "      <td>292.01</td>\n",
       "      <td>45805544</td>\n",
       "      <td>-0.005246</td>\n",
       "    </tr>\n",
       "  </tbody>\n",
       "</table>\n",
       "</div>"
      ],
      "text/plain": [
       "                              AGG                                        \\\n",
       "                             open    high       low    close     volume   \n",
       "time                                                                      \n",
       "2018-09-17 00:00:00-04:00  105.65  105.78  105.6000  105.660  5198364.0   \n",
       "2018-09-18 00:00:00-04:00  105.59  105.60  105.3900  105.430  2194556.0   \n",
       "2018-09-19 00:00:00-04:00  105.42  105.43  105.2200  105.270  2605609.0   \n",
       "2018-09-20 00:00:00-04:00  105.23  105.45  105.2300  105.370  2627111.0   \n",
       "2018-09-21 00:00:00-04:00  105.34  105.47  105.3232  105.465  2420806.0   \n",
       "\n",
       "                                           SPY                           \\\n",
       "                          daily_return    open    high      low   close   \n",
       "time                                                                      \n",
       "2018-09-17 00:00:00-04:00          NaN  290.82  290.86  289.030  289.34   \n",
       "2018-09-18 00:00:00-04:00    -0.002177  289.57  291.58  289.550  290.90   \n",
       "2018-09-19 00:00:00-04:00    -0.001518  290.97  291.69  290.825  291.25   \n",
       "2018-09-20 00:00:00-04:00     0.000950  292.64  293.94  292.510  293.55   \n",
       "2018-09-21 00:00:00-04:00     0.000902  293.09  293.22  291.810  292.01   \n",
       "\n",
       "                                                  \n",
       "                             volume daily_return  \n",
       "time                                              \n",
       "2018-09-17 00:00:00-04:00  43382137          NaN  \n",
       "2018-09-18 00:00:00-04:00  38573521     0.005392  \n",
       "2018-09-19 00:00:00-04:00  34596543     0.001203  \n",
       "2018-09-20 00:00:00-04:00  54097569     0.007897  \n",
       "2018-09-21 00:00:00-04:00  45805544    -0.005246  "
      ]
     },
     "execution_count": 233,
     "metadata": {},
     "output_type": "execute_result"
    }
   ],
   "source": [
    "# Configure a Monte Carlo simulation to forecast 10 years cumulative returns\n",
    "# The weights should be split 20% to AGG and 80% to SPY.\n",
    "# Run 500 samples.\n",
    "MC_10yr_8020 = MCSimulation(\n",
    "  portfolio_data = portfolio_df,\n",
    "  weights = [.20,.80],\n",
    "  num_simulation = 500,\n",
    "  num_trading_days = 252*10\n",
    ")\n",
    "\n",
    "# Review the simulation input data\n",
    "MC_10yr_8020.portfolio_data.head()"
   ]
  },
  {
   "cell_type": "code",
   "execution_count": 234,
   "metadata": {},
   "outputs": [
    {
     "name": "stdout",
     "output_type": "stream",
     "text": [
      "Running Monte Carlo simulation number 0.\n",
      "Running Monte Carlo simulation number 10.\n",
      "Running Monte Carlo simulation number 20.\n",
      "Running Monte Carlo simulation number 30.\n",
      "Running Monte Carlo simulation number 40.\n",
      "Running Monte Carlo simulation number 50.\n",
      "Running Monte Carlo simulation number 60.\n",
      "Running Monte Carlo simulation number 70.\n",
      "Running Monte Carlo simulation number 80.\n",
      "Running Monte Carlo simulation number 90.\n",
      "Running Monte Carlo simulation number 100.\n"
     ]
    },
    {
     "name": "stderr",
     "output_type": "stream",
     "text": [
      "/Users/zrowgz/Desktop/fintech-workspace/w5/uw-challenge-5/MCForecastTools.py:117: PerformanceWarning: DataFrame is highly fragmented.  This is usually the result of calling `frame.insert` many times, which has poor performance.  Consider joining all columns at once using pd.concat(axis=1) instead.  To get a de-fragmented frame, use `newframe = frame.copy()`\n",
      "  portfolio_cumulative_returns[n] = (1 + sim_df.fillna(0)).cumprod()\n"
     ]
    },
    {
     "name": "stdout",
     "output_type": "stream",
     "text": [
      "Running Monte Carlo simulation number 110.\n",
      "Running Monte Carlo simulation number 120.\n",
      "Running Monte Carlo simulation number 130.\n",
      "Running Monte Carlo simulation number 140.\n",
      "Running Monte Carlo simulation number 150.\n",
      "Running Monte Carlo simulation number 160.\n",
      "Running Monte Carlo simulation number 170.\n",
      "Running Monte Carlo simulation number 180.\n",
      "Running Monte Carlo simulation number 190.\n",
      "Running Monte Carlo simulation number 200.\n",
      "Running Monte Carlo simulation number 210.\n",
      "Running Monte Carlo simulation number 220.\n",
      "Running Monte Carlo simulation number 230.\n",
      "Running Monte Carlo simulation number 240.\n",
      "Running Monte Carlo simulation number 250.\n",
      "Running Monte Carlo simulation number 260.\n",
      "Running Monte Carlo simulation number 270.\n",
      "Running Monte Carlo simulation number 280.\n",
      "Running Monte Carlo simulation number 290.\n",
      "Running Monte Carlo simulation number 300.\n",
      "Running Monte Carlo simulation number 310.\n",
      "Running Monte Carlo simulation number 320.\n",
      "Running Monte Carlo simulation number 330.\n",
      "Running Monte Carlo simulation number 340.\n",
      "Running Monte Carlo simulation number 350.\n",
      "Running Monte Carlo simulation number 360.\n",
      "Running Monte Carlo simulation number 370.\n",
      "Running Monte Carlo simulation number 380.\n",
      "Running Monte Carlo simulation number 390.\n",
      "Running Monte Carlo simulation number 400.\n",
      "Running Monte Carlo simulation number 410.\n",
      "Running Monte Carlo simulation number 420.\n",
      "Running Monte Carlo simulation number 430.\n",
      "Running Monte Carlo simulation number 440.\n",
      "Running Monte Carlo simulation number 450.\n",
      "Running Monte Carlo simulation number 460.\n",
      "Running Monte Carlo simulation number 470.\n",
      "Running Monte Carlo simulation number 480.\n",
      "Running Monte Carlo simulation number 490.\n"
     ]
    },
    {
     "data": {
      "text/html": [
       "<div>\n",
       "<style scoped>\n",
       "    .dataframe tbody tr th:only-of-type {\n",
       "        vertical-align: middle;\n",
       "    }\n",
       "\n",
       "    .dataframe tbody tr th {\n",
       "        vertical-align: top;\n",
       "    }\n",
       "\n",
       "    .dataframe thead th {\n",
       "        text-align: right;\n",
       "    }\n",
       "</style>\n",
       "<table border=\"1\" class=\"dataframe\">\n",
       "  <thead>\n",
       "    <tr style=\"text-align: right;\">\n",
       "      <th></th>\n",
       "      <th>0</th>\n",
       "      <th>1</th>\n",
       "      <th>2</th>\n",
       "      <th>3</th>\n",
       "      <th>4</th>\n",
       "      <th>5</th>\n",
       "      <th>6</th>\n",
       "      <th>7</th>\n",
       "      <th>8</th>\n",
       "      <th>9</th>\n",
       "      <th>...</th>\n",
       "      <th>490</th>\n",
       "      <th>491</th>\n",
       "      <th>492</th>\n",
       "      <th>493</th>\n",
       "      <th>494</th>\n",
       "      <th>495</th>\n",
       "      <th>496</th>\n",
       "      <th>497</th>\n",
       "      <th>498</th>\n",
       "      <th>499</th>\n",
       "    </tr>\n",
       "  </thead>\n",
       "  <tbody>\n",
       "    <tr>\n",
       "      <th>0</th>\n",
       "      <td>1.000000</td>\n",
       "      <td>1.000000</td>\n",
       "      <td>1.000000</td>\n",
       "      <td>1.000000</td>\n",
       "      <td>1.000000</td>\n",
       "      <td>1.000000</td>\n",
       "      <td>1.000000</td>\n",
       "      <td>1.000000</td>\n",
       "      <td>1.000000</td>\n",
       "      <td>1.000000</td>\n",
       "      <td>...</td>\n",
       "      <td>1.000000</td>\n",
       "      <td>1.000000</td>\n",
       "      <td>1.000000</td>\n",
       "      <td>1.000000</td>\n",
       "      <td>1.000000</td>\n",
       "      <td>1.000000</td>\n",
       "      <td>1.000000</td>\n",
       "      <td>1.000000</td>\n",
       "      <td>1.000000</td>\n",
       "      <td>1.000000</td>\n",
       "    </tr>\n",
       "    <tr>\n",
       "      <th>1</th>\n",
       "      <td>1.016675</td>\n",
       "      <td>1.011589</td>\n",
       "      <td>0.990265</td>\n",
       "      <td>1.006912</td>\n",
       "      <td>0.986403</td>\n",
       "      <td>1.017456</td>\n",
       "      <td>0.983022</td>\n",
       "      <td>0.988453</td>\n",
       "      <td>1.001570</td>\n",
       "      <td>0.991165</td>\n",
       "      <td>...</td>\n",
       "      <td>1.006238</td>\n",
       "      <td>1.002380</td>\n",
       "      <td>1.000607</td>\n",
       "      <td>1.003957</td>\n",
       "      <td>1.006993</td>\n",
       "      <td>1.003630</td>\n",
       "      <td>0.994757</td>\n",
       "      <td>1.004455</td>\n",
       "      <td>1.007783</td>\n",
       "      <td>1.022276</td>\n",
       "    </tr>\n",
       "    <tr>\n",
       "      <th>2</th>\n",
       "      <td>1.018821</td>\n",
       "      <td>0.988768</td>\n",
       "      <td>1.002806</td>\n",
       "      <td>1.013950</td>\n",
       "      <td>0.997262</td>\n",
       "      <td>1.025455</td>\n",
       "      <td>0.979971</td>\n",
       "      <td>1.000048</td>\n",
       "      <td>1.011881</td>\n",
       "      <td>1.007991</td>\n",
       "      <td>...</td>\n",
       "      <td>1.010095</td>\n",
       "      <td>0.984150</td>\n",
       "      <td>1.029889</td>\n",
       "      <td>0.988000</td>\n",
       "      <td>1.000573</td>\n",
       "      <td>1.020846</td>\n",
       "      <td>0.988749</td>\n",
       "      <td>1.014949</td>\n",
       "      <td>1.009873</td>\n",
       "      <td>1.007475</td>\n",
       "    </tr>\n",
       "    <tr>\n",
       "      <th>3</th>\n",
       "      <td>1.025531</td>\n",
       "      <td>1.011467</td>\n",
       "      <td>1.003204</td>\n",
       "      <td>1.032022</td>\n",
       "      <td>0.981529</td>\n",
       "      <td>1.032726</td>\n",
       "      <td>0.972148</td>\n",
       "      <td>1.011987</td>\n",
       "      <td>1.014697</td>\n",
       "      <td>0.995392</td>\n",
       "      <td>...</td>\n",
       "      <td>1.013616</td>\n",
       "      <td>1.002470</td>\n",
       "      <td>1.010317</td>\n",
       "      <td>0.982948</td>\n",
       "      <td>0.998609</td>\n",
       "      <td>1.017468</td>\n",
       "      <td>0.967165</td>\n",
       "      <td>1.026972</td>\n",
       "      <td>0.999105</td>\n",
       "      <td>1.025816</td>\n",
       "    </tr>\n",
       "    <tr>\n",
       "      <th>4</th>\n",
       "      <td>1.010275</td>\n",
       "      <td>1.005263</td>\n",
       "      <td>1.025223</td>\n",
       "      <td>1.043792</td>\n",
       "      <td>0.989252</td>\n",
       "      <td>0.998013</td>\n",
       "      <td>0.942607</td>\n",
       "      <td>1.005223</td>\n",
       "      <td>1.005284</td>\n",
       "      <td>0.991231</td>\n",
       "      <td>...</td>\n",
       "      <td>1.017652</td>\n",
       "      <td>1.013196</td>\n",
       "      <td>1.003843</td>\n",
       "      <td>0.994283</td>\n",
       "      <td>1.000328</td>\n",
       "      <td>1.023760</td>\n",
       "      <td>0.981202</td>\n",
       "      <td>1.024165</td>\n",
       "      <td>1.011142</td>\n",
       "      <td>1.023213</td>\n",
       "    </tr>\n",
       "    <tr>\n",
       "      <th>...</th>\n",
       "      <td>...</td>\n",
       "      <td>...</td>\n",
       "      <td>...</td>\n",
       "      <td>...</td>\n",
       "      <td>...</td>\n",
       "      <td>...</td>\n",
       "      <td>...</td>\n",
       "      <td>...</td>\n",
       "      <td>...</td>\n",
       "      <td>...</td>\n",
       "      <td>...</td>\n",
       "      <td>...</td>\n",
       "      <td>...</td>\n",
       "      <td>...</td>\n",
       "      <td>...</td>\n",
       "      <td>...</td>\n",
       "      <td>...</td>\n",
       "      <td>...</td>\n",
       "      <td>...</td>\n",
       "      <td>...</td>\n",
       "      <td>...</td>\n",
       "    </tr>\n",
       "    <tr>\n",
       "      <th>2516</th>\n",
       "      <td>2.680212</td>\n",
       "      <td>2.131496</td>\n",
       "      <td>1.172575</td>\n",
       "      <td>3.333712</td>\n",
       "      <td>2.976385</td>\n",
       "      <td>5.845103</td>\n",
       "      <td>3.967244</td>\n",
       "      <td>2.722693</td>\n",
       "      <td>5.096831</td>\n",
       "      <td>2.717392</td>\n",
       "      <td>...</td>\n",
       "      <td>8.044066</td>\n",
       "      <td>11.562752</td>\n",
       "      <td>3.045428</td>\n",
       "      <td>3.309267</td>\n",
       "      <td>5.538656</td>\n",
       "      <td>3.253606</td>\n",
       "      <td>4.048402</td>\n",
       "      <td>3.829473</td>\n",
       "      <td>2.501707</td>\n",
       "      <td>3.061704</td>\n",
       "    </tr>\n",
       "    <tr>\n",
       "      <th>2517</th>\n",
       "      <td>2.706892</td>\n",
       "      <td>2.135242</td>\n",
       "      <td>1.171039</td>\n",
       "      <td>3.314679</td>\n",
       "      <td>2.981188</td>\n",
       "      <td>5.775326</td>\n",
       "      <td>3.916102</td>\n",
       "      <td>2.686705</td>\n",
       "      <td>5.144232</td>\n",
       "      <td>2.709888</td>\n",
       "      <td>...</td>\n",
       "      <td>8.017485</td>\n",
       "      <td>11.446624</td>\n",
       "      <td>3.001468</td>\n",
       "      <td>3.345931</td>\n",
       "      <td>5.487890</td>\n",
       "      <td>3.261286</td>\n",
       "      <td>4.099277</td>\n",
       "      <td>3.749835</td>\n",
       "      <td>2.529584</td>\n",
       "      <td>3.021596</td>\n",
       "    </tr>\n",
       "    <tr>\n",
       "      <th>2518</th>\n",
       "      <td>2.680525</td>\n",
       "      <td>2.127682</td>\n",
       "      <td>1.177364</td>\n",
       "      <td>3.321847</td>\n",
       "      <td>2.947474</td>\n",
       "      <td>5.895210</td>\n",
       "      <td>3.929872</td>\n",
       "      <td>2.726041</td>\n",
       "      <td>5.114790</td>\n",
       "      <td>2.683143</td>\n",
       "      <td>...</td>\n",
       "      <td>7.906190</td>\n",
       "      <td>11.288667</td>\n",
       "      <td>2.963305</td>\n",
       "      <td>3.432080</td>\n",
       "      <td>5.422128</td>\n",
       "      <td>3.308023</td>\n",
       "      <td>4.092573</td>\n",
       "      <td>3.716751</td>\n",
       "      <td>2.545459</td>\n",
       "      <td>3.076872</td>\n",
       "    </tr>\n",
       "    <tr>\n",
       "      <th>2519</th>\n",
       "      <td>2.663978</td>\n",
       "      <td>2.104375</td>\n",
       "      <td>1.174592</td>\n",
       "      <td>3.291668</td>\n",
       "      <td>2.932041</td>\n",
       "      <td>5.872186</td>\n",
       "      <td>3.964042</td>\n",
       "      <td>2.748351</td>\n",
       "      <td>5.147160</td>\n",
       "      <td>2.650234</td>\n",
       "      <td>...</td>\n",
       "      <td>7.944190</td>\n",
       "      <td>11.240740</td>\n",
       "      <td>2.934313</td>\n",
       "      <td>3.454284</td>\n",
       "      <td>5.396350</td>\n",
       "      <td>3.284819</td>\n",
       "      <td>4.109182</td>\n",
       "      <td>3.732539</td>\n",
       "      <td>2.526688</td>\n",
       "      <td>3.053320</td>\n",
       "    </tr>\n",
       "    <tr>\n",
       "      <th>2520</th>\n",
       "      <td>2.627979</td>\n",
       "      <td>2.060874</td>\n",
       "      <td>1.187776</td>\n",
       "      <td>3.269078</td>\n",
       "      <td>2.964083</td>\n",
       "      <td>5.748354</td>\n",
       "      <td>3.983822</td>\n",
       "      <td>2.737626</td>\n",
       "      <td>5.176143</td>\n",
       "      <td>2.656467</td>\n",
       "      <td>...</td>\n",
       "      <td>8.005647</td>\n",
       "      <td>11.203798</td>\n",
       "      <td>2.995540</td>\n",
       "      <td>3.438218</td>\n",
       "      <td>5.334358</td>\n",
       "      <td>3.313005</td>\n",
       "      <td>4.186022</td>\n",
       "      <td>3.679418</td>\n",
       "      <td>2.502395</td>\n",
       "      <td>3.039115</td>\n",
       "    </tr>\n",
       "  </tbody>\n",
       "</table>\n",
       "<p>2521 rows × 500 columns</p>\n",
       "</div>"
      ],
      "text/plain": [
       "           0         1         2         3         4         5         6    \\\n",
       "0     1.000000  1.000000  1.000000  1.000000  1.000000  1.000000  1.000000   \n",
       "1     1.016675  1.011589  0.990265  1.006912  0.986403  1.017456  0.983022   \n",
       "2     1.018821  0.988768  1.002806  1.013950  0.997262  1.025455  0.979971   \n",
       "3     1.025531  1.011467  1.003204  1.032022  0.981529  1.032726  0.972148   \n",
       "4     1.010275  1.005263  1.025223  1.043792  0.989252  0.998013  0.942607   \n",
       "...        ...       ...       ...       ...       ...       ...       ...   \n",
       "2516  2.680212  2.131496  1.172575  3.333712  2.976385  5.845103  3.967244   \n",
       "2517  2.706892  2.135242  1.171039  3.314679  2.981188  5.775326  3.916102   \n",
       "2518  2.680525  2.127682  1.177364  3.321847  2.947474  5.895210  3.929872   \n",
       "2519  2.663978  2.104375  1.174592  3.291668  2.932041  5.872186  3.964042   \n",
       "2520  2.627979  2.060874  1.187776  3.269078  2.964083  5.748354  3.983822   \n",
       "\n",
       "           7         8         9    ...       490        491       492  \\\n",
       "0     1.000000  1.000000  1.000000  ...  1.000000   1.000000  1.000000   \n",
       "1     0.988453  1.001570  0.991165  ...  1.006238   1.002380  1.000607   \n",
       "2     1.000048  1.011881  1.007991  ...  1.010095   0.984150  1.029889   \n",
       "3     1.011987  1.014697  0.995392  ...  1.013616   1.002470  1.010317   \n",
       "4     1.005223  1.005284  0.991231  ...  1.017652   1.013196  1.003843   \n",
       "...        ...       ...       ...  ...       ...        ...       ...   \n",
       "2516  2.722693  5.096831  2.717392  ...  8.044066  11.562752  3.045428   \n",
       "2517  2.686705  5.144232  2.709888  ...  8.017485  11.446624  3.001468   \n",
       "2518  2.726041  5.114790  2.683143  ...  7.906190  11.288667  2.963305   \n",
       "2519  2.748351  5.147160  2.650234  ...  7.944190  11.240740  2.934313   \n",
       "2520  2.737626  5.176143  2.656467  ...  8.005647  11.203798  2.995540   \n",
       "\n",
       "           493       494       495       496       497       498       499  \n",
       "0     1.000000  1.000000  1.000000  1.000000  1.000000  1.000000  1.000000  \n",
       "1     1.003957  1.006993  1.003630  0.994757  1.004455  1.007783  1.022276  \n",
       "2     0.988000  1.000573  1.020846  0.988749  1.014949  1.009873  1.007475  \n",
       "3     0.982948  0.998609  1.017468  0.967165  1.026972  0.999105  1.025816  \n",
       "4     0.994283  1.000328  1.023760  0.981202  1.024165  1.011142  1.023213  \n",
       "...        ...       ...       ...       ...       ...       ...       ...  \n",
       "2516  3.309267  5.538656  3.253606  4.048402  3.829473  2.501707  3.061704  \n",
       "2517  3.345931  5.487890  3.261286  4.099277  3.749835  2.529584  3.021596  \n",
       "2518  3.432080  5.422128  3.308023  4.092573  3.716751  2.545459  3.076872  \n",
       "2519  3.454284  5.396350  3.284819  4.109182  3.732539  2.526688  3.053320  \n",
       "2520  3.438218  5.334358  3.313005  4.186022  3.679418  2.502395  3.039115  \n",
       "\n",
       "[2521 rows x 500 columns]"
      ]
     },
     "execution_count": 234,
     "metadata": {},
     "output_type": "execute_result"
    }
   ],
   "source": [
    "# Run the Monte Carlo simulation to forecast 10 years cumulative returns\n",
    "MC_10yr_8020.calc_cumulative_return()"
   ]
  },
  {
   "cell_type": "code",
   "execution_count": 235,
   "metadata": {},
   "outputs": [
    {
     "data": {
      "text/plain": [
       "<matplotlib.axes._subplots.AxesSubplot at 0x7f917f212a90>"
      ]
     },
     "execution_count": 235,
     "metadata": {},
     "output_type": "execute_result"
    },
    {
     "data": {
      "image/png": "[encoded data removed]",
      "text/plain": [
       "<Figure size 432x288 with 1 Axes>"
      ]
     },
     "metadata": {
      "needs_background": "light"
     },
     "output_type": "display_data"
    }
   ],
   "source": [
    "# Visualize the 10-year Monte Carlo simulation by creating an\n",
    "# overlay line plot\n",
    "MC_10yr_8020.plot_simulation()"
   ]
  },
  {
   "cell_type": "code",
   "execution_count": 236,
   "metadata": {},
   "outputs": [
    {
     "data": {
      "text/plain": [
       "<matplotlib.axes._subplots.AxesSubplot at 0x7f917f2246d0>"
      ]
     },
     "execution_count": 236,
     "metadata": {},
     "output_type": "execute_result"
    },
    {
     "data": {
      "image/png": "[encoded data removed]",
      "text/plain": [
       "<Figure size 432x288 with 1 Axes>"
      ]
     },
     "metadata": {
      "needs_background": "light"
     },
     "output_type": "display_data"
    }
   ],
   "source": [
    "# Visualize the probability distribution of the 10-year Monte Carlo simulation \n",
    "# by plotting a histogram\n",
    "# YOUR CODE HERE\n",
    "MC_10yr_8020.plot_distribution()"
   ]
  },
  {
   "cell_type": "code",
   "execution_count": 237,
   "metadata": {},
   "outputs": [
    {
     "data": {
      "text/plain": [
       "count           500.000000\n",
       "mean              4.181468\n",
       "std               2.565160\n",
       "min               0.580300\n",
       "25%               2.456490\n",
       "50%               3.574620\n",
       "75%               5.182422\n",
       "max              19.000852\n",
       "95% CI Lower      1.166036\n",
       "95% CI Upper     10.070529\n",
       "Name: 2520, dtype: float64"
      ]
     },
     "execution_count": 237,
     "metadata": {},
     "output_type": "execute_result"
    }
   ],
   "source": [
    "# Generate summary statistics from the 10-year Monte Carlo simulation results\n",
    "# Save the results as a variable\n",
    "MC_8020_stats = MC_10yr_8020.summarize_cumulative_return()\n",
    "\n",
    "# Review the 10-year Monte Carlo summary statistics\n",
    "MC_8020_stats"
   ]
  },
  {
   "cell_type": "markdown",
   "metadata": {},
   "source": [
    "### Answer the following questions:"
   ]
  },
  {
   "cell_type": "markdown",
   "metadata": {},
   "source": [
    "#### Question: Using the current value of only the stock and bond portion of the member's portfolio and the summary statistics that you generated from the new Monte Carlo simulation, what are the lower and upper bounds for the expected value of the portfolio (with the new weights) with a 95% confidence interval?"
   ]
  },
  {
   "cell_type": "code",
   "execution_count": 238,
   "metadata": {},
   "outputs": [
    {
     "name": "stdout",
     "output_type": "stream",
     "text": [
      "The starting balance of your stock/bond portfolio is $72383.4.\n"
     ]
    }
   ],
   "source": [
    "# Print the current balance of the stock and bond portion of the members portfolio\n",
    "print(f\"The starting balance of your stock/bond portfolio is ${total_stocks_bonds}.\")"
   ]
  },
  {
   "cell_type": "code",
   "execution_count": 239,
   "metadata": {},
   "outputs": [
    {
     "name": "stdout",
     "output_type": "stream",
     "text": [
      "There is a 95% chance that an initial investment of $72383.4 in the portfolio over the next 5 years will end within in the range of $ 84401.62 and $ 728939.14.\n"
     ]
    }
   ],
   "source": [
    "# Use the lower and upper `95%` confidence intervals to calculate the range of the possible outcomes for the current stock/bond portfolio\n",
    "ci_lower_ten_cumulative_return = MC_8020_stats[8] * total_stocks_bonds\n",
    "ci_upper_ten_cumulative_return = MC_8020_stats[9] * total_stocks_bonds\n",
    "\n",
    "# Print the result of your calculations\n",
    "print(f\"There is a 95% chance that an initial investment of ${total_stocks_bonds} in the portfolio\"\n",
    "  f\" over the next 5 years will end within in the range of\"\n",
    "  f\" ${ci_lower_ten_cumulative_return: .2f} and ${ci_upper_ten_cumulative_return: .2f}.\")"
   ]
  },
  {
   "cell_type": "markdown",
   "metadata": {},
   "source": [
    "#### Question: Will weighting the portfolio more heavily to stocks allow the credit union members to retire after only 10 years?"
   ]
  },
  {
   "cell_type": "raw",
   "metadata": {},
   "source": [
    "**Answer** # YOUR ANSWER HERE"
   ]
  },
  {
   "cell_type": "markdown",
   "metadata": {},
   "source": [
    "Questions for office hours: \n",
    "does what order does the forecaster apply the tickers? Is it the same as the list? in this case, spy then agg, or is it the same as what is displayed when you get the portfolio_data.head?\n",
    "It sure seems like the more bonds, the better the return, which doesn't make sense...,\n",
    "\n",
    "also, questions from the notepad."
   ]
  }
 ],
 "metadata": {
  "kernelspec": {
   "display_name": "Python (dev)",
   "language": "python",
   "name": "dev"
  },
  "language_info": {
   "codemirror_mode": {
    "name": "ipython",
    "version": 3
   },
   "file_extension": ".py",
   "mimetype": "text/x-python",
   "name": "python",
   "nbconvert_exporter": "python",
   "pygments_lexer": "ipython3",
   "version": "3.7.11"
  }
 },
 "nbformat": 4,
 "nbformat_minor": 4
}
