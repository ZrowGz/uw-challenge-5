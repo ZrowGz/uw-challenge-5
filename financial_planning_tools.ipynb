{
 "cells": [
  {
   "cell_type": "markdown",
   "metadata": {},
   "source": [
    "# Financial Planning with APIs and Simulations\n",
    "\n",
    "In this Challenge, you’ll create two financial analysis tools by using a single Jupyter notebook:\n",
    "\n",
    "Part 1: A financial planner for emergencies. The members will be able to use this tool to visualize their current savings. The members can then determine if they have enough reserves for an emergency fund.\n",
    "\n",
    "Part 2: A financial planner for retirement. This tool will forecast the performance of their retirement portfolio in 30 years. To do this, the tool will make an Alpaca API call via the Alpaca SDK to get historical price data for use in Monte Carlo simulations.\n",
    "\n",
    "You’ll use the information from the Monte Carlo simulation to answer questions about the portfolio in your Jupyter notebook.\n",
    "\n"
   ]
  },
  {
   "cell_type": "code",
   "execution_count": 32,
   "metadata": {},
   "outputs": [],
   "source": [
    "# Import the required libraries and dependencies\n",
    "import os\n",
    "import requests\n",
    "import json\n",
    "import pandas as pd\n",
    "from dotenv import load_dotenv\n",
    "import alpaca_trade_api as tradeapi\n",
    "from MCForecastTools import MCSimulation\n",
    "\n",
    "%matplotlib inline"
   ]
  },
  {
   "cell_type": "code",
   "execution_count": 33,
   "metadata": {},
   "outputs": [
    {
     "data": {
      "text/plain": [
       "True"
      ]
     },
     "execution_count": 33,
     "metadata": {},
     "output_type": "execute_result"
    }
   ],
   "source": [
    "# Load the environment variables from the .env file\n",
    "#by calling the load_dotenv function\n",
    "load_dotenv()"
   ]
  },
  {
   "cell_type": "markdown",
   "metadata": {},
   "source": [
    "## Part 1: Create a Financial Planner for Emergencies"
   ]
  },
  {
   "cell_type": "markdown",
   "metadata": {},
   "source": [
    "### Evaluate the Cryptocurrency Wallet by Using the Requests Library\n",
    "\n",
    "In this section, you’ll determine the current value of a member’s cryptocurrency wallet. You’ll collect the current prices for the Bitcoin and Ethereum cryptocurrencies by using the Python Requests library. For the prototype, you’ll assume that the member holds the 1.2 Bitcoins (BTC) and 5.3 Ethereum coins (ETH). To do all this, complete the following steps:\n",
    "\n",
    "1. Create a variable named `monthly_income`, and set its value to `12000`.\n",
    "\n",
    "2. Use the Requests library to get the current price (in US dollars) of Bitcoin (BTC) and Ethereum (ETH) by using the API endpoints that the starter code supplies.\n",
    "\n",
    "3. Navigate the JSON response object to access the current price of each coin, and store each in a variable.\n",
    "\n",
    "    > **Hint** Note the specific identifier for each cryptocurrency in the API JSON response. The Bitcoin identifier is `1`, and the Ethereum identifier is `1027`.\n",
    "\n",
    "4. Calculate the value, in US dollars, of the current amount of each cryptocurrency and of the entire cryptocurrency wallet.\n",
    "\n"
   ]
  },
  {
   "cell_type": "code",
   "execution_count": 34,
   "metadata": {},
   "outputs": [],
   "source": [
    "# The current number of coins for each cryptocurrency asset held in the portfolio.\n",
    "btc_coins = 1.2\n",
    "eth_coins = 5.3"
   ]
  },
  {
   "cell_type": "markdown",
   "metadata": {},
   "source": [
    "#### Step 1: Create a variable named `monthly_income`, and set its value to `12000`."
   ]
  },
  {
   "cell_type": "code",
   "execution_count": 35,
   "metadata": {},
   "outputs": [],
   "source": [
    "# The monthly amount for the member's household income\n",
    "monthly_income = 12000"
   ]
  },
  {
   "cell_type": "markdown",
   "metadata": {},
   "source": [
    "#### Review the endpoint URLs for the API calls to Free Crypto API in order to get the current pricing information for both BTC and ETH."
   ]
  },
  {
   "cell_type": "code",
   "execution_count": 36,
   "metadata": {},
   "outputs": [],
   "source": [
    "# The Free Crypto API Call endpoint URLs for the held cryptocurrency assets\n",
    "btc_url = \"https://api.alternative.me/v2/ticker/Bitcoin/?convert=USD\"\n",
    "eth_url = \"https://api.alternative.me/v2/ticker/Ethereum/?convert=USD\""
   ]
  },
  {
   "cell_type": "markdown",
   "metadata": {},
   "source": [
    "#### Step 2. Use the Requests library to get the current price (in US dollars) of Bitcoin (BTC) and Ethereum (ETH) by using the API endpoints that the starter code supplied."
   ]
  },
  {
   "cell_type": "code",
   "execution_count": 37,
   "metadata": {},
   "outputs": [
    {
     "name": "stdout",
     "output_type": "stream",
     "text": [
      "{\n",
      "    \"data\": {\n",
      "        \"1\": {\n",
      "            \"circulating_supply\": 18818656,\n",
      "            \"id\": 1,\n",
      "            \"last_updated\": 1631909656,\n",
      "            \"max_supply\": 21000000,\n",
      "            \"name\": \"Bitcoin\",\n",
      "            \"quotes\": {\n",
      "                \"USD\": {\n",
      "                    \"market_cap\": 895209743178,\n",
      "                    \"percent_change_1h\": 0.70013232575948,\n",
      "                    \"percent_change_24h\": 0.197406632897888,\n",
      "                    \"percent_change_7d\": 2.34541629959179,\n",
      "                    \"percentage_change_1h\": 0.70013232575948,\n",
      "                    \"percentage_change_24h\": 0.197406632897888,\n",
      "                    \"percentage_change_7d\": 2.34541629959179,\n",
      "                    \"price\": 47610.0,\n",
      "                    \"volume_24h\": 28258384059\n",
      "                }\n",
      "            },\n",
      "            \"rank\": 1,\n",
      "            \"symbol\": \"BTC\",\n",
      "            \"total_supply\": 18818656,\n",
      "            \"website_slug\": \"bitcoin\"\n",
      "        }\n",
      "    },\n",
      "    \"metadata\": {\n",
      "        \"error\": null,\n",
      "        \"num_cryptocurrencies\": 3105,\n",
      "        \"timestamp\": 1631909656\n",
      "    }\n",
      "}\n"
     ]
    }
   ],
   "source": [
    "# Using the Python requests library, make an API call to access the current price of BTC\n",
    "btc_response = requests.get(btc_url).json()\n",
    "\n",
    "# Use the json.dumps function to review the response data from the API call\n",
    "# Use the indent and sort_keys parameters to make the response object readable\n",
    "print(json.dumps(btc_response, indent=4, sort_keys=True))"
   ]
  },
  {
   "cell_type": "code",
   "execution_count": 38,
   "metadata": {},
   "outputs": [
    {
     "name": "stdout",
     "output_type": "stream",
     "text": [
      "{\n",
      "    \"data\": {\n",
      "        \"1027\": {\n",
      "            \"circulating_supply\": 117564926,\n",
      "            \"id\": 1027,\n",
      "            \"last_updated\": 1631909632,\n",
      "            \"max_supply\": 0,\n",
      "            \"name\": \"Ethereum\",\n",
      "            \"quotes\": {\n",
      "                \"USD\": {\n",
      "                    \"market_cap\": 402856258903,\n",
      "                    \"percent_change_1h\": 0.647035380942388,\n",
      "                    \"percent_change_24h\": -4.13010428264806,\n",
      "                    \"percent_change_7d\": -0.315345349372588,\n",
      "                    \"percentage_change_1h\": 0.647035380942388,\n",
      "                    \"percentage_change_24h\": -4.13010428264806,\n",
      "                    \"percentage_change_7d\": -0.315345349372588,\n",
      "                    \"price\": 3425.14,\n",
      "                    \"volume_24h\": 19391132940\n",
      "                }\n",
      "            },\n",
      "            \"rank\": 2,\n",
      "            \"symbol\": \"ETH\",\n",
      "            \"total_supply\": 117564926,\n",
      "            \"website_slug\": \"ethereum\"\n",
      "        }\n",
      "    },\n",
      "    \"metadata\": {\n",
      "        \"error\": null,\n",
      "        \"num_cryptocurrencies\": 3105,\n",
      "        \"timestamp\": 1631909632\n",
      "    }\n",
      "}\n"
     ]
    }
   ],
   "source": [
    "# Using the Python requests library, make an API call to access the current price ETH\n",
    "eth_response = requests.get(eth_url).json()\n",
    "\n",
    "# Use the json.dumps function to review the response data from the API call\n",
    "# Use the indent and sort_keys parameters to make the response object readable\n",
    "print(json.dumps(eth_response, indent=4, sort_keys=True))"
   ]
  },
  {
   "cell_type": "markdown",
   "metadata": {},
   "source": [
    "#### Step 3: Navigate the JSON response object to access the current price of each coin, and store each in a variable."
   ]
  },
  {
   "cell_type": "code",
   "execution_count": 39,
   "metadata": {},
   "outputs": [
    {
     "name": "stdout",
     "output_type": "stream",
     "text": [
      "The current USD price of Bitcoin is $47610.00.\n"
     ]
    }
   ],
   "source": [
    "# Navigate the BTC response object to access the current price of BTC\n",
    "btc_price = btc_response[\"data\"][\"1\"][\"quotes\"][\"USD\"][\"price\"]\n",
    "\n",
    "# Print the current price of BTC\n",
    "print(f\"The current USD price of Bitcoin is ${btc_price:.2f}.\")\n"
   ]
  },
  {
   "cell_type": "code",
   "execution_count": 40,
   "metadata": {},
   "outputs": [
    {
     "name": "stdout",
     "output_type": "stream",
     "text": [
      "The current USD price of Ethereum is $47610.00.\n"
     ]
    }
   ],
   "source": [
    "# Navigate the BTC response object to access the current price of ETH\n",
    "eth_price = eth_response[\"data\"][\"1027\"][\"quotes\"][\"USD\"][\"price\"]\n",
    "\n",
    "# Print the current price of ETH\n",
    "print(f\"The current USD price of Ethereum is ${btc_price:.2f}.\")\n"
   ]
  },
  {
   "cell_type": "markdown",
   "metadata": {},
   "source": [
    "### Step 4: Calculate the value, in US dollars, of the current amount of each cryptocurrency and of the entire cryptocurrency wallet."
   ]
  },
  {
   "cell_type": "code",
   "execution_count": 41,
   "metadata": {},
   "outputs": [
    {
     "name": "stdout",
     "output_type": "stream",
     "text": [
      "The current USD value of held BTC is $57132.00.\n"
     ]
    }
   ],
   "source": [
    "# Compute the current value of the BTC holding \n",
    "btc_value = btc_coins * btc_price\n",
    "\n",
    "# Print current value of your holding in BTC\n",
    "print(f\"The current USD value of held BTC is ${btc_value:.2f}.\")\n"
   ]
  },
  {
   "cell_type": "code",
   "execution_count": 42,
   "metadata": {},
   "outputs": [
    {
     "name": "stdout",
     "output_type": "stream",
     "text": [
      "The current USD value of held ETH is $18153.24.\n"
     ]
    }
   ],
   "source": [
    "# Compute the current value of the ETH holding \n",
    "eth_value = eth_coins * eth_price\n",
    "\n",
    "# Print current value of your holding in ETH\n",
    "print(f\"The current USD value of held ETH is ${eth_value:.2f}.\")\n"
   ]
  },
  {
   "cell_type": "code",
   "execution_count": 43,
   "metadata": {},
   "outputs": [
    {
     "name": "stdout",
     "output_type": "stream",
     "text": [
      "The current USD value of the portfolio is $75285.24.\n"
     ]
    }
   ],
   "source": [
    "# Compute the total value of the cryptocurrency wallet\n",
    "# Add the value of the BTC holding to the value of the ETH holding\n",
    "total_crypto_wallet = eth_value + btc_value\n",
    "\n",
    "# Print current cryptocurrency wallet balance\n",
    "print(f\"The current USD value of the portfolio is ${total_crypto_wallet:.2f}.\")\n"
   ]
  },
  {
   "cell_type": "markdown",
   "metadata": {
    "tags": []
   },
   "source": [
    "### Evaluate the Stock and Bond Holdings by Using the Alpaca SDK\n",
    "\n",
    "In this section, you’ll determine the current value of a member’s stock and bond holdings. You’ll make an API call to Alpaca via the Alpaca SDK to get the current closing prices of the SPDR S&P 500 ETF Trust (ticker: SPY) and of the iShares Core US Aggregate Bond ETF (ticker: AGG). For the prototype, assume that the member holds 110 shares of SPY, which represents the stock portion of their portfolio, and 200 shares of AGG, which represents the bond portion. To do all this, complete the following steps:\n",
    "\n",
    "1. In the `Starter_Code` folder, create an environment file (`.env`) to store the values of your Alpaca API key and Alpaca secret key.\n",
    "\n",
    "2. Set the variables for the Alpaca API and secret keys. Using the Alpaca SDK, create the Alpaca `tradeapi.REST` object. In this object, include the parameters for the Alpaca API key, the secret key, and the version number.\n",
    "\n",
    "3. Set the following parameters for the Alpaca API call:\n",
    "\n",
    "    - `tickers`: Use the tickers for the member’s stock and bond holdings.\n",
    "\n",
    "    - `timeframe`: Use a time frame of one day.\n",
    "\n",
    "    - `start_date` and `end_date`: Use the same date for these parameters, and format them with the date of the previous weekday (or `2020-08-07`). This is because you want the one closing price for the most-recent trading day.\n",
    "\n",
    "4. Get the current closing prices for `SPY` and `AGG` by using the Alpaca `get_barset` function. Format the response as a Pandas DataFrame by including the `df` property at the end of the `get_barset` function.\n",
    "\n",
    "5. Navigating the Alpaca response DataFrame, select the `SPY` and `AGG` closing prices, and store them as variables.\n",
    "\n",
    "6. Calculate the value, in US dollars, of the current amount of shares in each of the stock and bond portions of the portfolio, and print the results.\n"
   ]
  },
  {
   "cell_type": "markdown",
   "metadata": {},
   "source": [
    "#### Review the total number of shares held in both (SPY) and (AGG)."
   ]
  },
  {
   "cell_type": "code",
   "execution_count": 44,
   "metadata": {},
   "outputs": [],
   "source": [
    "# Current amount of shares held in both the stock (SPY) and bond (AGG) portion of the portfolio.\n",
    "spy_shares = 110\n",
    "agg_shares = 200\n"
   ]
  },
  {
   "cell_type": "markdown",
   "metadata": {},
   "source": [
    "#### Step 1: In the `Starter_Code` folder, create an environment file (`.env`) to store the values of your Alpaca API key and Alpaca secret key."
   ]
  },
  {
   "cell_type": "markdown",
   "metadata": {},
   "source": [
    "#### Step 2: Set the variables for the Alpaca API and secret keys. Using the Alpaca SDK, create the Alpaca `tradeapi.REST` object. In this object, include the parameters for the Alpaca API key, the secret key, and the version number."
   ]
  },
  {
   "cell_type": "code",
   "execution_count": 45,
   "metadata": {},
   "outputs": [],
   "source": [
    "# Set the variables for the Alpaca API and secret keys\n",
    "alpaca_api_key = os.getenv(\"ALPACA_API_KEY\")\n",
    "alpaca_secret_key = os.getenv(\"ALPACA_SECRET_KEY\")\n",
    "\n",
    "# Create the Alpaca tradeapi.REST object\n",
    "alpaca = tradeapi.REST(\n",
    "  alpaca_api_key,\n",
    "  alpaca_secret_key,\n",
    "  api_version = \"v2\"\n",
    ")"
   ]
  },
  {
   "cell_type": "markdown",
   "metadata": {},
   "source": [
    "#### Step 3: Set the following parameters for the Alpaca API call:\n",
    "\n",
    "- `tickers`: Use the tickers for the member’s stock and bond holdings.\n",
    "\n",
    "- `timeframe`: Use a time frame of one day.\n",
    "\n",
    "- `start_date` and `end_date`: Use the same date for these parameters, and format them with the date of the previous weekday (or `2020-08-07`). This is because you want the one closing price for the most-recent trading day.\n"
   ]
  },
  {
   "cell_type": "code",
   "execution_count": 46,
   "metadata": {},
   "outputs": [],
   "source": [
    "# Set the tickers for both the bond and stock portion of the portfolio\n",
    "tickers = ['SPY', 'AGG']\n",
    "\n",
    "# Set timeframe to 1D \n",
    "timeframe = \"1D\"\n",
    "\n",
    "# Format current date as ISO format\n",
    "# Set both the start and end date at the date of your prior weekday \n",
    "# This will give you the closing price of the previous trading day\n",
    "# Alternatively you can use a start and end date of 2020-08-07\n",
    "start_date = pd.Timestamp(\"2021-09-16\", tz=\"America/New_York\").isoformat()\n",
    "end_date = pd.Timestamp(\"2021-09-16\", tz=\"America/New_York\").isoformat()"
   ]
  },
  {
   "cell_type": "markdown",
   "metadata": {},
   "source": [
    "#### Step 4: Get the current closing prices for `SPY` and `AGG` by using the Alpaca `get_barset` function. Format the response as a Pandas DataFrame by including the `df` property at the end of the `get_barset` function."
   ]
  },
  {
   "cell_type": "code",
   "execution_count": 47,
   "metadata": {},
   "outputs": [
    {
     "data": {
      "text/html": [
       "<div>\n",
       "<style scoped>\n",
       "    .dataframe tbody tr th:only-of-type {\n",
       "        vertical-align: middle;\n",
       "    }\n",
       "\n",
       "    .dataframe tbody tr th {\n",
       "        vertical-align: top;\n",
       "    }\n",
       "\n",
       "    .dataframe thead tr th {\n",
       "        text-align: left;\n",
       "    }\n",
       "\n",
       "    .dataframe thead tr:last-of-type th {\n",
       "        text-align: right;\n",
       "    }\n",
       "</style>\n",
       "<table border=\"1\" class=\"dataframe\">\n",
       "  <thead>\n",
       "    <tr>\n",
       "      <th></th>\n",
       "      <th colspan=\"5\" halign=\"left\">AGG</th>\n",
       "      <th colspan=\"5\" halign=\"left\">SPY</th>\n",
       "    </tr>\n",
       "    <tr>\n",
       "      <th></th>\n",
       "      <th>open</th>\n",
       "      <th>high</th>\n",
       "      <th>low</th>\n",
       "      <th>close</th>\n",
       "      <th>volume</th>\n",
       "      <th>open</th>\n",
       "      <th>high</th>\n",
       "      <th>low</th>\n",
       "      <th>close</th>\n",
       "      <th>volume</th>\n",
       "    </tr>\n",
       "    <tr>\n",
       "      <th>time</th>\n",
       "      <th></th>\n",
       "      <th></th>\n",
       "      <th></th>\n",
       "      <th></th>\n",
       "      <th></th>\n",
       "      <th></th>\n",
       "      <th></th>\n",
       "      <th></th>\n",
       "      <th></th>\n",
       "      <th></th>\n",
       "    </tr>\n",
       "  </thead>\n",
       "  <tbody>\n",
       "    <tr>\n",
       "      <th>2021-09-16 00:00:00-04:00</th>\n",
       "      <td>115.95</td>\n",
       "      <td>116.11</td>\n",
       "      <td>115.905</td>\n",
       "      <td>115.99</td>\n",
       "      <td>3673608</td>\n",
       "      <td>447.32</td>\n",
       "      <td>448.36</td>\n",
       "      <td>444.02</td>\n",
       "      <td>447.14</td>\n",
       "      <td>69354318</td>\n",
       "    </tr>\n",
       "  </tbody>\n",
       "</table>\n",
       "</div>"
      ],
      "text/plain": [
       "                              AGG                                       SPY  \\\n",
       "                             open    high      low   close   volume    open   \n",
       "time                                                                          \n",
       "2021-09-16 00:00:00-04:00  115.95  116.11  115.905  115.99  3673608  447.32   \n",
       "\n",
       "                                                             \n",
       "                             high     low   close    volume  \n",
       "time                                                         \n",
       "2021-09-16 00:00:00-04:00  448.36  444.02  447.14  69354318  "
      ]
     },
     "execution_count": 47,
     "metadata": {},
     "output_type": "execute_result"
    }
   ],
   "source": [
    "# Use the Alpaca get_barset function to get current closing prices the portfolio\n",
    "# Be sure to set the `df` property after the function to format the response object as a DataFrame\n",
    "prices_df = alpaca.get_barset(\n",
    "  tickers,\n",
    "  timeframe,\n",
    "  start=start_date,\n",
    "  end=end_date,\n",
    ").df\n",
    "\n",
    "# Review the first 5 rows of the Alpaca DataFrame\n",
    "prices_df.head()"
   ]
  },
  {
   "cell_type": "markdown",
   "metadata": {},
   "source": [
    "#### Step 5: Navigating the Alpaca response DataFrame, select the `SPY` and `AGG` closing prices, and store them as variables."
   ]
  },
  {
   "cell_type": "code",
   "execution_count": null,
   "metadata": {},
   "outputs": [],
   "source": [
    "#"
   ]
  },
  {
   "cell_type": "code",
   "execution_count": 104,
   "metadata": {},
   "outputs": [
    {
     "name": "stdout",
     "output_type": "stream",
     "text": [
      "The close price of AGG is $115.99.\n"
     ]
    }
   ],
   "source": [
    "# Access the closing price for AGG from the Alpaca DataFrame\n",
    "# Converting the value to a floating point number \n",
    "agg_close_price = float(prices_df['AGG']['close'])\n",
    "\n",
    "# Print the AGG closing price\n",
    "print(f\"The close price of AGG is ${agg_close_price}.\")"
   ]
  },
  {
   "cell_type": "code",
   "execution_count": 103,
   "metadata": {},
   "outputs": [
    {
     "name": "stdout",
     "output_type": "stream",
     "text": [
      "The close price of SPY is $447.14.\n"
     ]
    }
   ],
   "source": [
    "# Access the closing price for SPY from the Alpaca DataFrame\n",
    "# Converting the value to a floating point number\n",
    "spy_close_price = float(prices_df['SPY']['close'])\n",
    "\n",
    "# Print the SPY closing price\n",
    "print(f\"The close price of SPY is ${spy_close_price}.\")"
   ]
  },
  {
   "cell_type": "markdown",
   "metadata": {},
   "source": [
    "#### Step 6: Calculate the value, in US dollars, of the current amount of shares in each of the stock and bond portions of the portfolio, and print the results."
   ]
  },
  {
   "cell_type": "code",
   "execution_count": 106,
   "metadata": {},
   "outputs": [
    {
     "name": "stdout",
     "output_type": "stream",
     "text": [
      "The total value of held AGG shares is $23198.0.\n"
     ]
    }
   ],
   "source": [
    "# Calculate the current value of the bond portion of the portfolio\n",
    "agg_value = agg_close_price * agg_shares\n",
    "\n",
    "# Print the current value of the bond portfolio\n",
    "print(f\"The total value of held AGG shares is ${agg_value}.\")"
   ]
  },
  {
   "cell_type": "code",
   "execution_count": 107,
   "metadata": {},
   "outputs": [
    {
     "name": "stdout",
     "output_type": "stream",
     "text": [
      "The total value of held AGG shares is $49185.4.\n"
     ]
    }
   ],
   "source": [
    "# Calculate the current value of the stock portion of the portfolio\n",
    "spy_value = spy_close_price * spy_shares\n",
    "\n",
    "# Print the current value of the stock portfolio\n",
    "print(f\"The total value of held AGG shares is ${spy_value}.\")"
   ]
  },
  {
   "cell_type": "code",
   "execution_count": 108,
   "metadata": {},
   "outputs": [
    {
     "name": "stdout",
     "output_type": "stream",
     "text": [
      "The total value of the portfolio is $72383.4.\n"
     ]
    }
   ],
   "source": [
    "# Calculate the total value of the stock and bond portion of the portfolio\n",
    "total_stocks_bonds = spy_value + agg_value\n",
    "\n",
    "# Print the current balance of the stock and bond portion of the portfolio\n",
    "print(f\"The total value of the stocks & bonds is ${total_stocks_bonds}.\")"
   ]
  },
  {
   "cell_type": "code",
   "execution_count": 109,
   "metadata": {},
   "outputs": [
    {
     "name": "stdout",
     "output_type": "stream",
     "text": [
      "The total value of the portfolio is $147668.642.\n"
     ]
    }
   ],
   "source": [
    "# Calculate the total value of the member's entire savings portfolio\n",
    "# Add the value of the cryptocurrency walled to the value of the total stocks and bonds\n",
    "total_portfolio = total_crypto_wallet + total_stocks_bonds\n",
    "\n",
    "# Print current cryptocurrency wallet balance\n",
    "print(f\"The total value of the portfolio is ${total_portfolio}.\")"
   ]
  },
  {
   "cell_type": "markdown",
   "metadata": {},
   "source": [
    "### Evaluate the Emergency Fund\n",
    "\n",
    "In this section, you’ll use the valuations for the cryptocurrency wallet and for the stock and bond portions of the portfolio to determine if the credit union member has enough savings to build an emergency fund into their financial plan. To do this, complete the following steps:\n",
    "\n",
    "1. Create a Python list named `savings_data` that has two elements. The first element contains the total value of the cryptocurrency wallet. The second element contains the total value of the stock and bond portions of the portfolio.\n",
    "\n",
    "2. Use the `savings_data` list to create a Pandas DataFrame named `savings_df`, and then display this DataFrame. The function to create the DataFrame should take the following three parameters:\n",
    "\n",
    "    - `savings_data`: Use the list that you just created.\n",
    "\n",
    "    - `columns`: Set this parameter equal to a Python list with a single value called `amount`.\n",
    "\n",
    "    - `index`: Set this parameter equal to a Python list with the values of `crypto` and `stock/bond`.\n",
    "\n",
    "3. Use the `savings_df` DataFrame to plot a pie chart that visualizes the composition of the member’s portfolio. The y-axis of the pie chart uses `amount`. Be sure to add a title.\n",
    "\n",
    "4. Using Python, determine if the current portfolio has enough to create an emergency fund as part of the member’s financial plan. Ideally, an emergency fund should equal to three times the member’s monthly income. To do this, implement the following steps:\n",
    "\n",
    "    1. Create a variable named `emergency_fund_value`, and set it equal to three times the value of the member’s `monthly_income` of $12000. (You set this earlier in Part 1).\n",
    "\n",
    "    2. Create a series of three if statements to determine if the member’s total portfolio is large enough to fund the emergency portfolio:\n",
    "\n",
    "        1. If the total portfolio value is greater than the emergency fund value, display a message congratulating the member for having enough money in this fund.\n",
    "\n",
    "        2. Else if the total portfolio value is equal to the emergency fund value, display a message congratulating the member on reaching this important financial goal.\n",
    "\n",
    "        3. Else the total portfolio is less than the emergency fund value, so display a message showing how many dollars away the member is from reaching the goal. (Subtract the total portfolio value from the emergency fund value.)\n"
   ]
  },
  {
   "cell_type": "markdown",
   "metadata": {},
   "source": [
    "#### Step 1: Create a Python list named `savings_data` that has two elements. The first element contains the total value of the cryptocurrency wallet. The second element contains the total value of the stock and bond portions of the portfolio."
   ]
  },
  {
   "cell_type": "code",
   "execution_count": 110,
   "metadata": {},
   "outputs": [
    {
     "data": {
      "text/plain": [
       "[75285.242, 72383.4]"
      ]
     },
     "execution_count": 110,
     "metadata": {},
     "output_type": "execute_result"
    }
   ],
   "source": [
    "# Consolidate financial assets data into a Python list\n",
    "savings_data = [total_crypto_wallet, total_stocks_bonds]\n",
    "\n",
    "# Review the Python list savings_data\n",
    "savings_data"
   ]
  },
  {
   "cell_type": "markdown",
   "metadata": {},
   "source": [
    "#### Step 2: Use the `savings_data` list to create a Pandas DataFrame named `savings_df`, and then display this DataFrame. The function to create the DataFrame should take the following three parameters:\n",
    "\n",
    "- `savings_data`: Use the list that you just created.\n",
    "\n",
    "- `columns`: Set this parameter equal to a Python list with a single value called `amount`.\n",
    "\n",
    "- `index`: Set this parameter equal to a Python list with the values of `crypto` and `stock/bond`.\n"
   ]
  },
  {
   "cell_type": "code",
   "execution_count": 118,
   "metadata": {},
   "outputs": [
    {
     "data": {
      "text/html": [
       "<div>\n",
       "<style scoped>\n",
       "    .dataframe tbody tr th:only-of-type {\n",
       "        vertical-align: middle;\n",
       "    }\n",
       "\n",
       "    .dataframe tbody tr th {\n",
       "        vertical-align: top;\n",
       "    }\n",
       "\n",
       "    .dataframe thead th {\n",
       "        text-align: right;\n",
       "    }\n",
       "</style>\n",
       "<table border=\"1\" class=\"dataframe\">\n",
       "  <thead>\n",
       "    <tr style=\"text-align: right;\">\n",
       "      <th></th>\n",
       "      <th>amount</th>\n",
       "    </tr>\n",
       "  </thead>\n",
       "  <tbody>\n",
       "    <tr>\n",
       "      <th>crypto</th>\n",
       "      <td>75285.242</td>\n",
       "    </tr>\n",
       "    <tr>\n",
       "      <th>stock/bond</th>\n",
       "      <td>72383.400</td>\n",
       "    </tr>\n",
       "  </tbody>\n",
       "</table>\n",
       "</div>"
      ],
      "text/plain": [
       "               amount\n",
       "crypto      75285.242\n",
       "stock/bond  72383.400"
      ]
     },
     "execution_count": 118,
     "metadata": {},
     "output_type": "execute_result"
    }
   ],
   "source": [
    "# setting the column as a list is not recommended: \n",
    "# https://stackoverflow.com/questions/52552198/how-to-set-the-value-of-a-pandas-column-as-list\n",
    "\n",
    "# Create a Pandas DataFrame called savings_df \n",
    "savings_df = pd.DataFrame(\n",
    "    savings_data,\n",
    "    columns=([\"amount\"]),\n",
    "    index=([\"crypto\", \"stock/bond\"])\n",
    ")\n",
    "\n",
    "# Display the savings_df DataFrame\n",
    "savings_df"
   ]
  },
  {
   "cell_type": "markdown",
   "metadata": {},
   "source": [
    "#### Step 3: Use the `savings_df` DataFrame to plot a pie chart that visualizes the composition of the member’s portfolio. The y-axis of the pie chart uses `amount`. Be sure to add a title."
   ]
  },
  {
   "cell_type": "code",
   "execution_count": 119,
   "metadata": {},
   "outputs": [
    {
     "data": {
      "text/plain": [
       "<matplotlib.axes._subplots.AxesSubplot at 0x7f9201848310>"
      ]
     },
     "execution_count": 119,
     "metadata": {},
     "output_type": "execute_result"
    },
    {
     "data": {
      "image/png": "[encoded data removed]",
      "text/plain": [
       "<Figure size 432x288 with 1 Axes>"
      ]
     },
     "metadata": {},
     "output_type": "display_data"
    }
   ],
   "source": [
    "# Plot the total value of the member's portfolio (crypto and stock/bond) in a pie chart\n",
    "savings_df.plot.pie(y='amount', title='Portfolio Composition')"
   ]
  },
  {
   "cell_type": "markdown",
   "metadata": {},
   "source": [
    "#### Step 4: Using Python, determine if the current portfolio has enough to create an emergency fund as part of the member’s financial plan. Ideally, an emergency fund should equal to three times the member’s monthly income. To do this, implement the following steps:\n",
    "\n",
    "Step 1. Create a variable named `emergency_fund_value`, and set it equal to three times the value of the member’s `monthly_income` of 12000. (You set this earlier in Part 1).\n",
    "\n",
    "Step 2. Create a series of three if statements to determine if the member’s total portfolio is large enough to fund the emergency portfolio:\n",
    "\n",
    "* If the total portfolio value is greater than the emergency fund value, display a message congratulating the member for having enough money in this fund.\n",
    "\n",
    "* Else if the total portfolio value is equal to the emergency fund value, display a message congratulating the member on reaching this important financial goal.\n",
    "\n",
    "* Else the total portfolio is less than the emergency fund value, so display a message showing how many dollars away the member is from reaching the goal. (Subtract the total portfolio value from the emergency fund value.)\n"
   ]
  },
  {
   "cell_type": "markdown",
   "metadata": {},
   "source": [
    "##### Step 4-1: Create a variable named `emergency_fund_value`, and set it equal to three times the value of the member’s `monthly_income` of 12000. (You set this earlier in Part 1)."
   ]
  },
  {
   "cell_type": "code",
   "execution_count": 128,
   "metadata": {},
   "outputs": [
    {
     "name": "stdout",
     "output_type": "stream",
     "text": [
      "The amount needed as an emergency fund is $36000.\n"
     ]
    }
   ],
   "source": [
    "# Create a variable named emergency_fund_value\n",
    "emergency_fund_value = 3 * monthly_income\n",
    "print(f\"The amount needed as an emergency fund is ${emergency_fund_value}.\")"
   ]
  },
  {
   "cell_type": "markdown",
   "metadata": {},
   "source": [
    "##### Step 4-2: Create a series of three if statements to determine if the member’s total portfolio is large enough to fund the emergency portfolio:\n",
    "\n",
    "* If the total portfolio value is greater than the emergency fund value, display a message congratulating the member for having enough money in this fund.\n",
    "\n",
    "* Else if the total portfolio value is equal to the emergency fund value, display a message congratulating the member on reaching this important financial goal.\n",
    "\n",
    "* Else the total portfolio is less than the emergency fund value, so display a message showing how many dollars away the member is from reaching the goal. (Subtract the total portfolio value from the emergency fund value.)"
   ]
  },
  {
   "cell_type": "code",
   "execution_count": 129,
   "metadata": {},
   "outputs": [
    {
     "name": "stdout",
     "output_type": "stream",
     "text": [
      "Congrats! You've saved more than enough to have a good emergency fund reserve!\n"
     ]
    }
   ],
   "source": [
    "# Evaluate the possibility of creating an emergency fund with 3 conditions:\n",
    "if total_portfolio > emergency_fund_value:\n",
    "    print(\"Congrats! You've saved more than enough to have a good emergency fund reserve!\")\n",
    "elif total_portfolio == emergency_fund_value:\n",
    "    print(\"Good job! You've met your financial goal of having a 3 month emergency fund. Keep going!\")\n",
    "else: \n",
    "    print(f\"Keep saving! Although you don't yet have enough saved for an emergency fund, you only need ${(emergency_fund_value - total_portfolio):.2f} more to reach your goal!\")"
   ]
  },
  {
   "cell_type": "markdown",
   "metadata": {},
   "source": [
    "## Part 2: Create a Financial Planner for Retirement"
   ]
  },
  {
   "cell_type": "markdown",
   "metadata": {},
   "source": [
    "### Create the Monte Carlo Simulation\n",
    "\n",
    "In this section, you’ll use the MCForecastTools library to create a Monte Carlo simulation for the member’s savings portfolio. To do this, complete the following steps:\n",
    "\n",
    "1. Make an API call via the Alpaca SDK to get 3 years of historical closing prices for a traditional 60/40 portfolio split: 60% stocks (SPY) and 40% bonds (AGG).\n",
    "\n",
    "2. Run a Monte Carlo simulation of 500 samples and 30 years for the 60/40 portfolio, and then plot the results.The following image shows the overlay line plot resulting from a simulation with these characteristics. However, because a random number generator is used to run each live Monte Carlo simulation, your image will differ slightly from this exact image:\n",
    "\n",
    "![A screenshot depicts the resulting plot.](Images/5-4-monte-carlo-line-plot.png)\n",
    "\n",
    "3. Plot the probability distribution of the Monte Carlo simulation. Plot the probability distribution of the Monte Carlo simulation. The following image shows the histogram plot resulting from a simulation with these characteristics. However, because a random number generator is used to run each live Monte Carlo simulation, your image will differ slightly from this exact image:\n",
    "\n",
    "![A screenshot depicts the histogram plot.](Images/5-4-monte-carlo-histogram.png)\n",
    "\n",
    "4. Generate the summary statistics for the Monte Carlo simulation.\n",
    "\n"
   ]
  },
  {
   "cell_type": "markdown",
   "metadata": {},
   "source": [
    "#### Step 1: Make an API call via the Alpaca SDK to get 3 years of historical closing prices for a traditional 60/40 portfolio split: 60% stocks (SPY) and 40% bonds (AGG)."
   ]
  },
  {
   "cell_type": "code",
   "execution_count": 130,
   "metadata": {},
   "outputs": [],
   "source": [
    "# Set start and end dates of 3 years back from your current date\n",
    "# Alternatively, you can use an end date of 2020-08-07 and work 3 years back from that date \n",
    "start_date = pd.Timestamp(\"2018-09-16\", tz=\"America/New_York\").isoformat()\n",
    "end_date = pd.Timestamp(\"2021-09-16\", tz=\"America/New_York\").isoformat()\n",
    "\n",
    "# Set number of rows to 1000 to retrieve the maximum amount of rows\n",
    "limit_rows = 1000"
   ]
  },
  {
   "cell_type": "code",
   "execution_count": 132,
   "metadata": {},
   "outputs": [
    {
     "data": {
      "text/html": [
       "<div>\n",
       "<style scoped>\n",
       "    .dataframe tbody tr th:only-of-type {\n",
       "        vertical-align: middle;\n",
       "    }\n",
       "\n",
       "    .dataframe tbody tr th {\n",
       "        vertical-align: top;\n",
       "    }\n",
       "\n",
       "    .dataframe thead tr th {\n",
       "        text-align: left;\n",
       "    }\n",
       "\n",
       "    .dataframe thead tr:last-of-type th {\n",
       "        text-align: right;\n",
       "    }\n",
       "</style>\n",
       "<table border=\"1\" class=\"dataframe\">\n",
       "  <thead>\n",
       "    <tr>\n",
       "      <th></th>\n",
       "      <th colspan=\"5\" halign=\"left\">AGG</th>\n",
       "      <th colspan=\"5\" halign=\"left\">SPY</th>\n",
       "    </tr>\n",
       "    <tr>\n",
       "      <th></th>\n",
       "      <th>open</th>\n",
       "      <th>high</th>\n",
       "      <th>low</th>\n",
       "      <th>close</th>\n",
       "      <th>volume</th>\n",
       "      <th>open</th>\n",
       "      <th>high</th>\n",
       "      <th>low</th>\n",
       "      <th>close</th>\n",
       "      <th>volume</th>\n",
       "    </tr>\n",
       "    <tr>\n",
       "      <th>time</th>\n",
       "      <th></th>\n",
       "      <th></th>\n",
       "      <th></th>\n",
       "      <th></th>\n",
       "      <th></th>\n",
       "      <th></th>\n",
       "      <th></th>\n",
       "      <th></th>\n",
       "      <th></th>\n",
       "      <th></th>\n",
       "    </tr>\n",
       "  </thead>\n",
       "  <tbody>\n",
       "    <tr>\n",
       "      <th>2018-09-17 00:00:00-04:00</th>\n",
       "      <td>105.65</td>\n",
       "      <td>105.78</td>\n",
       "      <td>105.6000</td>\n",
       "      <td>105.660</td>\n",
       "      <td>5198364.0</td>\n",
       "      <td>290.82</td>\n",
       "      <td>290.86</td>\n",
       "      <td>289.030</td>\n",
       "      <td>289.34</td>\n",
       "      <td>43382137</td>\n",
       "    </tr>\n",
       "    <tr>\n",
       "      <th>2018-09-18 00:00:00-04:00</th>\n",
       "      <td>105.59</td>\n",
       "      <td>105.60</td>\n",
       "      <td>105.3900</td>\n",
       "      <td>105.430</td>\n",
       "      <td>2194556.0</td>\n",
       "      <td>289.57</td>\n",
       "      <td>291.58</td>\n",
       "      <td>289.550</td>\n",
       "      <td>290.90</td>\n",
       "      <td>38573521</td>\n",
       "    </tr>\n",
       "    <tr>\n",
       "      <th>2018-09-19 00:00:00-04:00</th>\n",
       "      <td>105.42</td>\n",
       "      <td>105.43</td>\n",
       "      <td>105.2200</td>\n",
       "      <td>105.270</td>\n",
       "      <td>2605609.0</td>\n",
       "      <td>290.97</td>\n",
       "      <td>291.69</td>\n",
       "      <td>290.825</td>\n",
       "      <td>291.25</td>\n",
       "      <td>34596543</td>\n",
       "    </tr>\n",
       "    <tr>\n",
       "      <th>2018-09-20 00:00:00-04:00</th>\n",
       "      <td>105.23</td>\n",
       "      <td>105.45</td>\n",
       "      <td>105.2300</td>\n",
       "      <td>105.370</td>\n",
       "      <td>2627111.0</td>\n",
       "      <td>292.64</td>\n",
       "      <td>293.94</td>\n",
       "      <td>292.510</td>\n",
       "      <td>293.55</td>\n",
       "      <td>54097569</td>\n",
       "    </tr>\n",
       "    <tr>\n",
       "      <th>2018-09-21 00:00:00-04:00</th>\n",
       "      <td>105.34</td>\n",
       "      <td>105.47</td>\n",
       "      <td>105.3232</td>\n",
       "      <td>105.465</td>\n",
       "      <td>2420806.0</td>\n",
       "      <td>293.09</td>\n",
       "      <td>293.22</td>\n",
       "      <td>291.810</td>\n",
       "      <td>292.01</td>\n",
       "      <td>45805544</td>\n",
       "    </tr>\n",
       "  </tbody>\n",
       "</table>\n",
       "</div>"
      ],
      "text/plain": [
       "                              AGG                                        \\\n",
       "                             open    high       low    close     volume   \n",
       "time                                                                      \n",
       "2018-09-17 00:00:00-04:00  105.65  105.78  105.6000  105.660  5198364.0   \n",
       "2018-09-18 00:00:00-04:00  105.59  105.60  105.3900  105.430  2194556.0   \n",
       "2018-09-19 00:00:00-04:00  105.42  105.43  105.2200  105.270  2605609.0   \n",
       "2018-09-20 00:00:00-04:00  105.23  105.45  105.2300  105.370  2627111.0   \n",
       "2018-09-21 00:00:00-04:00  105.34  105.47  105.3232  105.465  2420806.0   \n",
       "\n",
       "                              SPY                                     \n",
       "                             open    high      low   close    volume  \n",
       "time                                                                  \n",
       "2018-09-17 00:00:00-04:00  290.82  290.86  289.030  289.34  43382137  \n",
       "2018-09-18 00:00:00-04:00  289.57  291.58  289.550  290.90  38573521  \n",
       "2018-09-19 00:00:00-04:00  290.97  291.69  290.825  291.25  34596543  \n",
       "2018-09-20 00:00:00-04:00  292.64  293.94  292.510  293.55  54097569  \n",
       "2018-09-21 00:00:00-04:00  293.09  293.22  291.810  292.01  45805544  "
      ]
     },
     "metadata": {},
     "output_type": "display_data"
    },
    {
     "data": {
      "text/html": [
       "<div>\n",
       "<style scoped>\n",
       "    .dataframe tbody tr th:only-of-type {\n",
       "        vertical-align: middle;\n",
       "    }\n",
       "\n",
       "    .dataframe tbody tr th {\n",
       "        vertical-align: top;\n",
       "    }\n",
       "\n",
       "    .dataframe thead tr th {\n",
       "        text-align: left;\n",
       "    }\n",
       "\n",
       "    .dataframe thead tr:last-of-type th {\n",
       "        text-align: right;\n",
       "    }\n",
       "</style>\n",
       "<table border=\"1\" class=\"dataframe\">\n",
       "  <thead>\n",
       "    <tr>\n",
       "      <th></th>\n",
       "      <th colspan=\"5\" halign=\"left\">AGG</th>\n",
       "      <th colspan=\"5\" halign=\"left\">SPY</th>\n",
       "    </tr>\n",
       "    <tr>\n",
       "      <th></th>\n",
       "      <th>open</th>\n",
       "      <th>high</th>\n",
       "      <th>low</th>\n",
       "      <th>close</th>\n",
       "      <th>volume</th>\n",
       "      <th>open</th>\n",
       "      <th>high</th>\n",
       "      <th>low</th>\n",
       "      <th>close</th>\n",
       "      <th>volume</th>\n",
       "    </tr>\n",
       "    <tr>\n",
       "      <th>time</th>\n",
       "      <th></th>\n",
       "      <th></th>\n",
       "      <th></th>\n",
       "      <th></th>\n",
       "      <th></th>\n",
       "      <th></th>\n",
       "      <th></th>\n",
       "      <th></th>\n",
       "      <th></th>\n",
       "      <th></th>\n",
       "    </tr>\n",
       "  </thead>\n",
       "  <tbody>\n",
       "    <tr>\n",
       "      <th>2021-09-10 00:00:00-04:00</th>\n",
       "      <td>115.99</td>\n",
       "      <td>116.0100</td>\n",
       "      <td>115.7801</td>\n",
       "      <td>115.87</td>\n",
       "      <td>2767552.0</td>\n",
       "      <td>451.04</td>\n",
       "      <td>451.49</td>\n",
       "      <td>445.31</td>\n",
       "      <td>445.50</td>\n",
       "      <td>75763259</td>\n",
       "    </tr>\n",
       "    <tr>\n",
       "      <th>2021-09-13 00:00:00-04:00</th>\n",
       "      <td>116.00</td>\n",
       "      <td>116.0750</td>\n",
       "      <td>115.9600</td>\n",
       "      <td>116.03</td>\n",
       "      <td>3289881.0</td>\n",
       "      <td>448.65</td>\n",
       "      <td>448.92</td>\n",
       "      <td>444.11</td>\n",
       "      <td>446.56</td>\n",
       "      <td>75103627</td>\n",
       "    </tr>\n",
       "    <tr>\n",
       "      <th>2021-09-14 00:00:00-04:00</th>\n",
       "      <td>116.07</td>\n",
       "      <td>116.3800</td>\n",
       "      <td>116.0700</td>\n",
       "      <td>116.28</td>\n",
       "      <td>4036304.0</td>\n",
       "      <td>448.12</td>\n",
       "      <td>448.34</td>\n",
       "      <td>443.22</td>\n",
       "      <td>444.18</td>\n",
       "      <td>67959711</td>\n",
       "    </tr>\n",
       "    <tr>\n",
       "      <th>2021-09-15 00:00:00-04:00</th>\n",
       "      <td>116.29</td>\n",
       "      <td>116.2929</td>\n",
       "      <td>116.0900</td>\n",
       "      <td>116.19</td>\n",
       "      <td>3348036.0</td>\n",
       "      <td>444.62</td>\n",
       "      <td>448.41</td>\n",
       "      <td>443.44</td>\n",
       "      <td>447.87</td>\n",
       "      <td>69265024</td>\n",
       "    </tr>\n",
       "    <tr>\n",
       "      <th>2021-09-16 00:00:00-04:00</th>\n",
       "      <td>115.95</td>\n",
       "      <td>116.1100</td>\n",
       "      <td>115.9050</td>\n",
       "      <td>115.99</td>\n",
       "      <td>3673608.0</td>\n",
       "      <td>447.32</td>\n",
       "      <td>448.36</td>\n",
       "      <td>444.02</td>\n",
       "      <td>447.14</td>\n",
       "      <td>69354318</td>\n",
       "    </tr>\n",
       "  </tbody>\n",
       "</table>\n",
       "</div>"
      ],
      "text/plain": [
       "                              AGG                                         \\\n",
       "                             open      high       low   close     volume   \n",
       "time                                                                       \n",
       "2021-09-10 00:00:00-04:00  115.99  116.0100  115.7801  115.87  2767552.0   \n",
       "2021-09-13 00:00:00-04:00  116.00  116.0750  115.9600  116.03  3289881.0   \n",
       "2021-09-14 00:00:00-04:00  116.07  116.3800  116.0700  116.28  4036304.0   \n",
       "2021-09-15 00:00:00-04:00  116.29  116.2929  116.0900  116.19  3348036.0   \n",
       "2021-09-16 00:00:00-04:00  115.95  116.1100  115.9050  115.99  3673608.0   \n",
       "\n",
       "                              SPY                                    \n",
       "                             open    high     low   close    volume  \n",
       "time                                                                 \n",
       "2021-09-10 00:00:00-04:00  451.04  451.49  445.31  445.50  75763259  \n",
       "2021-09-13 00:00:00-04:00  448.65  448.92  444.11  446.56  75103627  \n",
       "2021-09-14 00:00:00-04:00  448.12  448.34  443.22  444.18  67959711  \n",
       "2021-09-15 00:00:00-04:00  444.62  448.41  443.44  447.87  69265024  \n",
       "2021-09-16 00:00:00-04:00  447.32  448.36  444.02  447.14  69354318  "
      ]
     },
     "metadata": {},
     "output_type": "display_data"
    }
   ],
   "source": [
    "# Use the Alpaca get_barset function to make the API call to get the 3 years worth of pricing data\n",
    "# The tickers and timeframe parameters should have been set in Part 1 of this activity \n",
    "# The start and end dates should be updated with the information set above\n",
    "# Remember to add the df property to the end of the call so the response is returned as a DataFrame\n",
    "portfolio_df = alpaca.get_barset(\n",
    "  tickers,\n",
    "  timeframe,\n",
    "  start=start_date,\n",
    "  end=end_date,\n",
    "  limit=limit_rows\n",
    ").df\n",
    "\n",
    "# Display both the first and last five rows of the DataFrame\n",
    "display(portfolio_df.head())\n",
    "display(portfolio_df.tail())"
   ]
  },
  {
   "cell_type": "markdown",
   "metadata": {},
   "source": [
    "#### Step 2: Run a Monte Carlo simulation of 500 samples and 30 years for the 60/40 portfolio, and then plot the results."
   ]
  },
  {
   "cell_type": "code",
   "execution_count": 180,
   "metadata": {},
   "outputs": [
    {
     "data": {
      "text/html": [
       "<div>\n",
       "<style scoped>\n",
       "    .dataframe tbody tr th:only-of-type {\n",
       "        vertical-align: middle;\n",
       "    }\n",
       "\n",
       "    .dataframe tbody tr th {\n",
       "        vertical-align: top;\n",
       "    }\n",
       "\n",
       "    .dataframe thead tr th {\n",
       "        text-align: left;\n",
       "    }\n",
       "\n",
       "    .dataframe thead tr:last-of-type th {\n",
       "        text-align: right;\n",
       "    }\n",
       "</style>\n",
       "<table border=\"1\" class=\"dataframe\">\n",
       "  <thead>\n",
       "    <tr>\n",
       "      <th></th>\n",
       "      <th colspan=\"6\" halign=\"left\">AGG</th>\n",
       "      <th colspan=\"6\" halign=\"left\">SPY</th>\n",
       "    </tr>\n",
       "    <tr>\n",
       "      <th></th>\n",
       "      <th>open</th>\n",
       "      <th>high</th>\n",
       "      <th>low</th>\n",
       "      <th>close</th>\n",
       "      <th>volume</th>\n",
       "      <th>daily_return</th>\n",
       "      <th>open</th>\n",
       "      <th>high</th>\n",
       "      <th>low</th>\n",
       "      <th>close</th>\n",
       "      <th>volume</th>\n",
       "      <th>daily_return</th>\n",
       "    </tr>\n",
       "    <tr>\n",
       "      <th>time</th>\n",
       "      <th></th>\n",
       "      <th></th>\n",
       "      <th></th>\n",
       "      <th></th>\n",
       "      <th></th>\n",
       "      <th></th>\n",
       "      <th></th>\n",
       "      <th></th>\n",
       "      <th></th>\n",
       "      <th></th>\n",
       "      <th></th>\n",
       "      <th></th>\n",
       "    </tr>\n",
       "  </thead>\n",
       "  <tbody>\n",
       "    <tr>\n",
       "      <th>2018-09-17 00:00:00-04:00</th>\n",
       "      <td>105.65</td>\n",
       "      <td>105.78</td>\n",
       "      <td>105.6000</td>\n",
       "      <td>105.660</td>\n",
       "      <td>5198364.0</td>\n",
       "      <td>NaN</td>\n",
       "      <td>290.82</td>\n",
       "      <td>290.86</td>\n",
       "      <td>289.030</td>\n",
       "      <td>289.34</td>\n",
       "      <td>43382137</td>\n",
       "      <td>NaN</td>\n",
       "    </tr>\n",
       "    <tr>\n",
       "      <th>2018-09-18 00:00:00-04:00</th>\n",
       "      <td>105.59</td>\n",
       "      <td>105.60</td>\n",
       "      <td>105.3900</td>\n",
       "      <td>105.430</td>\n",
       "      <td>2194556.0</td>\n",
       "      <td>-0.002177</td>\n",
       "      <td>289.57</td>\n",
       "      <td>291.58</td>\n",
       "      <td>289.550</td>\n",
       "      <td>290.90</td>\n",
       "      <td>38573521</td>\n",
       "      <td>0.005392</td>\n",
       "    </tr>\n",
       "    <tr>\n",
       "      <th>2018-09-19 00:00:00-04:00</th>\n",
       "      <td>105.42</td>\n",
       "      <td>105.43</td>\n",
       "      <td>105.2200</td>\n",
       "      <td>105.270</td>\n",
       "      <td>2605609.0</td>\n",
       "      <td>-0.001518</td>\n",
       "      <td>290.97</td>\n",
       "      <td>291.69</td>\n",
       "      <td>290.825</td>\n",
       "      <td>291.25</td>\n",
       "      <td>34596543</td>\n",
       "      <td>0.001203</td>\n",
       "    </tr>\n",
       "    <tr>\n",
       "      <th>2018-09-20 00:00:00-04:00</th>\n",
       "      <td>105.23</td>\n",
       "      <td>105.45</td>\n",
       "      <td>105.2300</td>\n",
       "      <td>105.370</td>\n",
       "      <td>2627111.0</td>\n",
       "      <td>0.000950</td>\n",
       "      <td>292.64</td>\n",
       "      <td>293.94</td>\n",
       "      <td>292.510</td>\n",
       "      <td>293.55</td>\n",
       "      <td>54097569</td>\n",
       "      <td>0.007897</td>\n",
       "    </tr>\n",
       "    <tr>\n",
       "      <th>2018-09-21 00:00:00-04:00</th>\n",
       "      <td>105.34</td>\n",
       "      <td>105.47</td>\n",
       "      <td>105.3232</td>\n",
       "      <td>105.465</td>\n",
       "      <td>2420806.0</td>\n",
       "      <td>0.000902</td>\n",
       "      <td>293.09</td>\n",
       "      <td>293.22</td>\n",
       "      <td>291.810</td>\n",
       "      <td>292.01</td>\n",
       "      <td>45805544</td>\n",
       "      <td>-0.005246</td>\n",
       "    </tr>\n",
       "  </tbody>\n",
       "</table>\n",
       "</div>"
      ],
      "text/plain": [
       "                              AGG                                        \\\n",
       "                             open    high       low    close     volume   \n",
       "time                                                                      \n",
       "2018-09-17 00:00:00-04:00  105.65  105.78  105.6000  105.660  5198364.0   \n",
       "2018-09-18 00:00:00-04:00  105.59  105.60  105.3900  105.430  2194556.0   \n",
       "2018-09-19 00:00:00-04:00  105.42  105.43  105.2200  105.270  2605609.0   \n",
       "2018-09-20 00:00:00-04:00  105.23  105.45  105.2300  105.370  2627111.0   \n",
       "2018-09-21 00:00:00-04:00  105.34  105.47  105.3232  105.465  2420806.0   \n",
       "\n",
       "                                           SPY                           \\\n",
       "                          daily_return    open    high      low   close   \n",
       "time                                                                      \n",
       "2018-09-17 00:00:00-04:00          NaN  290.82  290.86  289.030  289.34   \n",
       "2018-09-18 00:00:00-04:00    -0.002177  289.57  291.58  289.550  290.90   \n",
       "2018-09-19 00:00:00-04:00    -0.001518  290.97  291.69  290.825  291.25   \n",
       "2018-09-20 00:00:00-04:00     0.000950  292.64  293.94  292.510  293.55   \n",
       "2018-09-21 00:00:00-04:00     0.000902  293.09  293.22  291.810  292.01   \n",
       "\n",
       "                                                  \n",
       "                             volume daily_return  \n",
       "time                                              \n",
       "2018-09-17 00:00:00-04:00  43382137          NaN  \n",
       "2018-09-18 00:00:00-04:00  38573521     0.005392  \n",
       "2018-09-19 00:00:00-04:00  34596543     0.001203  \n",
       "2018-09-20 00:00:00-04:00  54097569     0.007897  \n",
       "2018-09-21 00:00:00-04:00  45805544    -0.005246  "
      ]
     },
     "execution_count": 180,
     "metadata": {},
     "output_type": "execute_result"
    }
   ],
   "source": [
    "# Configure the Monte Carlo simulation to forecast 30 years cumulative returns\n",
    "# The weights should be split 40% to AGG and 60% to SPY.\n",
    "# Run 500 samples.\n",
    "MC_30yr_6040 = MCSimulation(\n",
    "  portfolio_data = portfolio_df,\n",
    "  weights = [.60,.40],\n",
    "  num_simulation = 500,\n",
    "  num_trading_days = 252*30\n",
    ")\n",
    "\n",
    "# Review the simulation input data\n",
    "MC_30yr_6040.portfolio_data.head()"
   ]
  },
  {
   "cell_type": "code",
   "execution_count": 181,
   "metadata": {},
   "outputs": [
    {
     "name": "stdout",
     "output_type": "stream",
     "text": [
      "Running Monte Carlo simulation number 0.\n",
      "Running Monte Carlo simulation number 10.\n",
      "Running Monte Carlo simulation number 20.\n",
      "Running Monte Carlo simulation number 30.\n",
      "Running Monte Carlo simulation number 40.\n",
      "Running Monte Carlo simulation number 50.\n",
      "Running Monte Carlo simulation number 60.\n",
      "Running Monte Carlo simulation number 70.\n",
      "Running Monte Carlo simulation number 80.\n",
      "Running Monte Carlo simulation number 90.\n",
      "Running Monte Carlo simulation number 100.\n"
     ]
    },
    {
     "name": "stderr",
     "output_type": "stream",
     "text": [
      "/Users/zrowgz/Desktop/fintech-workspace/w5/uw-challenge-5/MCForecastTools.py:117: PerformanceWarning: DataFrame is highly fragmented.  This is usually the result of calling `frame.insert` many times, which has poor performance.  Consider joining all columns at once using pd.concat(axis=1) instead.  To get a de-fragmented frame, use `newframe = frame.copy()`\n",
      "  portfolio_cumulative_returns[n] = (1 + sim_df.fillna(0)).cumprod()\n"
     ]
    },
    {
     "name": "stdout",
     "output_type": "stream",
     "text": [
      "Running Monte Carlo simulation number 110.\n",
      "Running Monte Carlo simulation number 120.\n",
      "Running Monte Carlo simulation number 130.\n",
      "Running Monte Carlo simulation number 140.\n",
      "Running Monte Carlo simulation number 150.\n",
      "Running Monte Carlo simulation number 160.\n",
      "Running Monte Carlo simulation number 170.\n",
      "Running Monte Carlo simulation number 180.\n",
      "Running Monte Carlo simulation number 190.\n",
      "Running Monte Carlo simulation number 200.\n",
      "Running Monte Carlo simulation number 210.\n",
      "Running Monte Carlo simulation number 220.\n",
      "Running Monte Carlo simulation number 230.\n",
      "Running Monte Carlo simulation number 240.\n",
      "Running Monte Carlo simulation number 250.\n",
      "Running Monte Carlo simulation number 260.\n",
      "Running Monte Carlo simulation number 270.\n",
      "Running Monte Carlo simulation number 280.\n",
      "Running Monte Carlo simulation number 290.\n",
      "Running Monte Carlo simulation number 300.\n",
      "Running Monte Carlo simulation number 310.\n",
      "Running Monte Carlo simulation number 320.\n",
      "Running Monte Carlo simulation number 330.\n",
      "Running Monte Carlo simulation number 340.\n",
      "Running Monte Carlo simulation number 350.\n",
      "Running Monte Carlo simulation number 360.\n",
      "Running Monte Carlo simulation number 370.\n",
      "Running Monte Carlo simulation number 380.\n",
      "Running Monte Carlo simulation number 390.\n",
      "Running Monte Carlo simulation number 400.\n",
      "Running Monte Carlo simulation number 410.\n",
      "Running Monte Carlo simulation number 420.\n",
      "Running Monte Carlo simulation number 430.\n",
      "Running Monte Carlo simulation number 440.\n",
      "Running Monte Carlo simulation number 450.\n",
      "Running Monte Carlo simulation number 460.\n",
      "Running Monte Carlo simulation number 470.\n",
      "Running Monte Carlo simulation number 480.\n",
      "Running Monte Carlo simulation number 490.\n"
     ]
    },
    {
     "data": {
      "text/html": [
       "<div>\n",
       "<style scoped>\n",
       "    .dataframe tbody tr th:only-of-type {\n",
       "        vertical-align: middle;\n",
       "    }\n",
       "\n",
       "    .dataframe tbody tr th {\n",
       "        vertical-align: top;\n",
       "    }\n",
       "\n",
       "    .dataframe thead th {\n",
       "        text-align: right;\n",
       "    }\n",
       "</style>\n",
       "<table border=\"1\" class=\"dataframe\">\n",
       "  <thead>\n",
       "    <tr style=\"text-align: right;\">\n",
       "      <th></th>\n",
       "      <th>0</th>\n",
       "      <th>1</th>\n",
       "      <th>2</th>\n",
       "      <th>3</th>\n",
       "      <th>4</th>\n",
       "      <th>5</th>\n",
       "      <th>6</th>\n",
       "      <th>7</th>\n",
       "      <th>8</th>\n",
       "      <th>9</th>\n",
       "      <th>...</th>\n",
       "      <th>490</th>\n",
       "      <th>491</th>\n",
       "      <th>492</th>\n",
       "      <th>493</th>\n",
       "      <th>494</th>\n",
       "      <th>495</th>\n",
       "      <th>496</th>\n",
       "      <th>497</th>\n",
       "      <th>498</th>\n",
       "      <th>499</th>\n",
       "    </tr>\n",
       "  </thead>\n",
       "  <tbody>\n",
       "    <tr>\n",
       "      <th>0</th>\n",
       "      <td>1.000000</td>\n",
       "      <td>1.000000</td>\n",
       "      <td>1.000000</td>\n",
       "      <td>1.000000</td>\n",
       "      <td>1.000000</td>\n",
       "      <td>1.000000</td>\n",
       "      <td>1.000000</td>\n",
       "      <td>1.000000</td>\n",
       "      <td>1.000000</td>\n",
       "      <td>1.000000</td>\n",
       "      <td>...</td>\n",
       "      <td>1.000000</td>\n",
       "      <td>1.000000</td>\n",
       "      <td>1.000000</td>\n",
       "      <td>1.000000</td>\n",
       "      <td>1.000000</td>\n",
       "      <td>1.000000</td>\n",
       "      <td>1.000000</td>\n",
       "      <td>1.000000</td>\n",
       "      <td>1.000000</td>\n",
       "      <td>1.000000</td>\n",
       "    </tr>\n",
       "    <tr>\n",
       "      <th>1</th>\n",
       "      <td>1.001348</td>\n",
       "      <td>0.995807</td>\n",
       "      <td>0.990217</td>\n",
       "      <td>1.000965</td>\n",
       "      <td>1.004849</td>\n",
       "      <td>0.994274</td>\n",
       "      <td>1.007064</td>\n",
       "      <td>0.994902</td>\n",
       "      <td>1.005747</td>\n",
       "      <td>0.994606</td>\n",
       "      <td>...</td>\n",
       "      <td>1.008662</td>\n",
       "      <td>1.009588</td>\n",
       "      <td>0.994787</td>\n",
       "      <td>1.000931</td>\n",
       "      <td>1.003920</td>\n",
       "      <td>0.992597</td>\n",
       "      <td>0.995841</td>\n",
       "      <td>1.000005</td>\n",
       "      <td>0.998870</td>\n",
       "      <td>0.999667</td>\n",
       "    </tr>\n",
       "    <tr>\n",
       "      <th>2</th>\n",
       "      <td>1.000982</td>\n",
       "      <td>0.988576</td>\n",
       "      <td>0.993724</td>\n",
       "      <td>0.997369</td>\n",
       "      <td>1.010736</td>\n",
       "      <td>0.999140</td>\n",
       "      <td>1.002091</td>\n",
       "      <td>0.999833</td>\n",
       "      <td>1.007346</td>\n",
       "      <td>0.998953</td>\n",
       "      <td>...</td>\n",
       "      <td>1.010862</td>\n",
       "      <td>1.005357</td>\n",
       "      <td>0.997114</td>\n",
       "      <td>1.000807</td>\n",
       "      <td>1.006300</td>\n",
       "      <td>1.000366</td>\n",
       "      <td>0.997562</td>\n",
       "      <td>0.995159</td>\n",
       "      <td>1.003855</td>\n",
       "      <td>1.003367</td>\n",
       "    </tr>\n",
       "    <tr>\n",
       "      <th>3</th>\n",
       "      <td>1.011152</td>\n",
       "      <td>0.985621</td>\n",
       "      <td>0.995825</td>\n",
       "      <td>1.004438</td>\n",
       "      <td>1.022429</td>\n",
       "      <td>0.992165</td>\n",
       "      <td>0.999786</td>\n",
       "      <td>0.996155</td>\n",
       "      <td>1.013019</td>\n",
       "      <td>1.009850</td>\n",
       "      <td>...</td>\n",
       "      <td>1.015320</td>\n",
       "      <td>1.007656</td>\n",
       "      <td>0.999499</td>\n",
       "      <td>0.998629</td>\n",
       "      <td>0.993110</td>\n",
       "      <td>0.996711</td>\n",
       "      <td>0.999249</td>\n",
       "      <td>0.988119</td>\n",
       "      <td>1.010224</td>\n",
       "      <td>1.013638</td>\n",
       "    </tr>\n",
       "    <tr>\n",
       "      <th>4</th>\n",
       "      <td>1.012630</td>\n",
       "      <td>0.991151</td>\n",
       "      <td>0.996114</td>\n",
       "      <td>0.997476</td>\n",
       "      <td>1.013492</td>\n",
       "      <td>0.995052</td>\n",
       "      <td>0.992157</td>\n",
       "      <td>0.986755</td>\n",
       "      <td>1.030057</td>\n",
       "      <td>0.998353</td>\n",
       "      <td>...</td>\n",
       "      <td>1.011700</td>\n",
       "      <td>1.010429</td>\n",
       "      <td>1.002983</td>\n",
       "      <td>1.001411</td>\n",
       "      <td>0.982867</td>\n",
       "      <td>0.989686</td>\n",
       "      <td>0.993117</td>\n",
       "      <td>0.977189</td>\n",
       "      <td>1.011255</td>\n",
       "      <td>1.020362</td>\n",
       "    </tr>\n",
       "    <tr>\n",
       "      <th>...</th>\n",
       "      <td>...</td>\n",
       "      <td>...</td>\n",
       "      <td>...</td>\n",
       "      <td>...</td>\n",
       "      <td>...</td>\n",
       "      <td>...</td>\n",
       "      <td>...</td>\n",
       "      <td>...</td>\n",
       "      <td>...</td>\n",
       "      <td>...</td>\n",
       "      <td>...</td>\n",
       "      <td>...</td>\n",
       "      <td>...</td>\n",
       "      <td>...</td>\n",
       "      <td>...</td>\n",
       "      <td>...</td>\n",
       "      <td>...</td>\n",
       "      <td>...</td>\n",
       "      <td>...</td>\n",
       "      <td>...</td>\n",
       "      <td>...</td>\n",
       "    </tr>\n",
       "    <tr>\n",
       "      <th>7556</th>\n",
       "      <td>4.119622</td>\n",
       "      <td>19.683167</td>\n",
       "      <td>29.842054</td>\n",
       "      <td>5.273233</td>\n",
       "      <td>24.624776</td>\n",
       "      <td>16.141547</td>\n",
       "      <td>18.525161</td>\n",
       "      <td>20.556476</td>\n",
       "      <td>5.768090</td>\n",
       "      <td>17.849706</td>\n",
       "      <td>...</td>\n",
       "      <td>16.741276</td>\n",
       "      <td>25.788067</td>\n",
       "      <td>11.616272</td>\n",
       "      <td>8.786268</td>\n",
       "      <td>25.334292</td>\n",
       "      <td>22.223560</td>\n",
       "      <td>18.063547</td>\n",
       "      <td>3.068219</td>\n",
       "      <td>4.433793</td>\n",
       "      <td>17.372065</td>\n",
       "    </tr>\n",
       "    <tr>\n",
       "      <th>7557</th>\n",
       "      <td>4.138034</td>\n",
       "      <td>19.649924</td>\n",
       "      <td>29.636609</td>\n",
       "      <td>5.256854</td>\n",
       "      <td>24.949289</td>\n",
       "      <td>16.039667</td>\n",
       "      <td>18.439111</td>\n",
       "      <td>20.513418</td>\n",
       "      <td>5.772515</td>\n",
       "      <td>17.950571</td>\n",
       "      <td>...</td>\n",
       "      <td>16.914489</td>\n",
       "      <td>25.622050</td>\n",
       "      <td>11.584419</td>\n",
       "      <td>8.781233</td>\n",
       "      <td>25.520761</td>\n",
       "      <td>22.142675</td>\n",
       "      <td>18.008198</td>\n",
       "      <td>3.084162</td>\n",
       "      <td>4.448281</td>\n",
       "      <td>17.477635</td>\n",
       "    </tr>\n",
       "    <tr>\n",
       "      <th>7558</th>\n",
       "      <td>4.185583</td>\n",
       "      <td>19.966818</td>\n",
       "      <td>29.381669</td>\n",
       "      <td>5.211771</td>\n",
       "      <td>25.069524</td>\n",
       "      <td>15.878378</td>\n",
       "      <td>18.404980</td>\n",
       "      <td>20.511120</td>\n",
       "      <td>5.726914</td>\n",
       "      <td>17.939639</td>\n",
       "      <td>...</td>\n",
       "      <td>16.776270</td>\n",
       "      <td>25.488215</td>\n",
       "      <td>11.677590</td>\n",
       "      <td>8.823192</td>\n",
       "      <td>25.513909</td>\n",
       "      <td>22.137732</td>\n",
       "      <td>17.825113</td>\n",
       "      <td>3.044733</td>\n",
       "      <td>4.434103</td>\n",
       "      <td>17.578444</td>\n",
       "    </tr>\n",
       "    <tr>\n",
       "      <th>7559</th>\n",
       "      <td>4.203941</td>\n",
       "      <td>19.922159</td>\n",
       "      <td>29.458274</td>\n",
       "      <td>5.218931</td>\n",
       "      <td>25.139125</td>\n",
       "      <td>15.729942</td>\n",
       "      <td>18.612275</td>\n",
       "      <td>20.547282</td>\n",
       "      <td>5.703813</td>\n",
       "      <td>18.105836</td>\n",
       "      <td>...</td>\n",
       "      <td>16.640779</td>\n",
       "      <td>25.683330</td>\n",
       "      <td>11.743004</td>\n",
       "      <td>8.816785</td>\n",
       "      <td>25.545299</td>\n",
       "      <td>22.104087</td>\n",
       "      <td>17.823515</td>\n",
       "      <td>3.065288</td>\n",
       "      <td>4.360701</td>\n",
       "      <td>17.610286</td>\n",
       "    </tr>\n",
       "    <tr>\n",
       "      <th>7560</th>\n",
       "      <td>4.188110</td>\n",
       "      <td>19.825170</td>\n",
       "      <td>29.492007</td>\n",
       "      <td>5.201914</td>\n",
       "      <td>25.333169</td>\n",
       "      <td>15.696018</td>\n",
       "      <td>18.627849</td>\n",
       "      <td>20.575153</td>\n",
       "      <td>5.766730</td>\n",
       "      <td>18.231266</td>\n",
       "      <td>...</td>\n",
       "      <td>16.710335</td>\n",
       "      <td>25.681364</td>\n",
       "      <td>11.720335</td>\n",
       "      <td>8.776556</td>\n",
       "      <td>25.459789</td>\n",
       "      <td>22.259832</td>\n",
       "      <td>17.857304</td>\n",
       "      <td>3.073470</td>\n",
       "      <td>4.338372</td>\n",
       "      <td>17.797704</td>\n",
       "    </tr>\n",
       "  </tbody>\n",
       "</table>\n",
       "<p>7561 rows × 500 columns</p>\n",
       "</div>"
      ],
      "text/plain": [
       "           0          1          2         3          4          5    \\\n",
       "0     1.000000   1.000000   1.000000  1.000000   1.000000   1.000000   \n",
       "1     1.001348   0.995807   0.990217  1.000965   1.004849   0.994274   \n",
       "2     1.000982   0.988576   0.993724  0.997369   1.010736   0.999140   \n",
       "3     1.011152   0.985621   0.995825  1.004438   1.022429   0.992165   \n",
       "4     1.012630   0.991151   0.996114  0.997476   1.013492   0.995052   \n",
       "...        ...        ...        ...       ...        ...        ...   \n",
       "7556  4.119622  19.683167  29.842054  5.273233  24.624776  16.141547   \n",
       "7557  4.138034  19.649924  29.636609  5.256854  24.949289  16.039667   \n",
       "7558  4.185583  19.966818  29.381669  5.211771  25.069524  15.878378   \n",
       "7559  4.203941  19.922159  29.458274  5.218931  25.139125  15.729942   \n",
       "7560  4.188110  19.825170  29.492007  5.201914  25.333169  15.696018   \n",
       "\n",
       "            6          7         8          9    ...        490        491  \\\n",
       "0      1.000000   1.000000  1.000000   1.000000  ...   1.000000   1.000000   \n",
       "1      1.007064   0.994902  1.005747   0.994606  ...   1.008662   1.009588   \n",
       "2      1.002091   0.999833  1.007346   0.998953  ...   1.010862   1.005357   \n",
       "3      0.999786   0.996155  1.013019   1.009850  ...   1.015320   1.007656   \n",
       "4      0.992157   0.986755  1.030057   0.998353  ...   1.011700   1.010429   \n",
       "...         ...        ...       ...        ...  ...        ...        ...   \n",
       "7556  18.525161  20.556476  5.768090  17.849706  ...  16.741276  25.788067   \n",
       "7557  18.439111  20.513418  5.772515  17.950571  ...  16.914489  25.622050   \n",
       "7558  18.404980  20.511120  5.726914  17.939639  ...  16.776270  25.488215   \n",
       "7559  18.612275  20.547282  5.703813  18.105836  ...  16.640779  25.683330   \n",
       "7560  18.627849  20.575153  5.766730  18.231266  ...  16.710335  25.681364   \n",
       "\n",
       "            492       493        494        495        496       497  \\\n",
       "0      1.000000  1.000000   1.000000   1.000000   1.000000  1.000000   \n",
       "1      0.994787  1.000931   1.003920   0.992597   0.995841  1.000005   \n",
       "2      0.997114  1.000807   1.006300   1.000366   0.997562  0.995159   \n",
       "3      0.999499  0.998629   0.993110   0.996711   0.999249  0.988119   \n",
       "4      1.002983  1.001411   0.982867   0.989686   0.993117  0.977189   \n",
       "...         ...       ...        ...        ...        ...       ...   \n",
       "7556  11.616272  8.786268  25.334292  22.223560  18.063547  3.068219   \n",
       "7557  11.584419  8.781233  25.520761  22.142675  18.008198  3.084162   \n",
       "7558  11.677590  8.823192  25.513909  22.137732  17.825113  3.044733   \n",
       "7559  11.743004  8.816785  25.545299  22.104087  17.823515  3.065288   \n",
       "7560  11.720335  8.776556  25.459789  22.259832  17.857304  3.073470   \n",
       "\n",
       "           498        499  \n",
       "0     1.000000   1.000000  \n",
       "1     0.998870   0.999667  \n",
       "2     1.003855   1.003367  \n",
       "3     1.010224   1.013638  \n",
       "4     1.011255   1.020362  \n",
       "...        ...        ...  \n",
       "7556  4.433793  17.372065  \n",
       "7557  4.448281  17.477635  \n",
       "7558  4.434103  17.578444  \n",
       "7559  4.360701  17.610286  \n",
       "7560  4.338372  17.797704  \n",
       "\n",
       "[7561 rows x 500 columns]"
      ]
     },
     "execution_count": 181,
     "metadata": {},
     "output_type": "execute_result"
    }
   ],
   "source": [
    "# Run the Monte Carlo simulation to forecast 30 years cumulative returns\n",
    "MC_30yr_6040.calc_cumulative_return()"
   ]
  },
  {
   "cell_type": "code",
   "execution_count": 182,
   "metadata": {
    "tags": []
   },
   "outputs": [
    {
     "data": {
      "text/plain": [
       "<matplotlib.axes._subplots.AxesSubplot at 0x7f91c20ab3d0>"
      ]
     },
     "execution_count": 182,
     "metadata": {},
     "output_type": "execute_result"
    },
    {
     "data": {
      "image/png": "[encoded data removed]",
      "text/plain": [
       "<Figure size 432x288 with 1 Axes>"
      ]
     },
     "metadata": {
      "needs_background": "light"
     },
     "output_type": "display_data"
    }
   ],
   "source": [
    "# Visualize the 30-year Monte Carlo simulation by creating an\n",
    "# overlay line plot\n",
    "MC_30yr_6040.plot_simulation()"
   ]
  },
  {
   "cell_type": "markdown",
   "metadata": {
    "tags": []
   },
   "source": [
    "#### Step 3: Plot the probability distribution of the Monte Carlo simulation."
   ]
  },
  {
   "cell_type": "code",
   "execution_count": 183,
   "metadata": {},
   "outputs": [
    {
     "data": {
      "text/plain": [
       "<matplotlib.axes._subplots.AxesSubplot at 0x7f91c5ea7950>"
      ]
     },
     "execution_count": 183,
     "metadata": {},
     "output_type": "execute_result"
    },
    {
     "data": {
      "image/png": "[encoded data removed]",
      "text/plain": [
       "<Figure size 432x288 with 1 Axes>"
      ]
     },
     "metadata": {
      "needs_background": "light"
     },
     "output_type": "display_data"
    }
   ],
   "source": [
    "# Visualize the probability distribution of the 30-year Monte Carlo simulation \n",
    "# by plotting a histogram\n",
    "MC_30yr_6040.plot_distribution()"
   ]
  },
  {
   "cell_type": "markdown",
   "metadata": {},
   "source": [
    "#### Step 4: Generate the summary statistics for the Monte Carlo simulation."
   ]
  },
  {
   "cell_type": "code",
   "execution_count": 184,
   "metadata": {},
   "outputs": [
    {
     "data": {
      "text/plain": [
       "count           500.000000\n",
       "mean             14.446598\n",
       "std               8.083385\n",
       "min               2.120510\n",
       "25%               8.794457\n",
       "50%              12.513991\n",
       "75%              17.926599\n",
       "max              49.248828\n",
       "95% CI Lower      4.239840\n",
       "95% CI Upper     36.752724\n",
       "Name: 7560, dtype: float64"
      ]
     },
     "execution_count": 184,
     "metadata": {},
     "output_type": "execute_result"
    }
   ],
   "source": [
    "# Generate summary statistics from the 30-year Monte Carlo simulation results\n",
    "# Save the results as a variable\n",
    "MC_summary_stats = MC_30yr_6040.summarize_cumulative_return()\n",
    "\n",
    "# Review the 30-year Monte Carlo summary statistics\n",
    "MC_summary_stats"
   ]
  },
  {
   "cell_type": "markdown",
   "metadata": {},
   "source": [
    "### Analyze the Retirement Portfolio Forecasts\n",
    "\n",
    "Using the current value of only the stock and bond portion of the member's portfolio and the summary statistics that you generated from the Monte Carlo simulation, answer the following question in your Jupyter notebook:\n",
    "\n",
    "-  What are the lower and upper bounds for the expected value of the portfolio with a 95% confidence interval?\n"
   ]
  },
  {
   "cell_type": "code",
   "execution_count": 195,
   "metadata": {},
   "outputs": [
    {
     "name": "stdout",
     "output_type": "stream",
     "text": [
      "Today's stock/bond portfolio is worth $72383.40.\n"
     ]
    }
   ],
   "source": [
    "# Print the current balance of the stock and bond portion of the members portfolio\n",
    "# Use the previously calculated stock/bond portfolio valuations\n",
    "print(f\"Today's stock/bond portfolio is worth ${total_stocks_bonds:.2f}.\")"
   ]
  },
  {
   "cell_type": "code",
   "execution_count": 186,
   "metadata": {},
   "outputs": [
    {
     "name": "stdout",
     "output_type": "stream",
     "text": [
      "There is a 95% chance that an initial investment of $72383.4 in the portfolio over the next 5 years will end within in the range of $ 306894.03 and $ 2660287.10.\n"
     ]
    }
   ],
   "source": [
    "# Use the lower and upper `95%` confidence intervals to calculate the range of \n",
    "# the possible outcomes for the current stock/bond portfolio\n",
    "ci_lower_thirty_cumulative_return = MC_summary_stats[8] * total_stocks_bonds\n",
    "ci_upper_thirty_cumulative_return = MC_summary_stats[9] * total_stocks_bonds\n",
    "\n",
    "# Print the result of your calculations\n",
    "print(f\"There is a 95% chance that an initial investment of ${total_stocks_bonds} in the portfolio\"\n",
    "  f\" over the next 5 years will end within in the range of\"\n",
    "  f\" ${ci_lower_thirty_cumulative_return: .2f} and ${ci_upper_thirty_cumulative_return: .2f}.\")"
   ]
  },
  {
   "cell_type": "markdown",
   "metadata": {},
   "source": [
    "### Forecast Cumulative Returns in 10 Years\n",
    "\n",
    "The CTO of the credit union is impressed with your work on these planning tools but wonders if 30 years is a long time to wait until retirement. So, your next task is to adjust the retirement portfolio and run a new Monte Carlo simulation to find out if the changes will allow members to retire earlier.\n",
    "\n",
    "For this new Monte Carlo simulation, do the following: \n",
    "\n",
    "- Forecast the cumulative returns for 10 years from now. Because of the shortened investment horizon (30 years to 10 years), the portfolio needs to invest more heavily in the riskier asset&mdash;that is, stock&mdash;to help accumulate wealth for retirement. \n",
    "\n",
    "- Adjust the weights of the retirement portfolio so that the composition for the Monte Carlo simulation consists of 20% bonds and 80% stocks. \n",
    "\n",
    "- Run the simulation over 500 samples, and use the same data that the API call to Alpaca generated.\n",
    "\n",
    "- Based on the new Monte Carlo simulation, answer the following questions in your Jupyter notebook:\n",
    "\n",
    "    - Using the current value of only the stock and bond portion of the member's portfolio and the summary statistics that you generated from the new Monte Carlo simulation, what are the lower and upper bounds for the expected value of the portfolio (with the new weights) with a 95% confidence interval?\n",
    "\n",
    "    - Will weighting the portfolio more heavily toward stocks allow the credit union members to retire after only 10 years?\n"
   ]
  },
  {
   "cell_type": "code",
   "execution_count": 210,
   "metadata": {},
   "outputs": [
    {
     "data": {
      "text/html": [
       "<div>\n",
       "<style scoped>\n",
       "    .dataframe tbody tr th:only-of-type {\n",
       "        vertical-align: middle;\n",
       "    }\n",
       "\n",
       "    .dataframe tbody tr th {\n",
       "        vertical-align: top;\n",
       "    }\n",
       "\n",
       "    .dataframe thead tr th {\n",
       "        text-align: left;\n",
       "    }\n",
       "\n",
       "    .dataframe thead tr:last-of-type th {\n",
       "        text-align: right;\n",
       "    }\n",
       "</style>\n",
       "<table border=\"1\" class=\"dataframe\">\n",
       "  <thead>\n",
       "    <tr>\n",
       "      <th></th>\n",
       "      <th colspan=\"6\" halign=\"left\">AGG</th>\n",
       "      <th colspan=\"6\" halign=\"left\">SPY</th>\n",
       "    </tr>\n",
       "    <tr>\n",
       "      <th></th>\n",
       "      <th>open</th>\n",
       "      <th>high</th>\n",
       "      <th>low</th>\n",
       "      <th>close</th>\n",
       "      <th>volume</th>\n",
       "      <th>daily_return</th>\n",
       "      <th>open</th>\n",
       "      <th>high</th>\n",
       "      <th>low</th>\n",
       "      <th>close</th>\n",
       "      <th>volume</th>\n",
       "      <th>daily_return</th>\n",
       "    </tr>\n",
       "    <tr>\n",
       "      <th>time</th>\n",
       "      <th></th>\n",
       "      <th></th>\n",
       "      <th></th>\n",
       "      <th></th>\n",
       "      <th></th>\n",
       "      <th></th>\n",
       "      <th></th>\n",
       "      <th></th>\n",
       "      <th></th>\n",
       "      <th></th>\n",
       "      <th></th>\n",
       "      <th></th>\n",
       "    </tr>\n",
       "  </thead>\n",
       "  <tbody>\n",
       "    <tr>\n",
       "      <th>2018-09-17 00:00:00-04:00</th>\n",
       "      <td>105.65</td>\n",
       "      <td>105.78</td>\n",
       "      <td>105.6000</td>\n",
       "      <td>105.660</td>\n",
       "      <td>5198364.0</td>\n",
       "      <td>NaN</td>\n",
       "      <td>290.82</td>\n",
       "      <td>290.86</td>\n",
       "      <td>289.030</td>\n",
       "      <td>289.34</td>\n",
       "      <td>43382137</td>\n",
       "      <td>NaN</td>\n",
       "    </tr>\n",
       "    <tr>\n",
       "      <th>2018-09-18 00:00:00-04:00</th>\n",
       "      <td>105.59</td>\n",
       "      <td>105.60</td>\n",
       "      <td>105.3900</td>\n",
       "      <td>105.430</td>\n",
       "      <td>2194556.0</td>\n",
       "      <td>-0.002177</td>\n",
       "      <td>289.57</td>\n",
       "      <td>291.58</td>\n",
       "      <td>289.550</td>\n",
       "      <td>290.90</td>\n",
       "      <td>38573521</td>\n",
       "      <td>0.005392</td>\n",
       "    </tr>\n",
       "    <tr>\n",
       "      <th>2018-09-19 00:00:00-04:00</th>\n",
       "      <td>105.42</td>\n",
       "      <td>105.43</td>\n",
       "      <td>105.2200</td>\n",
       "      <td>105.270</td>\n",
       "      <td>2605609.0</td>\n",
       "      <td>-0.001518</td>\n",
       "      <td>290.97</td>\n",
       "      <td>291.69</td>\n",
       "      <td>290.825</td>\n",
       "      <td>291.25</td>\n",
       "      <td>34596543</td>\n",
       "      <td>0.001203</td>\n",
       "    </tr>\n",
       "    <tr>\n",
       "      <th>2018-09-20 00:00:00-04:00</th>\n",
       "      <td>105.23</td>\n",
       "      <td>105.45</td>\n",
       "      <td>105.2300</td>\n",
       "      <td>105.370</td>\n",
       "      <td>2627111.0</td>\n",
       "      <td>0.000950</td>\n",
       "      <td>292.64</td>\n",
       "      <td>293.94</td>\n",
       "      <td>292.510</td>\n",
       "      <td>293.55</td>\n",
       "      <td>54097569</td>\n",
       "      <td>0.007897</td>\n",
       "    </tr>\n",
       "    <tr>\n",
       "      <th>2018-09-21 00:00:00-04:00</th>\n",
       "      <td>105.34</td>\n",
       "      <td>105.47</td>\n",
       "      <td>105.3232</td>\n",
       "      <td>105.465</td>\n",
       "      <td>2420806.0</td>\n",
       "      <td>0.000902</td>\n",
       "      <td>293.09</td>\n",
       "      <td>293.22</td>\n",
       "      <td>291.810</td>\n",
       "      <td>292.01</td>\n",
       "      <td>45805544</td>\n",
       "      <td>-0.005246</td>\n",
       "    </tr>\n",
       "  </tbody>\n",
       "</table>\n",
       "</div>"
      ],
      "text/plain": [
       "                              AGG                                        \\\n",
       "                             open    high       low    close     volume   \n",
       "time                                                                      \n",
       "2018-09-17 00:00:00-04:00  105.65  105.78  105.6000  105.660  5198364.0   \n",
       "2018-09-18 00:00:00-04:00  105.59  105.60  105.3900  105.430  2194556.0   \n",
       "2018-09-19 00:00:00-04:00  105.42  105.43  105.2200  105.270  2605609.0   \n",
       "2018-09-20 00:00:00-04:00  105.23  105.45  105.2300  105.370  2627111.0   \n",
       "2018-09-21 00:00:00-04:00  105.34  105.47  105.3232  105.465  2420806.0   \n",
       "\n",
       "                                           SPY                           \\\n",
       "                          daily_return    open    high      low   close   \n",
       "time                                                                      \n",
       "2018-09-17 00:00:00-04:00          NaN  290.82  290.86  289.030  289.34   \n",
       "2018-09-18 00:00:00-04:00    -0.002177  289.57  291.58  289.550  290.90   \n",
       "2018-09-19 00:00:00-04:00    -0.001518  290.97  291.69  290.825  291.25   \n",
       "2018-09-20 00:00:00-04:00     0.000950  292.64  293.94  292.510  293.55   \n",
       "2018-09-21 00:00:00-04:00     0.000902  293.09  293.22  291.810  292.01   \n",
       "\n",
       "                                                  \n",
       "                             volume daily_return  \n",
       "time                                              \n",
       "2018-09-17 00:00:00-04:00  43382137          NaN  \n",
       "2018-09-18 00:00:00-04:00  38573521     0.005392  \n",
       "2018-09-19 00:00:00-04:00  34596543     0.001203  \n",
       "2018-09-20 00:00:00-04:00  54097569     0.007897  \n",
       "2018-09-21 00:00:00-04:00  45805544    -0.005246  "
      ]
     },
     "execution_count": 210,
     "metadata": {},
     "output_type": "execute_result"
    }
   ],
   "source": [
    "# Configure a Monte Carlo simulation to forecast 10 years cumulative returns\n",
    "# The weights should be split 20% to AGG and 80% to SPY.\n",
    "# Run 500 samples.\n",
    "MC_10yr_8020 = MCSimulation(\n",
    "  portfolio_data = portfolio_df,\n",
    "  weights = [.80,.20],\n",
    "  num_simulation = 500,\n",
    "  num_trading_days = 252*10\n",
    ")\n",
    "\n",
    "# Review the simulation input data\n",
    "MC_10yr_8020.portfolio_data.head()"
   ]
  },
  {
   "cell_type": "code",
   "execution_count": 211,
   "metadata": {},
   "outputs": [
    {
     "name": "stdout",
     "output_type": "stream",
     "text": [
      "Running Monte Carlo simulation number 0.\n",
      "Running Monte Carlo simulation number 10.\n",
      "Running Monte Carlo simulation number 20.\n",
      "Running Monte Carlo simulation number 30.\n",
      "Running Monte Carlo simulation number 40.\n",
      "Running Monte Carlo simulation number 50.\n",
      "Running Monte Carlo simulation number 60.\n",
      "Running Monte Carlo simulation number 70.\n",
      "Running Monte Carlo simulation number 80.\n",
      "Running Monte Carlo simulation number 90.\n",
      "Running Monte Carlo simulation number 100.\n"
     ]
    },
    {
     "name": "stderr",
     "output_type": "stream",
     "text": [
      "/Users/zrowgz/Desktop/fintech-workspace/w5/uw-challenge-5/MCForecastTools.py:117: PerformanceWarning: DataFrame is highly fragmented.  This is usually the result of calling `frame.insert` many times, which has poor performance.  Consider joining all columns at once using pd.concat(axis=1) instead.  To get a de-fragmented frame, use `newframe = frame.copy()`\n",
      "  portfolio_cumulative_returns[n] = (1 + sim_df.fillna(0)).cumprod()\n"
     ]
    },
    {
     "name": "stdout",
     "output_type": "stream",
     "text": [
      "Running Monte Carlo simulation number 110.\n",
      "Running Monte Carlo simulation number 120.\n",
      "Running Monte Carlo simulation number 130.\n",
      "Running Monte Carlo simulation number 140.\n",
      "Running Monte Carlo simulation number 150.\n",
      "Running Monte Carlo simulation number 160.\n",
      "Running Monte Carlo simulation number 170.\n",
      "Running Monte Carlo simulation number 180.\n",
      "Running Monte Carlo simulation number 190.\n",
      "Running Monte Carlo simulation number 200.\n",
      "Running Monte Carlo simulation number 210.\n",
      "Running Monte Carlo simulation number 220.\n",
      "Running Monte Carlo simulation number 230.\n",
      "Running Monte Carlo simulation number 240.\n",
      "Running Monte Carlo simulation number 250.\n",
      "Running Monte Carlo simulation number 260.\n",
      "Running Monte Carlo simulation number 270.\n",
      "Running Monte Carlo simulation number 280.\n",
      "Running Monte Carlo simulation number 290.\n",
      "Running Monte Carlo simulation number 300.\n",
      "Running Monte Carlo simulation number 310.\n",
      "Running Monte Carlo simulation number 320.\n",
      "Running Monte Carlo simulation number 330.\n",
      "Running Monte Carlo simulation number 340.\n",
      "Running Monte Carlo simulation number 350.\n",
      "Running Monte Carlo simulation number 360.\n",
      "Running Monte Carlo simulation number 370.\n",
      "Running Monte Carlo simulation number 380.\n",
      "Running Monte Carlo simulation number 390.\n",
      "Running Monte Carlo simulation number 400.\n",
      "Running Monte Carlo simulation number 410.\n",
      "Running Monte Carlo simulation number 420.\n",
      "Running Monte Carlo simulation number 430.\n",
      "Running Monte Carlo simulation number 440.\n",
      "Running Monte Carlo simulation number 450.\n",
      "Running Monte Carlo simulation number 460.\n",
      "Running Monte Carlo simulation number 470.\n",
      "Running Monte Carlo simulation number 480.\n",
      "Running Monte Carlo simulation number 490.\n"
     ]
    },
    {
     "data": {
      "text/html": [
       "<div>\n",
       "<style scoped>\n",
       "    .dataframe tbody tr th:only-of-type {\n",
       "        vertical-align: middle;\n",
       "    }\n",
       "\n",
       "    .dataframe tbody tr th {\n",
       "        vertical-align: top;\n",
       "    }\n",
       "\n",
       "    .dataframe thead th {\n",
       "        text-align: right;\n",
       "    }\n",
       "</style>\n",
       "<table border=\"1\" class=\"dataframe\">\n",
       "  <thead>\n",
       "    <tr style=\"text-align: right;\">\n",
       "      <th></th>\n",
       "      <th>0</th>\n",
       "      <th>1</th>\n",
       "      <th>2</th>\n",
       "      <th>3</th>\n",
       "      <th>4</th>\n",
       "      <th>5</th>\n",
       "      <th>6</th>\n",
       "      <th>7</th>\n",
       "      <th>8</th>\n",
       "      <th>9</th>\n",
       "      <th>...</th>\n",
       "      <th>490</th>\n",
       "      <th>491</th>\n",
       "      <th>492</th>\n",
       "      <th>493</th>\n",
       "      <th>494</th>\n",
       "      <th>495</th>\n",
       "      <th>496</th>\n",
       "      <th>497</th>\n",
       "      <th>498</th>\n",
       "      <th>499</th>\n",
       "    </tr>\n",
       "  </thead>\n",
       "  <tbody>\n",
       "    <tr>\n",
       "      <th>0</th>\n",
       "      <td>1.000000</td>\n",
       "      <td>1.000000</td>\n",
       "      <td>1.000000</td>\n",
       "      <td>1.000000</td>\n",
       "      <td>1.000000</td>\n",
       "      <td>1.000000</td>\n",
       "      <td>1.000000</td>\n",
       "      <td>1.000000</td>\n",
       "      <td>1.000000</td>\n",
       "      <td>1.000000</td>\n",
       "      <td>...</td>\n",
       "      <td>1.000000</td>\n",
       "      <td>1.000000</td>\n",
       "      <td>1.000000</td>\n",
       "      <td>1.000000</td>\n",
       "      <td>1.000000</td>\n",
       "      <td>1.000000</td>\n",
       "      <td>1.000000</td>\n",
       "      <td>1.000000</td>\n",
       "      <td>1.000000</td>\n",
       "      <td>1.000000</td>\n",
       "    </tr>\n",
       "    <tr>\n",
       "      <th>1</th>\n",
       "      <td>0.998305</td>\n",
       "      <td>1.002969</td>\n",
       "      <td>0.995676</td>\n",
       "      <td>1.004266</td>\n",
       "      <td>0.999969</td>\n",
       "      <td>0.998580</td>\n",
       "      <td>0.998059</td>\n",
       "      <td>1.000008</td>\n",
       "      <td>1.002796</td>\n",
       "      <td>1.001287</td>\n",
       "      <td>...</td>\n",
       "      <td>0.997528</td>\n",
       "      <td>0.999180</td>\n",
       "      <td>1.008244</td>\n",
       "      <td>0.999455</td>\n",
       "      <td>1.004351</td>\n",
       "      <td>1.006965</td>\n",
       "      <td>1.001302</td>\n",
       "      <td>0.992041</td>\n",
       "      <td>1.000839</td>\n",
       "      <td>1.004875</td>\n",
       "    </tr>\n",
       "    <tr>\n",
       "      <th>2</th>\n",
       "      <td>0.991840</td>\n",
       "      <td>1.000328</td>\n",
       "      <td>0.995541</td>\n",
       "      <td>1.006843</td>\n",
       "      <td>0.997260</td>\n",
       "      <td>1.001047</td>\n",
       "      <td>0.999959</td>\n",
       "      <td>0.999169</td>\n",
       "      <td>1.002103</td>\n",
       "      <td>1.008133</td>\n",
       "      <td>...</td>\n",
       "      <td>0.992947</td>\n",
       "      <td>1.004362</td>\n",
       "      <td>1.014996</td>\n",
       "      <td>0.993693</td>\n",
       "      <td>1.002024</td>\n",
       "      <td>0.999424</td>\n",
       "      <td>1.007207</td>\n",
       "      <td>0.987932</td>\n",
       "      <td>1.002112</td>\n",
       "      <td>1.007388</td>\n",
       "    </tr>\n",
       "    <tr>\n",
       "      <th>3</th>\n",
       "      <td>0.998946</td>\n",
       "      <td>0.990288</td>\n",
       "      <td>0.983233</td>\n",
       "      <td>1.006159</td>\n",
       "      <td>1.000406</td>\n",
       "      <td>1.006590</td>\n",
       "      <td>1.004244</td>\n",
       "      <td>0.997527</td>\n",
       "      <td>1.002825</td>\n",
       "      <td>1.006662</td>\n",
       "      <td>...</td>\n",
       "      <td>0.992502</td>\n",
       "      <td>1.009133</td>\n",
       "      <td>1.013666</td>\n",
       "      <td>0.991433</td>\n",
       "      <td>0.996033</td>\n",
       "      <td>1.002551</td>\n",
       "      <td>1.003364</td>\n",
       "      <td>0.986186</td>\n",
       "      <td>1.004706</td>\n",
       "      <td>1.001655</td>\n",
       "    </tr>\n",
       "    <tr>\n",
       "      <th>4</th>\n",
       "      <td>0.997246</td>\n",
       "      <td>0.991000</td>\n",
       "      <td>0.974491</td>\n",
       "      <td>1.006757</td>\n",
       "      <td>0.991209</td>\n",
       "      <td>1.004506</td>\n",
       "      <td>1.006495</td>\n",
       "      <td>0.996931</td>\n",
       "      <td>1.000840</td>\n",
       "      <td>0.997374</td>\n",
       "      <td>...</td>\n",
       "      <td>0.995217</td>\n",
       "      <td>1.004234</td>\n",
       "      <td>1.014420</td>\n",
       "      <td>0.992619</td>\n",
       "      <td>1.000638</td>\n",
       "      <td>1.004161</td>\n",
       "      <td>1.000497</td>\n",
       "      <td>0.981734</td>\n",
       "      <td>1.007098</td>\n",
       "      <td>1.008676</td>\n",
       "    </tr>\n",
       "    <tr>\n",
       "      <th>...</th>\n",
       "      <td>...</td>\n",
       "      <td>...</td>\n",
       "      <td>...</td>\n",
       "      <td>...</td>\n",
       "      <td>...</td>\n",
       "      <td>...</td>\n",
       "      <td>...</td>\n",
       "      <td>...</td>\n",
       "      <td>...</td>\n",
       "      <td>...</td>\n",
       "      <td>...</td>\n",
       "      <td>...</td>\n",
       "      <td>...</td>\n",
       "      <td>...</td>\n",
       "      <td>...</td>\n",
       "      <td>...</td>\n",
       "      <td>...</td>\n",
       "      <td>...</td>\n",
       "      <td>...</td>\n",
       "      <td>...</td>\n",
       "      <td>...</td>\n",
       "    </tr>\n",
       "    <tr>\n",
       "      <th>2516</th>\n",
       "      <td>1.799132</td>\n",
       "      <td>2.018423</td>\n",
       "      <td>1.584701</td>\n",
       "      <td>1.678951</td>\n",
       "      <td>1.786033</td>\n",
       "      <td>1.656019</td>\n",
       "      <td>1.841287</td>\n",
       "      <td>2.082904</td>\n",
       "      <td>3.059388</td>\n",
       "      <td>2.154815</td>\n",
       "      <td>...</td>\n",
       "      <td>2.546644</td>\n",
       "      <td>1.820496</td>\n",
       "      <td>1.876305</td>\n",
       "      <td>1.763558</td>\n",
       "      <td>1.311950</td>\n",
       "      <td>2.044951</td>\n",
       "      <td>1.709915</td>\n",
       "      <td>2.116720</td>\n",
       "      <td>3.080444</td>\n",
       "      <td>1.763243</td>\n",
       "    </tr>\n",
       "    <tr>\n",
       "      <th>2517</th>\n",
       "      <td>1.800101</td>\n",
       "      <td>2.033532</td>\n",
       "      <td>1.588533</td>\n",
       "      <td>1.681820</td>\n",
       "      <td>1.784512</td>\n",
       "      <td>1.659435</td>\n",
       "      <td>1.837165</td>\n",
       "      <td>2.076719</td>\n",
       "      <td>3.061359</td>\n",
       "      <td>2.162563</td>\n",
       "      <td>...</td>\n",
       "      <td>2.557302</td>\n",
       "      <td>1.826085</td>\n",
       "      <td>1.876834</td>\n",
       "      <td>1.767582</td>\n",
       "      <td>1.319813</td>\n",
       "      <td>2.054153</td>\n",
       "      <td>1.704640</td>\n",
       "      <td>2.111650</td>\n",
       "      <td>3.091718</td>\n",
       "      <td>1.756884</td>\n",
       "    </tr>\n",
       "    <tr>\n",
       "      <th>2518</th>\n",
       "      <td>1.795898</td>\n",
       "      <td>2.032708</td>\n",
       "      <td>1.588788</td>\n",
       "      <td>1.681415</td>\n",
       "      <td>1.777645</td>\n",
       "      <td>1.651836</td>\n",
       "      <td>1.839372</td>\n",
       "      <td>2.093709</td>\n",
       "      <td>3.058732</td>\n",
       "      <td>2.145232</td>\n",
       "      <td>...</td>\n",
       "      <td>2.566302</td>\n",
       "      <td>1.831700</td>\n",
       "      <td>1.870382</td>\n",
       "      <td>1.771186</td>\n",
       "      <td>1.316008</td>\n",
       "      <td>2.053186</td>\n",
       "      <td>1.692507</td>\n",
       "      <td>2.126647</td>\n",
       "      <td>3.088936</td>\n",
       "      <td>1.765822</td>\n",
       "    </tr>\n",
       "    <tr>\n",
       "      <th>2519</th>\n",
       "      <td>1.804098</td>\n",
       "      <td>2.027062</td>\n",
       "      <td>1.585344</td>\n",
       "      <td>1.691842</td>\n",
       "      <td>1.779477</td>\n",
       "      <td>1.649775</td>\n",
       "      <td>1.841791</td>\n",
       "      <td>2.090998</td>\n",
       "      <td>3.052030</td>\n",
       "      <td>2.146788</td>\n",
       "      <td>...</td>\n",
       "      <td>2.573045</td>\n",
       "      <td>1.835571</td>\n",
       "      <td>1.873804</td>\n",
       "      <td>1.786424</td>\n",
       "      <td>1.302219</td>\n",
       "      <td>2.070114</td>\n",
       "      <td>1.687792</td>\n",
       "      <td>2.135464</td>\n",
       "      <td>3.091672</td>\n",
       "      <td>1.763567</td>\n",
       "    </tr>\n",
       "    <tr>\n",
       "      <th>2520</th>\n",
       "      <td>1.801472</td>\n",
       "      <td>2.030413</td>\n",
       "      <td>1.578893</td>\n",
       "      <td>1.690145</td>\n",
       "      <td>1.785071</td>\n",
       "      <td>1.660513</td>\n",
       "      <td>1.832149</td>\n",
       "      <td>2.076195</td>\n",
       "      <td>3.055724</td>\n",
       "      <td>2.130388</td>\n",
       "      <td>...</td>\n",
       "      <td>2.565444</td>\n",
       "      <td>1.839881</td>\n",
       "      <td>1.877254</td>\n",
       "      <td>1.788706</td>\n",
       "      <td>1.305124</td>\n",
       "      <td>2.076328</td>\n",
       "      <td>1.681720</td>\n",
       "      <td>2.129489</td>\n",
       "      <td>3.099930</td>\n",
       "      <td>1.764952</td>\n",
       "    </tr>\n",
       "  </tbody>\n",
       "</table>\n",
       "<p>2521 rows × 500 columns</p>\n",
       "</div>"
      ],
      "text/plain": [
       "           0         1         2         3         4         5         6    \\\n",
       "0     1.000000  1.000000  1.000000  1.000000  1.000000  1.000000  1.000000   \n",
       "1     0.998305  1.002969  0.995676  1.004266  0.999969  0.998580  0.998059   \n",
       "2     0.991840  1.000328  0.995541  1.006843  0.997260  1.001047  0.999959   \n",
       "3     0.998946  0.990288  0.983233  1.006159  1.000406  1.006590  1.004244   \n",
       "4     0.997246  0.991000  0.974491  1.006757  0.991209  1.004506  1.006495   \n",
       "...        ...       ...       ...       ...       ...       ...       ...   \n",
       "2516  1.799132  2.018423  1.584701  1.678951  1.786033  1.656019  1.841287   \n",
       "2517  1.800101  2.033532  1.588533  1.681820  1.784512  1.659435  1.837165   \n",
       "2518  1.795898  2.032708  1.588788  1.681415  1.777645  1.651836  1.839372   \n",
       "2519  1.804098  2.027062  1.585344  1.691842  1.779477  1.649775  1.841791   \n",
       "2520  1.801472  2.030413  1.578893  1.690145  1.785071  1.660513  1.832149   \n",
       "\n",
       "           7         8         9    ...       490       491       492  \\\n",
       "0     1.000000  1.000000  1.000000  ...  1.000000  1.000000  1.000000   \n",
       "1     1.000008  1.002796  1.001287  ...  0.997528  0.999180  1.008244   \n",
       "2     0.999169  1.002103  1.008133  ...  0.992947  1.004362  1.014996   \n",
       "3     0.997527  1.002825  1.006662  ...  0.992502  1.009133  1.013666   \n",
       "4     0.996931  1.000840  0.997374  ...  0.995217  1.004234  1.014420   \n",
       "...        ...       ...       ...  ...       ...       ...       ...   \n",
       "2516  2.082904  3.059388  2.154815  ...  2.546644  1.820496  1.876305   \n",
       "2517  2.076719  3.061359  2.162563  ...  2.557302  1.826085  1.876834   \n",
       "2518  2.093709  3.058732  2.145232  ...  2.566302  1.831700  1.870382   \n",
       "2519  2.090998  3.052030  2.146788  ...  2.573045  1.835571  1.873804   \n",
       "2520  2.076195  3.055724  2.130388  ...  2.565444  1.839881  1.877254   \n",
       "\n",
       "           493       494       495       496       497       498       499  \n",
       "0     1.000000  1.000000  1.000000  1.000000  1.000000  1.000000  1.000000  \n",
       "1     0.999455  1.004351  1.006965  1.001302  0.992041  1.000839  1.004875  \n",
       "2     0.993693  1.002024  0.999424  1.007207  0.987932  1.002112  1.007388  \n",
       "3     0.991433  0.996033  1.002551  1.003364  0.986186  1.004706  1.001655  \n",
       "4     0.992619  1.000638  1.004161  1.000497  0.981734  1.007098  1.008676  \n",
       "...        ...       ...       ...       ...       ...       ...       ...  \n",
       "2516  1.763558  1.311950  2.044951  1.709915  2.116720  3.080444  1.763243  \n",
       "2517  1.767582  1.319813  2.054153  1.704640  2.111650  3.091718  1.756884  \n",
       "2518  1.771186  1.316008  2.053186  1.692507  2.126647  3.088936  1.765822  \n",
       "2519  1.786424  1.302219  2.070114  1.687792  2.135464  3.091672  1.763567  \n",
       "2520  1.788706  1.305124  2.076328  1.681720  2.129489  3.099930  1.764952  \n",
       "\n",
       "[2521 rows x 500 columns]"
      ]
     },
     "execution_count": 211,
     "metadata": {},
     "output_type": "execute_result"
    }
   ],
   "source": [
    "# Run the Monte Carlo simulation to forecast 10 years cumulative returns\n",
    "MC_10yr_8020.calc_cumulative_return()"
   ]
  },
  {
   "cell_type": "code",
   "execution_count": 213,
   "metadata": {},
   "outputs": [
    {
     "data": {
      "text/plain": [
       "<matplotlib.axes._subplots.AxesSubplot at 0x7f916b4d9a50>"
      ]
     },
     "execution_count": 213,
     "metadata": {},
     "output_type": "execute_result"
    },
    {
     "data": {
      "image/png": "[encoded data removed]",
      "text/plain": [
       "<Figure size 432x288 with 1 Axes>"
      ]
     },
     "metadata": {
      "needs_background": "light"
     },
     "output_type": "display_data"
    }
   ],
   "source": [
    "# Visualize the 10-year Monte Carlo simulation by creating an\n",
    "# overlay line plot\n",
    "MC_10yr_8020.plot_simulation()"
   ]
  },
  {
   "cell_type": "code",
   "execution_count": 214,
   "metadata": {},
   "outputs": [
    {
     "data": {
      "text/plain": [
       "<matplotlib.axes._subplots.AxesSubplot at 0x7f91570fae90>"
      ]
     },
     "execution_count": 214,
     "metadata": {},
     "output_type": "execute_result"
    },
    {
     "data": {
      "image/png": "[encoded data removed]",
      "text/plain": [
       "<Figure size 432x288 with 1 Axes>"
      ]
     },
     "metadata": {
      "needs_background": "light"
     },
     "output_type": "display_data"
    }
   ],
   "source": [
    "# Visualize the probability distribution of the 10-year Monte Carlo simulation \n",
    "# by plotting a histogram\n",
    "# YOUR CODE HERE\n",
    "MC_10yr_8020.plot_distribution()"
   ]
  },
  {
   "cell_type": "code",
   "execution_count": 215,
   "metadata": {},
   "outputs": [
    {
     "data": {
      "text/plain": [
       "count           500.000000\n",
       "mean              1.863962\n",
       "std               0.389992\n",
       "min               0.990053\n",
       "25%               1.593453\n",
       "50%               1.814474\n",
       "75%               2.102018\n",
       "max               3.174303\n",
       "95% CI Lower      1.214156\n",
       "95% CI Upper      2.827680\n",
       "Name: 2520, dtype: float64"
      ]
     },
     "execution_count": 215,
     "metadata": {},
     "output_type": "execute_result"
    }
   ],
   "source": [
    "# Generate summary statistics from the 10-year Monte Carlo simulation results\n",
    "# Save the results as a variable\n",
    "MC_8020_stats = MC_10yr_8020.summarize_cumulative_return()\n",
    "\n",
    "# Review the 10-year Monte Carlo summary statistics\n",
    "MC_8020_stats"
   ]
  },
  {
   "cell_type": "markdown",
   "metadata": {},
   "source": [
    "### Answer the following questions:"
   ]
  },
  {
   "cell_type": "markdown",
   "metadata": {},
   "source": [
    "#### Question: Using the current value of only the stock and bond portion of the member's portfolio and the summary statistics that you generated from the new Monte Carlo simulation, what are the lower and upper bounds for the expected value of the portfolio (with the new weights) with a 95% confidence interval?"
   ]
  },
  {
   "cell_type": "code",
   "execution_count": 216,
   "metadata": {},
   "outputs": [
    {
     "name": "stdout",
     "output_type": "stream",
     "text": [
      "The starting balance of your stock/bond portfolio is $72383.4.\n"
     ]
    }
   ],
   "source": [
    "# Print the current balance of the stock and bond portion of the members portfolio\n",
    "print(f\"The starting balance of your stock/bond portfolio is ${total_stocks_bonds}.\")"
   ]
  },
  {
   "cell_type": "code",
   "execution_count": 217,
   "metadata": {},
   "outputs": [
    {
     "name": "stdout",
     "output_type": "stream",
     "text": [
      "There is a 95% chance that an initial investment of $72383.4 in the portfolio over the next 5 years will end within in the range of $ 87884.74 and $ 204677.10.\n"
     ]
    }
   ],
   "source": [
    "# Use the lower and upper `95%` confidence intervals to calculate the range of the possible outcomes for the current stock/bond portfolio\n",
    "ci_lower_ten_cumulative_return = MC_8020_stats[8] * total_stocks_bonds\n",
    "ci_upper_ten_cumulative_return = MC_8020_stats[9] * total_stocks_bonds\n",
    "\n",
    "# Print the result of your calculations\n",
    "print(f\"There is a 95% chance that an initial investment of ${total_stocks_bonds} in the portfolio\"\n",
    "  f\" over the next 5 years will end within in the range of\"\n",
    "  f\" ${ci_lower_ten_cumulative_return: .2f} and ${ci_upper_ten_cumulative_return: .2f}.\")"
   ]
  },
  {
   "cell_type": "markdown",
   "metadata": {},
   "source": [
    "#### Question: Will weighting the portfolio more heavily to stocks allow the credit union members to retire after only 10 years?"
   ]
  },
  {
   "cell_type": "raw",
   "metadata": {},
   "source": [
    "**Answer** # YOUR ANSWER HERE"
   ]
  },
  {
   "cell_type": "markdown",
   "metadata": {},
   "source": [
    "Questions for office hours: \n",
    "does what order does the forecaster apply the tickers? Is it the same as the list? in this case, spy then agg, or is it the same as what is displayed when you get the portfolio_data.head?\n",
    "It sure seems like the more bonds, the better the return, which doesn't make sense...,\n",
    "\n",
    "also, questions from the notepad."
   ]
  }
 ],
 "metadata": {
  "kernelspec": {
   "display_name": "Python (dev)",
   "language": "python",
   "name": "dev"
  },
  "language_info": {
   "codemirror_mode": {
    "name": "ipython",
    "version": 3
   },
   "file_extension": ".py",
   "mimetype": "text/x-python",
   "name": "python",
   "nbconvert_exporter": "python",
   "pygments_lexer": "ipython3",
   "version": "3.7.11"
  }
 },
 "nbformat": 4,
 "nbformat_minor": 4
}
